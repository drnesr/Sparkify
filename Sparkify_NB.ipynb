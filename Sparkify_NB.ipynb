{
    "nbformat_minor": 1, 
    "cells": [
        {
            "execution_count": 1, 
            "cell_type": "code", 
            "metadata": {}, 
            "outputs": [
                {
                    "output_type": "stream", 
                    "name": "stdout", 
                    "text": "Waiting for a Spark session to start...\nSpark Initialization Done! ApplicationId = app-20190313080750-0000\nKERNEL_ID = 4cef66c8-e37f-4802-a163-67d2e6014e38\n"
                }
            ], 
            "source": "# The code was removed by Watson Studio for sharing."
        }, 
        {
            "execution_count": null, 
            "cell_type": "code", 
            "metadata": {}, 
            "outputs": [], 
            "source": "from pyspark.sql import SparkSession\nspark = SparkSession.builder.getOrCreate()\n# Since JSON data can be semi-structured and contain additional metadata, it is possible that you might face issues with the DataFrame layout.\n# Please read the documentation of 'SparkSession.read()' to learn more about the possibilities to adjust the data loading.\n# PySpark documentation: http://spark.apache.org/docs/2.0.2/api/python/pyspark.sql.html#pyspark.sql.DataFrameReader.json"
        }, 
        {
            "execution_count": 3, 
            "cell_type": "code", 
            "metadata": {}, 
            "outputs": [
                {
                    "execution_count": 3, 
                    "metadata": {}, 
                    "data": {
                        "text/plain": "[Row(artist='Martin Orford', auth='Logged In', firstName='Joseph', gender='M', itemInSession=20, lastName='Morales', length=597.55057, level='free', location='Corpus Christi, TX', method='PUT', page='NextSong', registration=1532063507000, sessionId=292, song='Grand Designs', status=200, ts=1538352011000, userAgent='\"Mozilla/5.0 (Macintosh; Intel Mac OS X 10_9_4) AppleWebKit/537.36 (KHTML, like Gecko) Chrome/36.0.1985.125 Safari/537.36\"', userId='293'),\n Row(artist=\"John Brown's Body\", auth='Logged In', firstName='Sawyer', gender='M', itemInSession=74, lastName='Larson', length=380.21179, level='free', location='Houston-The Woodlands-Sugar Land, TX', method='PUT', page='NextSong', registration=1538069638000, sessionId=97, song='Bulls', status=200, ts=1538352025000, userAgent='\"Mozilla/5.0 (Macintosh; Intel Mac OS X 10_9_4) AppleWebKit/537.36 (KHTML, like Gecko) Chrome/36.0.1985.143 Safari/537.36\"', userId='98'),\n Row(artist='Afroman', auth='Logged In', firstName='Maverick', gender='M', itemInSession=184, lastName='Santiago', length=202.37016, level='paid', location='Orlando-Kissimmee-Sanford, FL', method='PUT', page='NextSong', registration=1535953455000, sessionId=178, song='Because I Got High', status=200, ts=1538352118000, userAgent='\"Mozilla/5.0 (Macintosh; Intel Mac OS X 10_9_4) AppleWebKit/537.36 (KHTML, like Gecko) Chrome/36.0.1985.143 Safari/537.36\"', userId='179'),\n Row(artist=None, auth='Logged In', firstName='Maverick', gender='M', itemInSession=185, lastName='Santiago', length=None, level='paid', location='Orlando-Kissimmee-Sanford, FL', method='PUT', page='Logout', registration=1535953455000, sessionId=178, song=None, status=307, ts=1538352119000, userAgent='\"Mozilla/5.0 (Macintosh; Intel Mac OS X 10_9_4) AppleWebKit/537.36 (KHTML, like Gecko) Chrome/36.0.1985.143 Safari/537.36\"', userId='179'),\n Row(artist='Lily Allen', auth='Logged In', firstName='Gianna', gender='F', itemInSession=22, lastName='Campos', length=194.53342, level='paid', location='Mobile, AL', method='PUT', page='NextSong', registration=1535931018000, sessionId=245, song='Smile (Radio Edit)', status=200, ts=1538352124000, userAgent='Mozilla/5.0 (Windows NT 6.1; WOW64; rv:31.0) Gecko/20100101 Firefox/31.0', userId='246')]"
                    }, 
                    "output_type": "execute_result"
                }
            ], 
            "source": "df_data_1 = spark.read.json(cos.url('medium-sparkify-event-data.json', 'sparkify-donotdelete-pr-tqijxeyk4xhlkm'))\ndf_data_1.take(5)"
        }, 
        {
            "execution_count": 5, 
            "cell_type": "code", 
            "metadata": {}, 
            "outputs": [], 
            "source": "import numpy as np\nimport pandas as pd\nimport matplotlib.pyplot as plt\n%matplotlib inline"
        }, 
        {
            "execution_count": 7, 
            "cell_type": "code", 
            "metadata": {}, 
            "outputs": [
                {
                    "execution_count": 7, 
                    "metadata": {}, 
                    "data": {
                        "text/html": "<div>\n<style scoped>\n    .dataframe tbody tr th:only-of-type {\n        vertical-align: middle;\n    }\n\n    .dataframe tbody tr th {\n        vertical-align: top;\n    }\n\n    .dataframe thead th {\n        text-align: right;\n    }\n</style>\n<table border=\"1\" class=\"dataframe\">\n  <thead>\n    <tr style=\"text-align: right;\">\n      <th></th>\n      <th>artist</th>\n      <th>auth</th>\n      <th>firstName</th>\n      <th>gender</th>\n      <th>itemInSession</th>\n      <th>lastName</th>\n      <th>length</th>\n      <th>level</th>\n      <th>location</th>\n      <th>method</th>\n      <th>page</th>\n      <th>registration</th>\n      <th>sessionId</th>\n      <th>song</th>\n      <th>status</th>\n      <th>ts</th>\n      <th>userAgent</th>\n      <th>userId</th>\n    </tr>\n  </thead>\n  <tbody>\n    <tr>\n      <th>0</th>\n      <td>Martin Orford</td>\n      <td>Logged In</td>\n      <td>Joseph</td>\n      <td>M</td>\n      <td>20</td>\n      <td>Morales</td>\n      <td>597.55057</td>\n      <td>free</td>\n      <td>Corpus Christi, TX</td>\n      <td>PUT</td>\n      <td>NextSong</td>\n      <td>1.532064e+12</td>\n      <td>292</td>\n      <td>Grand Designs</td>\n      <td>200</td>\n      <td>1538352011000</td>\n      <td>\"Mozilla/5.0 (Macintosh; Intel Mac OS X 10_9_4...</td>\n      <td>293</td>\n    </tr>\n    <tr>\n      <th>1</th>\n      <td>John Brown's Body</td>\n      <td>Logged In</td>\n      <td>Sawyer</td>\n      <td>M</td>\n      <td>74</td>\n      <td>Larson</td>\n      <td>380.21179</td>\n      <td>free</td>\n      <td>Houston-The Woodlands-Sugar Land, TX</td>\n      <td>PUT</td>\n      <td>NextSong</td>\n      <td>1.538070e+12</td>\n      <td>97</td>\n      <td>Bulls</td>\n      <td>200</td>\n      <td>1538352025000</td>\n      <td>\"Mozilla/5.0 (Macintosh; Intel Mac OS X 10_9_4...</td>\n      <td>98</td>\n    </tr>\n    <tr>\n      <th>2</th>\n      <td>Afroman</td>\n      <td>Logged In</td>\n      <td>Maverick</td>\n      <td>M</td>\n      <td>184</td>\n      <td>Santiago</td>\n      <td>202.37016</td>\n      <td>paid</td>\n      <td>Orlando-Kissimmee-Sanford, FL</td>\n      <td>PUT</td>\n      <td>NextSong</td>\n      <td>1.535953e+12</td>\n      <td>178</td>\n      <td>Because I Got High</td>\n      <td>200</td>\n      <td>1538352118000</td>\n      <td>\"Mozilla/5.0 (Macintosh; Intel Mac OS X 10_9_4...</td>\n      <td>179</td>\n    </tr>\n    <tr>\n      <th>3</th>\n      <td>None</td>\n      <td>Logged In</td>\n      <td>Maverick</td>\n      <td>M</td>\n      <td>185</td>\n      <td>Santiago</td>\n      <td>NaN</td>\n      <td>paid</td>\n      <td>Orlando-Kissimmee-Sanford, FL</td>\n      <td>PUT</td>\n      <td>Logout</td>\n      <td>1.535953e+12</td>\n      <td>178</td>\n      <td>None</td>\n      <td>307</td>\n      <td>1538352119000</td>\n      <td>\"Mozilla/5.0 (Macintosh; Intel Mac OS X 10_9_4...</td>\n      <td>179</td>\n    </tr>\n    <tr>\n      <th>4</th>\n      <td>Lily Allen</td>\n      <td>Logged In</td>\n      <td>Gianna</td>\n      <td>F</td>\n      <td>22</td>\n      <td>Campos</td>\n      <td>194.53342</td>\n      <td>paid</td>\n      <td>Mobile, AL</td>\n      <td>PUT</td>\n      <td>NextSong</td>\n      <td>1.535931e+12</td>\n      <td>245</td>\n      <td>Smile (Radio Edit)</td>\n      <td>200</td>\n      <td>1538352124000</td>\n      <td>Mozilla/5.0 (Windows NT 6.1; WOW64; rv:31.0) G...</td>\n      <td>246</td>\n    </tr>\n  </tbody>\n</table>\n</div>", 
                        "text/plain": "              artist       auth firstName gender  itemInSession  lastName  \\\n0      Martin Orford  Logged In    Joseph      M             20   Morales   \n1  John Brown's Body  Logged In    Sawyer      M             74    Larson   \n2            Afroman  Logged In  Maverick      M            184  Santiago   \n3               None  Logged In  Maverick      M            185  Santiago   \n4         Lily Allen  Logged In    Gianna      F             22    Campos   \n\n      length level                              location method      page  \\\n0  597.55057  free                    Corpus Christi, TX    PUT  NextSong   \n1  380.21179  free  Houston-The Woodlands-Sugar Land, TX    PUT  NextSong   \n2  202.37016  paid         Orlando-Kissimmee-Sanford, FL    PUT  NextSong   \n3        NaN  paid         Orlando-Kissimmee-Sanford, FL    PUT    Logout   \n4  194.53342  paid                            Mobile, AL    PUT  NextSong   \n\n   registration  sessionId                song  status             ts  \\\n0  1.532064e+12        292       Grand Designs     200  1538352011000   \n1  1.538070e+12         97               Bulls     200  1538352025000   \n2  1.535953e+12        178  Because I Got High     200  1538352118000   \n3  1.535953e+12        178                None     307  1538352119000   \n4  1.535931e+12        245  Smile (Radio Edit)     200  1538352124000   \n\n                                           userAgent userId  \n0  \"Mozilla/5.0 (Macintosh; Intel Mac OS X 10_9_4...    293  \n1  \"Mozilla/5.0 (Macintosh; Intel Mac OS X 10_9_4...     98  \n2  \"Mozilla/5.0 (Macintosh; Intel Mac OS X 10_9_4...    179  \n3  \"Mozilla/5.0 (Macintosh; Intel Mac OS X 10_9_4...    179  \n4  Mozilla/5.0 (Windows NT 6.1; WOW64; rv:31.0) G...    246  "
                    }, 
                    "output_type": "execute_result"
                }
            ], 
            "source": "df_data_1.toPandas().head()"
        }, 
        {
            "execution_count": null, 
            "cell_type": "code", 
            "metadata": {}, 
            "outputs": [], 
            "source": ""
        }
    ], 
    "metadata": {
        "kernelspec": {
            "display_name": "Python 3.5 with Spark", 
            "name": "python3", 
            "language": "python3"
        }, 
        "language_info": {
            "mimetype": "text/x-python", 
            "nbconvert_exporter": "python", 
            "version": "3.5.4", 
            "name": "python", 
            "file_extension": ".py", 
            "pygments_lexer": "ipython3", 
            "codemirror_mode": {
                "version": 3, 
                "name": "ipython"
            }
        }
    }, 
    "nbformat": 4
}