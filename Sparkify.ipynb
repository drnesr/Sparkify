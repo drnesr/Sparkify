{
 "cells": [
  {
   "cell_type": "markdown",
   "metadata": {},
   "source": [
    "# Sparkify Project Workspace\n",
    "This workspace contains a tiny subset (128MB) of the full dataset available (12GB). Feel free to use this workspace to build your project, or to explore a smaller subset with Spark before deploying your cluster on the cloud. Instructions for setting up your Spark cluster is included in the last lesson of the Extracurricular Spark Course content.\n",
    "\n",
    "You can follow the steps below to guide your data analysis and model building portion of this project."
   ]
  },
  {
   "cell_type": "code",
   "execution_count": 1,
   "metadata": {},
   "outputs": [],
   "source": [
    "# import libraries\n",
    "from pyspark.sql import SparkSession"
   ]
  },
  {
   "cell_type": "code",
   "execution_count": 2,
   "metadata": {},
   "outputs": [],
   "source": [
    "from pyspark.sql.functions import udf\n",
    "from pyspark.sql.types import StringType\n",
    "from pyspark.sql.types import IntegerType\n",
    "from pyspark.sql.functions import desc\n",
    "from pyspark.sql.functions import asc\n",
    "from pyspark.sql.functions import sum as Fsum\n",
    "\n",
    "import datetime\n",
    "\n",
    "from pyspark.sql import Window\n",
    "import pandas as pd\n",
    "import numpy as np\n",
    "from matplotlib import pyplot as plt\n",
    "%matplotlib inline\n",
    "\n",
    "import re\n",
    "from pyspark.sql import functions as sF\n",
    "from pyspark.sql import types as sT\n",
    "\n",
    "from functools import reduce"
   ]
  },
  {
   "cell_type": "code",
   "execution_count": 3,
   "metadata": {},
   "outputs": [],
   "source": [
    "# ML imports\n",
    "from pyspark.ml.feature import Normalizer, StandardScaler, VectorAssembler\n",
    "from pyspark.ml.classification import DecisionTreeClassifier, GBTClassifier, LogisticRegression, MultilayerPerceptronClassifier, NaiveBayes, RandomForestClassifier\n",
    "from pyspark.ml.regression import LinearRegression\n",
    "from pyspark.ml.evaluation import MulticlassClassificationEvaluator\n",
    "from pyspark.ml.tuning import CrossValidator, ParamGridBuilder"
   ]
  },
  {
   "cell_type": "code",
   "execution_count": 15,
   "metadata": {},
   "outputs": [],
   "source": [
    "# TO load saved models \n",
    "from pyspark.ml.tuning import CrossValidatorModel as mlm"
   ]
  },
  {
   "cell_type": "code",
   "execution_count": 4,
   "metadata": {},
   "outputs": [],
   "source": [
    "# create a Spark session\n",
    "spark = SparkSession.builder.appName(\"Sparkify\").getOrCreate()"
   ]
  },
  {
   "cell_type": "markdown",
   "metadata": {},
   "source": [
    "# Load and Clean Dataset\n",
    "In this workspace, the mini-dataset file is `mini_sparkify_event_data.json`. Load and clean the dataset, checking for invalid or missing data - for example, records without userids or sessionids. "
   ]
  },
  {
   "cell_type": "code",
   "execution_count": 4,
   "metadata": {},
   "outputs": [
    {
     "name": "stdout",
     "output_type": "stream",
     "text": [
      "root\n",
      " |-- artist: string (nullable = true)\n",
      " |-- auth: string (nullable = true)\n",
      " |-- firstName: string (nullable = true)\n",
      " |-- gender: string (nullable = true)\n",
      " |-- itemInSession: long (nullable = true)\n",
      " |-- lastName: string (nullable = true)\n",
      " |-- length: double (nullable = true)\n",
      " |-- level: string (nullable = true)\n",
      " |-- location: string (nullable = true)\n",
      " |-- method: string (nullable = true)\n",
      " |-- page: string (nullable = true)\n",
      " |-- registration: long (nullable = true)\n",
      " |-- sessionId: long (nullable = true)\n",
      " |-- song: string (nullable = true)\n",
      " |-- status: long (nullable = true)\n",
      " |-- ts: long (nullable = true)\n",
      " |-- userAgent: string (nullable = true)\n",
      " |-- userId: string (nullable = true)\n",
      "\n"
     ]
    }
   ],
   "source": [
    "data_path = 'mini_sparkify_event_data.json'\n",
    "df = spark.read.json(data_path)\n",
    "# See the frame schema\n",
    "df.printSchema()"
   ]
  },
  {
   "cell_type": "code",
   "execution_count": 5,
   "metadata": {},
   "outputs": [
    {
     "data": {
      "text/html": [
       "<div>\n",
       "<style scoped>\n",
       "    .dataframe tbody tr th:only-of-type {\n",
       "        vertical-align: middle;\n",
       "    }\n",
       "\n",
       "    .dataframe tbody tr th {\n",
       "        vertical-align: top;\n",
       "    }\n",
       "\n",
       "    .dataframe thead th {\n",
       "        text-align: right;\n",
       "    }\n",
       "</style>\n",
       "<table border=\"1\" class=\"dataframe\">\n",
       "  <thead>\n",
       "    <tr style=\"text-align: right;\">\n",
       "      <th></th>\n",
       "      <th>artist</th>\n",
       "      <th>auth</th>\n",
       "      <th>firstName</th>\n",
       "      <th>gender</th>\n",
       "      <th>itemInSession</th>\n",
       "      <th>lastName</th>\n",
       "      <th>length</th>\n",
       "      <th>level</th>\n",
       "      <th>location</th>\n",
       "      <th>method</th>\n",
       "      <th>page</th>\n",
       "      <th>registration</th>\n",
       "      <th>sessionId</th>\n",
       "      <th>song</th>\n",
       "      <th>status</th>\n",
       "      <th>ts</th>\n",
       "      <th>userAgent</th>\n",
       "      <th>userId</th>\n",
       "    </tr>\n",
       "  </thead>\n",
       "  <tbody>\n",
       "    <tr>\n",
       "      <th>0</th>\n",
       "      <td>Martha Tilston</td>\n",
       "      <td>Logged In</td>\n",
       "      <td>Colin</td>\n",
       "      <td>M</td>\n",
       "      <td>50</td>\n",
       "      <td>Freeman</td>\n",
       "      <td>277.89016</td>\n",
       "      <td>paid</td>\n",
       "      <td>Bakersfield, CA</td>\n",
       "      <td>PUT</td>\n",
       "      <td>NextSong</td>\n",
       "      <td>1.538173e+12</td>\n",
       "      <td>29</td>\n",
       "      <td>Rockpools</td>\n",
       "      <td>200</td>\n",
       "      <td>1538352117000</td>\n",
       "      <td>Mozilla/5.0 (Windows NT 6.1; WOW64; rv:31.0) G...</td>\n",
       "      <td>30</td>\n",
       "    </tr>\n",
       "    <tr>\n",
       "      <th>1</th>\n",
       "      <td>Five Iron Frenzy</td>\n",
       "      <td>Logged In</td>\n",
       "      <td>Micah</td>\n",
       "      <td>M</td>\n",
       "      <td>79</td>\n",
       "      <td>Long</td>\n",
       "      <td>236.09424</td>\n",
       "      <td>free</td>\n",
       "      <td>Boston-Cambridge-Newton, MA-NH</td>\n",
       "      <td>PUT</td>\n",
       "      <td>NextSong</td>\n",
       "      <td>1.538332e+12</td>\n",
       "      <td>8</td>\n",
       "      <td>Canada</td>\n",
       "      <td>200</td>\n",
       "      <td>1538352180000</td>\n",
       "      <td>\"Mozilla/5.0 (Windows NT 6.1; WOW64) AppleWebK...</td>\n",
       "      <td>9</td>\n",
       "    </tr>\n",
       "    <tr>\n",
       "      <th>2</th>\n",
       "      <td>Adam Lambert</td>\n",
       "      <td>Logged In</td>\n",
       "      <td>Colin</td>\n",
       "      <td>M</td>\n",
       "      <td>51</td>\n",
       "      <td>Freeman</td>\n",
       "      <td>282.82730</td>\n",
       "      <td>paid</td>\n",
       "      <td>Bakersfield, CA</td>\n",
       "      <td>PUT</td>\n",
       "      <td>NextSong</td>\n",
       "      <td>1.538173e+12</td>\n",
       "      <td>29</td>\n",
       "      <td>Time For Miracles</td>\n",
       "      <td>200</td>\n",
       "      <td>1538352394000</td>\n",
       "      <td>Mozilla/5.0 (Windows NT 6.1; WOW64; rv:31.0) G...</td>\n",
       "      <td>30</td>\n",
       "    </tr>\n",
       "    <tr>\n",
       "      <th>3</th>\n",
       "      <td>Enigma</td>\n",
       "      <td>Logged In</td>\n",
       "      <td>Micah</td>\n",
       "      <td>M</td>\n",
       "      <td>80</td>\n",
       "      <td>Long</td>\n",
       "      <td>262.71302</td>\n",
       "      <td>free</td>\n",
       "      <td>Boston-Cambridge-Newton, MA-NH</td>\n",
       "      <td>PUT</td>\n",
       "      <td>NextSong</td>\n",
       "      <td>1.538332e+12</td>\n",
       "      <td>8</td>\n",
       "      <td>Knocking On Forbidden Doors</td>\n",
       "      <td>200</td>\n",
       "      <td>1538352416000</td>\n",
       "      <td>\"Mozilla/5.0 (Windows NT 6.1; WOW64) AppleWebK...</td>\n",
       "      <td>9</td>\n",
       "    </tr>\n",
       "    <tr>\n",
       "      <th>4</th>\n",
       "      <td>Daft Punk</td>\n",
       "      <td>Logged In</td>\n",
       "      <td>Colin</td>\n",
       "      <td>M</td>\n",
       "      <td>52</td>\n",
       "      <td>Freeman</td>\n",
       "      <td>223.60771</td>\n",
       "      <td>paid</td>\n",
       "      <td>Bakersfield, CA</td>\n",
       "      <td>PUT</td>\n",
       "      <td>NextSong</td>\n",
       "      <td>1.538173e+12</td>\n",
       "      <td>29</td>\n",
       "      <td>Harder Better Faster Stronger</td>\n",
       "      <td>200</td>\n",
       "      <td>1538352676000</td>\n",
       "      <td>Mozilla/5.0 (Windows NT 6.1; WOW64; rv:31.0) G...</td>\n",
       "      <td>30</td>\n",
       "    </tr>\n",
       "  </tbody>\n",
       "</table>\n",
       "</div>"
      ],
      "text/plain": [
       "             artist       auth firstName gender  itemInSession lastName  \\\n",
       "0    Martha Tilston  Logged In     Colin      M             50  Freeman   \n",
       "1  Five Iron Frenzy  Logged In     Micah      M             79     Long   \n",
       "2      Adam Lambert  Logged In     Colin      M             51  Freeman   \n",
       "3            Enigma  Logged In     Micah      M             80     Long   \n",
       "4         Daft Punk  Logged In     Colin      M             52  Freeman   \n",
       "\n",
       "      length level                        location method      page  \\\n",
       "0  277.89016  paid                 Bakersfield, CA    PUT  NextSong   \n",
       "1  236.09424  free  Boston-Cambridge-Newton, MA-NH    PUT  NextSong   \n",
       "2  282.82730  paid                 Bakersfield, CA    PUT  NextSong   \n",
       "3  262.71302  free  Boston-Cambridge-Newton, MA-NH    PUT  NextSong   \n",
       "4  223.60771  paid                 Bakersfield, CA    PUT  NextSong   \n",
       "\n",
       "   registration  sessionId                           song  status  \\\n",
       "0  1.538173e+12         29                      Rockpools     200   \n",
       "1  1.538332e+12          8                         Canada     200   \n",
       "2  1.538173e+12         29              Time For Miracles     200   \n",
       "3  1.538332e+12          8    Knocking On Forbidden Doors     200   \n",
       "4  1.538173e+12         29  Harder Better Faster Stronger     200   \n",
       "\n",
       "              ts                                          userAgent userId  \n",
       "0  1538352117000  Mozilla/5.0 (Windows NT 6.1; WOW64; rv:31.0) G...     30  \n",
       "1  1538352180000  \"Mozilla/5.0 (Windows NT 6.1; WOW64) AppleWebK...      9  \n",
       "2  1538352394000  Mozilla/5.0 (Windows NT 6.1; WOW64; rv:31.0) G...     30  \n",
       "3  1538352416000  \"Mozilla/5.0 (Windows NT 6.1; WOW64) AppleWebK...      9  \n",
       "4  1538352676000  Mozilla/5.0 (Windows NT 6.1; WOW64; rv:31.0) G...     30  "
      ]
     },
     "execution_count": 5,
     "metadata": {},
     "output_type": "execute_result"
    }
   ],
   "source": [
    "# Tabulated head through pandas\n",
    "dfp = df.toPandas()\n",
    "dfp.head()"
   ]
  },
  {
   "cell_type": "code",
   "execution_count": 6,
   "metadata": {},
   "outputs": [
    {
     "name": "stdout",
     "output_type": "stream",
     "text": [
      "<class 'pandas.core.frame.DataFrame'>\n",
      "RangeIndex: 286500 entries, 0 to 286499\n",
      "Data columns (total 18 columns):\n",
      "artist           228108 non-null object\n",
      "auth             286500 non-null object\n",
      "firstName        278154 non-null object\n",
      "gender           278154 non-null object\n",
      "itemInSession    286500 non-null int64\n",
      "lastName         278154 non-null object\n",
      "length           228108 non-null float64\n",
      "level            286500 non-null object\n",
      "location         278154 non-null object\n",
      "method           286500 non-null object\n",
      "page             286500 non-null object\n",
      "registration     278154 non-null float64\n",
      "sessionId        286500 non-null int64\n",
      "song             228108 non-null object\n",
      "status           286500 non-null int64\n",
      "ts               286500 non-null int64\n",
      "userAgent        278154 non-null object\n",
      "userId           286500 non-null object\n",
      "dtypes: float64(2), int64(4), object(12)\n",
      "memory usage: 39.3+ MB\n"
     ]
    }
   ],
   "source": [
    "# To know nulls\n",
    "dfp.info()"
   ]
  },
  {
   "cell_type": "code",
   "execution_count": 7,
   "metadata": {},
   "outputs": [
    {
     "data": {
      "text/plain": [
       "(array(['paid', 'free'], dtype=object),\n",
       " array(['PUT', 'GET'], dtype=object),\n",
       " array(['NextSong', 'Add to Playlist', 'Roll Advert', 'Thumbs Up',\n",
       "        'Downgrade', 'Thumbs Down', 'Home', 'Logout', 'Help', 'Login',\n",
       "        'Upgrade', 'Add Friend', 'About', 'Settings', 'Submit Upgrade',\n",
       "        'Submit Downgrade', 'Error', 'Save Settings', 'Cancel',\n",
       "        'Cancellation Confirmation', 'Register', 'Submit Registration'], dtype=object),\n",
       " array([200, 307, 404]),\n",
       " array(['M', 'F', None], dtype=object),\n",
       " array(['Logged In', 'Logged Out', 'Cancelled', 'Guest'], dtype=object))"
      ]
     },
     "execution_count": 7,
     "metadata": {},
     "output_type": "execute_result"
    }
   ],
   "source": [
    "# Explore the values of some categoric columns\n",
    "dfp.level.unique(), dfp.method.unique(), dfp.page.unique(), dfp.status.unique(), dfp.gender.unique(), dfp.auth.unique()"
   ]
  },
  {
   "cell_type": "markdown",
   "metadata": {},
   "source": [
    "#### Dropping records without userids or sessionids\n",
    "Using the command `dfs = df.dropna(how = \"any\", subset = [\"userId\", \"sessionId\"])`\n",
    "\n",
    "*We notice from the table above that no records with null `userId` or `SessionId`*\n",
    "\n",
    "##### However, \n",
    "we should check for empty `userId` or `SessionId` too"
   ]
  },
  {
   "cell_type": "code",
   "execution_count": 8,
   "metadata": {},
   "outputs": [
    {
     "data": {
      "text/plain": [
       "8346"
      ]
     },
     "execution_count": 8,
     "metadata": {},
     "output_type": "execute_result"
    }
   ],
   "source": [
    "dfp[dfp.userId == '']['userId'].count()#, dfp[dfp.sessionId =='']['sessionId'].count()"
   ]
  },
  {
   "cell_type": "code",
   "execution_count": 9,
   "metadata": {},
   "outputs": [
    {
     "data": {
      "text/plain": [
       "0"
      ]
     },
     "execution_count": 9,
     "metadata": {},
     "output_type": "execute_result"
    }
   ],
   "source": [
    "# Using pandas\n",
    "# dfp[dfp.sessionId == '']\n",
    "\n",
    "# Using Spark commands\n",
    "df.filter(df.sessionId == '').count()"
   ]
  },
  {
   "cell_type": "code",
   "execution_count": 10,
   "metadata": {},
   "outputs": [
    {
     "data": {
      "text/plain": [
       "0"
      ]
     },
     "execution_count": 10,
     "metadata": {},
     "output_type": "execute_result"
    }
   ],
   "source": [
    "# Dropping the missing User's ID rows\n",
    "df = df.filter(df.userId != '')\n",
    "# Check! SHOULD be 0\n",
    "df.filter(df.userId == '').count()"
   ]
  },
  {
   "cell_type": "code",
   "execution_count": 11,
   "metadata": {},
   "outputs": [],
   "source": [
    "# redifine the pandas dataframe\n",
    "dfp = df.toPandas()"
   ]
  },
  {
   "cell_type": "code",
   "execution_count": 12,
   "metadata": {},
   "outputs": [
    {
     "data": {
      "text/plain": [
       "(array(['paid', 'free'], dtype=object),\n",
       " array(['PUT', 'GET'], dtype=object),\n",
       " array(['NextSong', 'Add to Playlist', 'Roll Advert', 'Thumbs Up',\n",
       "        'Downgrade', 'Thumbs Down', 'Home', 'Logout', 'Help', 'Upgrade',\n",
       "        'Add Friend', 'Settings', 'Submit Upgrade', 'About',\n",
       "        'Submit Downgrade', 'Error', 'Save Settings', 'Cancel',\n",
       "        'Cancellation Confirmation'], dtype=object),\n",
       " array([200, 307, 404]),\n",
       " array(['M', 'F'], dtype=object),\n",
       " array(['Logged In', 'Cancelled'], dtype=object))"
      ]
     },
     "execution_count": 12,
     "metadata": {},
     "output_type": "execute_result"
    }
   ],
   "source": [
    "# Explore the values of some categoric columns\n",
    "dfp.level.unique(), dfp.method.unique(), dfp.page.unique(), dfp.status.unique(), dfp.gender.unique(), dfp.auth.unique()"
   ]
  },
  {
   "cell_type": "markdown",
   "metadata": {},
   "source": [
    "#### Note\n",
    "We noticed that the when we cleaned the `userId` and `sessionId`, the `auth` column lost two values `'Logged Out'`, and `'Guest'`\n",
    "and the `page` column lost some values too which are: `'Login'`, `'Register'`, and `'Submit Registration'`\n",
    "\n",
    "This is logical, as the users without a `usedId`, are either guests or logged out users. Only guests can `Register`, or `Submit Registration`, while only logged out users can  `Login`."
   ]
  },
  {
   "cell_type": "markdown",
   "metadata": {},
   "source": [
    "# Exploratory Data Analysis\n",
    "When you're working with the full dataset, perform EDA by loading a small subset of the data and doing basic manipulations within Spark. In this workspace, you are already provided a small subset of data you can explore."
   ]
  },
  {
   "cell_type": "code",
   "execution_count": 13,
   "metadata": {},
   "outputs": [
    {
     "data": {
      "text/plain": [
       "['Unique userIds: 225', 'Unique pages: 19', 'Unique sessionIds: 2312']"
      ]
     },
     "execution_count": 13,
     "metadata": {},
     "output_type": "execute_result"
    }
   ],
   "source": [
    "# Let's know the number of users in this dataset and the number of pages and sessions\n",
    "\n",
    "[f'Unique {col}s: {df.select(col).dropDuplicates().count()}' for col in ('userId', 'page', 'sessionId')]"
   ]
  },
  {
   "cell_type": "code",
   "execution_count": 14,
   "metadata": {},
   "outputs": [
    {
     "data": {
      "text/plain": [
       "225"
      ]
     },
     "execution_count": 14,
     "metadata": {},
     "output_type": "execute_result"
    }
   ],
   "source": [
    "# How many users in the dataset?\n",
    "df.select('userId').dropDuplicates().count()"
   ]
  },
  {
   "cell_type": "markdown",
   "metadata": {},
   "source": [
    "### Define Churn\n",
    "\n",
    "Once you've done some preliminary analysis, create a column `Churn` to use as the label for your model. I suggest using the `Cancellation Confirmation` events to define your churn, which happen for both paid and free users. As a bonus task, you can also look into the `Downgrade` events."
   ]
  },
  {
   "cell_type": "code",
   "execution_count": 15,
   "metadata": {},
   "outputs": [],
   "source": [
    "# Churn is a label for user who cancelled\n",
    "# Define a flag function\n",
    "flag_cancelation_event = udf(lambda x: 1 if x == \"Cancellation Confirmation\" else 0, IntegerType())\n",
    "# apply to the dataframe\n",
    "df = df.withColumn(\"churn\", flag_cancelation_event(\"page\"))\n",
    "#Define window bounds\n",
    "windowval = Window.partitionBy(\"userId\").rangeBetween(Window.unboundedPreceding, Window.unboundedFollowing)\n",
    "# Applying the window\n",
    "df = df.withColumn(\"churn\", Fsum(\"churn\").over(windowval))"
   ]
  },
  {
   "cell_type": "code",
   "execution_count": 16,
   "metadata": {},
   "outputs": [],
   "source": [
    "# Again define pandas df for better view\n",
    "dfp = df.toPandas()"
   ]
  },
  {
   "cell_type": "code",
   "execution_count": 17,
   "metadata": {
    "scrolled": true
   },
   "outputs": [
    {
     "data": {
      "text/html": [
       "<div>\n",
       "<style scoped>\n",
       "    .dataframe tbody tr th:only-of-type {\n",
       "        vertical-align: middle;\n",
       "    }\n",
       "\n",
       "    .dataframe tbody tr th {\n",
       "        vertical-align: top;\n",
       "    }\n",
       "\n",
       "    .dataframe thead th {\n",
       "        text-align: right;\n",
       "    }\n",
       "</style>\n",
       "<table border=\"1\" class=\"dataframe\">\n",
       "  <thead>\n",
       "    <tr style=\"text-align: right;\">\n",
       "      <th></th>\n",
       "      <th>artist</th>\n",
       "      <th>auth</th>\n",
       "      <th>firstName</th>\n",
       "      <th>gender</th>\n",
       "      <th>itemInSession</th>\n",
       "      <th>lastName</th>\n",
       "      <th>length</th>\n",
       "      <th>level</th>\n",
       "      <th>location</th>\n",
       "      <th>method</th>\n",
       "      <th>page</th>\n",
       "      <th>registration</th>\n",
       "      <th>sessionId</th>\n",
       "      <th>song</th>\n",
       "      <th>status</th>\n",
       "      <th>ts</th>\n",
       "      <th>userAgent</th>\n",
       "      <th>userId</th>\n",
       "      <th>churn</th>\n",
       "    </tr>\n",
       "  </thead>\n",
       "  <tbody>\n",
       "    <tr>\n",
       "      <th>71533</th>\n",
       "      <td>Bright Eyes</td>\n",
       "      <td>Logged In</td>\n",
       "      <td>Alexandria</td>\n",
       "      <td>F</td>\n",
       "      <td>398</td>\n",
       "      <td>Mills</td>\n",
       "      <td>190.11873</td>\n",
       "      <td>paid</td>\n",
       "      <td>Atlantic City-Hammonton, NJ</td>\n",
       "      <td>PUT</td>\n",
       "      <td>NextSong</td>\n",
       "      <td>1537149749000</td>\n",
       "      <td>1446</td>\n",
       "      <td>Drunk Kid Catholic</td>\n",
       "      <td>200</td>\n",
       "      <td>1541208088000</td>\n",
       "      <td>\"Mozilla/5.0 (Macintosh; Intel Mac OS X 10_9_4...</td>\n",
       "      <td>96</td>\n",
       "      <td>0</td>\n",
       "    </tr>\n",
       "    <tr>\n",
       "      <th>111330</th>\n",
       "      <td>Lil Boosie</td>\n",
       "      <td>Logged In</td>\n",
       "      <td>Jayden</td>\n",
       "      <td>F</td>\n",
       "      <td>256</td>\n",
       "      <td>Phillips</td>\n",
       "      <td>275.56526</td>\n",
       "      <td>paid</td>\n",
       "      <td>New York-Newark-Jersey City, NY-NJ-PA</td>\n",
       "      <td>PUT</td>\n",
       "      <td>NextSong</td>\n",
       "      <td>1537893493000</td>\n",
       "      <td>1035</td>\n",
       "      <td>Wonder Why Your Child So Bad</td>\n",
       "      <td>200</td>\n",
       "      <td>1540362413000</td>\n",
       "      <td>\"Mozilla/5.0 (Windows NT 6.2; WOW64) AppleWebK...</td>\n",
       "      <td>118</td>\n",
       "      <td>0</td>\n",
       "    </tr>\n",
       "    <tr>\n",
       "      <th>227363</th>\n",
       "      <td>Yukihiro Takahashi</td>\n",
       "      <td>Logged In</td>\n",
       "      <td>Emma</td>\n",
       "      <td>F</td>\n",
       "      <td>112</td>\n",
       "      <td>Allen</td>\n",
       "      <td>200.67220</td>\n",
       "      <td>paid</td>\n",
       "      <td>Wilson, NC</td>\n",
       "      <td>PUT</td>\n",
       "      <td>NextSong</td>\n",
       "      <td>1537611935000</td>\n",
       "      <td>144</td>\n",
       "      <td>Valerie</td>\n",
       "      <td>200</td>\n",
       "      <td>1539465463000</td>\n",
       "      <td>\"Mozilla/5.0 (Macintosh; Intel Mac OS X 10_9_4...</td>\n",
       "      <td>300021</td>\n",
       "      <td>0</td>\n",
       "    </tr>\n",
       "    <tr>\n",
       "      <th>29294</th>\n",
       "      <td>HYPOCRISY</td>\n",
       "      <td>Logged In</td>\n",
       "      <td>Kaleb</td>\n",
       "      <td>M</td>\n",
       "      <td>34</td>\n",
       "      <td>Thompson</td>\n",
       "      <td>331.38893</td>\n",
       "      <td>paid</td>\n",
       "      <td>Los Angeles-Long Beach-Anaheim, CA</td>\n",
       "      <td>PUT</td>\n",
       "      <td>NextSong</td>\n",
       "      <td>1536988041000</td>\n",
       "      <td>824</td>\n",
       "      <td>The Quest</td>\n",
       "      <td>200</td>\n",
       "      <td>1539602281000</td>\n",
       "      <td>\"Mozilla/5.0 (Macintosh; Intel Mac OS X 10_9_4...</td>\n",
       "      <td>29</td>\n",
       "      <td>1</td>\n",
       "    </tr>\n",
       "    <tr>\n",
       "      <th>112453</th>\n",
       "      <td>Sara Groves</td>\n",
       "      <td>Logged In</td>\n",
       "      <td>Jayden</td>\n",
       "      <td>F</td>\n",
       "      <td>27</td>\n",
       "      <td>Phillips</td>\n",
       "      <td>205.89669</td>\n",
       "      <td>paid</td>\n",
       "      <td>New York-Newark-Jersey City, NY-NJ-PA</td>\n",
       "      <td>PUT</td>\n",
       "      <td>NextSong</td>\n",
       "      <td>1537893493000</td>\n",
       "      <td>1716</td>\n",
       "      <td>Child Of Love</td>\n",
       "      <td>200</td>\n",
       "      <td>1541735822000</td>\n",
       "      <td>\"Mozilla/5.0 (Windows NT 6.2; WOW64) AppleWebK...</td>\n",
       "      <td>118</td>\n",
       "      <td>0</td>\n",
       "    </tr>\n",
       "    <tr>\n",
       "      <th>34731</th>\n",
       "      <td>Yeah Yeah Yeahs</td>\n",
       "      <td>Logged In</td>\n",
       "      <td>Dillyn</td>\n",
       "      <td>F</td>\n",
       "      <td>43</td>\n",
       "      <td>Richardson</td>\n",
       "      <td>313.36444</td>\n",
       "      <td>paid</td>\n",
       "      <td>Danville, VA</td>\n",
       "      <td>PUT</td>\n",
       "      <td>NextSong</td>\n",
       "      <td>1537811988000</td>\n",
       "      <td>1062</td>\n",
       "      <td>Runaway</td>\n",
       "      <td>200</td>\n",
       "      <td>1540062074000</td>\n",
       "      <td>\"Mozilla/5.0 (Windows NT 6.1) AppleWebKit/537....</td>\n",
       "      <td>42</td>\n",
       "      <td>0</td>\n",
       "    </tr>\n",
       "    <tr>\n",
       "      <th>45747</th>\n",
       "      <td>Tristania</td>\n",
       "      <td>Logged In</td>\n",
       "      <td>Christina</td>\n",
       "      <td>F</td>\n",
       "      <td>30</td>\n",
       "      <td>Carrillo</td>\n",
       "      <td>309.08036</td>\n",
       "      <td>free</td>\n",
       "      <td>St. Louis, MO-IL</td>\n",
       "      <td>PUT</td>\n",
       "      <td>NextSong</td>\n",
       "      <td>1533650280000</td>\n",
       "      <td>720</td>\n",
       "      <td>Circus</td>\n",
       "      <td>200</td>\n",
       "      <td>1540306465000</td>\n",
       "      <td>\"Mozilla/5.0 (Windows NT 6.1; WOW64) AppleWebK...</td>\n",
       "      <td>8</td>\n",
       "      <td>0</td>\n",
       "    </tr>\n",
       "    <tr>\n",
       "      <th>200730</th>\n",
       "      <td>Social Distortion</td>\n",
       "      <td>Logged In</td>\n",
       "      <td>Micah</td>\n",
       "      <td>M</td>\n",
       "      <td>10</td>\n",
       "      <td>Long</td>\n",
       "      <td>303.96036</td>\n",
       "      <td>paid</td>\n",
       "      <td>Boston-Cambridge-Newton, MA-NH</td>\n",
       "      <td>PUT</td>\n",
       "      <td>NextSong</td>\n",
       "      <td>1538331630000</td>\n",
       "      <td>1501</td>\n",
       "      <td>When She Begins</td>\n",
       "      <td>200</td>\n",
       "      <td>1541170317000</td>\n",
       "      <td>\"Mozilla/5.0 (Windows NT 6.1; WOW64) AppleWebK...</td>\n",
       "      <td>9</td>\n",
       "      <td>0</td>\n",
       "    </tr>\n",
       "    <tr>\n",
       "      <th>223770</th>\n",
       "      <td>Boys Like Girls</td>\n",
       "      <td>Logged In</td>\n",
       "      <td>Jadyn</td>\n",
       "      <td>M</td>\n",
       "      <td>7</td>\n",
       "      <td>Rose</td>\n",
       "      <td>229.22404</td>\n",
       "      <td>paid</td>\n",
       "      <td>Austin-Round Rock, TX</td>\n",
       "      <td>PUT</td>\n",
       "      <td>NextSong</td>\n",
       "      <td>1535268719000</td>\n",
       "      <td>1686</td>\n",
       "      <td>Five Minutes To Midnight</td>\n",
       "      <td>200</td>\n",
       "      <td>1542039245000</td>\n",
       "      <td>\"Mozilla/5.0 (Windows NT 6.1; WOW64) AppleWebK...</td>\n",
       "      <td>37</td>\n",
       "      <td>0</td>\n",
       "    </tr>\n",
       "    <tr>\n",
       "      <th>74547</th>\n",
       "      <td>Mala Rodriguez</td>\n",
       "      <td>Logged In</td>\n",
       "      <td>Colin</td>\n",
       "      <td>M</td>\n",
       "      <td>139</td>\n",
       "      <td>Larson</td>\n",
       "      <td>223.63383</td>\n",
       "      <td>paid</td>\n",
       "      <td>Dallas-Fort Worth-Arlington, TX</td>\n",
       "      <td>PUT</td>\n",
       "      <td>NextSong</td>\n",
       "      <td>1537982255000</td>\n",
       "      <td>1185</td>\n",
       "      <td>Por La Noche</td>\n",
       "      <td>200</td>\n",
       "      <td>1540341251000</td>\n",
       "      <td>Mozilla/5.0 (Windows NT 6.1; WOW64; rv:30.0) G...</td>\n",
       "      <td>100</td>\n",
       "      <td>0</td>\n",
       "    </tr>\n",
       "  </tbody>\n",
       "</table>\n",
       "</div>"
      ],
      "text/plain": [
       "                    artist       auth   firstName gender  itemInSession  \\\n",
       "71533          Bright Eyes  Logged In  Alexandria      F            398   \n",
       "111330          Lil Boosie  Logged In      Jayden      F            256   \n",
       "227363  Yukihiro Takahashi  Logged In        Emma      F            112   \n",
       "29294            HYPOCRISY  Logged In       Kaleb      M             34   \n",
       "112453         Sara Groves  Logged In      Jayden      F             27   \n",
       "34731      Yeah Yeah Yeahs  Logged In      Dillyn      F             43   \n",
       "45747            Tristania  Logged In   Christina      F             30   \n",
       "200730   Social Distortion  Logged In       Micah      M             10   \n",
       "223770     Boys Like Girls  Logged In       Jadyn      M              7   \n",
       "74547       Mala Rodriguez  Logged In       Colin      M            139   \n",
       "\n",
       "          lastName     length level                               location  \\\n",
       "71533        Mills  190.11873  paid            Atlantic City-Hammonton, NJ   \n",
       "111330    Phillips  275.56526  paid  New York-Newark-Jersey City, NY-NJ-PA   \n",
       "227363       Allen  200.67220  paid                             Wilson, NC   \n",
       "29294     Thompson  331.38893  paid     Los Angeles-Long Beach-Anaheim, CA   \n",
       "112453    Phillips  205.89669  paid  New York-Newark-Jersey City, NY-NJ-PA   \n",
       "34731   Richardson  313.36444  paid                           Danville, VA   \n",
       "45747     Carrillo  309.08036  free                       St. Louis, MO-IL   \n",
       "200730        Long  303.96036  paid         Boston-Cambridge-Newton, MA-NH   \n",
       "223770        Rose  229.22404  paid                  Austin-Round Rock, TX   \n",
       "74547       Larson  223.63383  paid        Dallas-Fort Worth-Arlington, TX   \n",
       "\n",
       "       method      page   registration  sessionId  \\\n",
       "71533     PUT  NextSong  1537149749000       1446   \n",
       "111330    PUT  NextSong  1537893493000       1035   \n",
       "227363    PUT  NextSong  1537611935000        144   \n",
       "29294     PUT  NextSong  1536988041000        824   \n",
       "112453    PUT  NextSong  1537893493000       1716   \n",
       "34731     PUT  NextSong  1537811988000       1062   \n",
       "45747     PUT  NextSong  1533650280000        720   \n",
       "200730    PUT  NextSong  1538331630000       1501   \n",
       "223770    PUT  NextSong  1535268719000       1686   \n",
       "74547     PUT  NextSong  1537982255000       1185   \n",
       "\n",
       "                                song  status             ts  \\\n",
       "71533             Drunk Kid Catholic     200  1541208088000   \n",
       "111330  Wonder Why Your Child So Bad     200  1540362413000   \n",
       "227363                       Valerie     200  1539465463000   \n",
       "29294                      The Quest     200  1539602281000   \n",
       "112453                 Child Of Love     200  1541735822000   \n",
       "34731                        Runaway     200  1540062074000   \n",
       "45747                         Circus     200  1540306465000   \n",
       "200730               When She Begins     200  1541170317000   \n",
       "223770      Five Minutes To Midnight     200  1542039245000   \n",
       "74547                   Por La Noche     200  1540341251000   \n",
       "\n",
       "                                                userAgent  userId  churn  \n",
       "71533   \"Mozilla/5.0 (Macintosh; Intel Mac OS X 10_9_4...      96      0  \n",
       "111330  \"Mozilla/5.0 (Windows NT 6.2; WOW64) AppleWebK...     118      0  \n",
       "227363  \"Mozilla/5.0 (Macintosh; Intel Mac OS X 10_9_4...  300021      0  \n",
       "29294   \"Mozilla/5.0 (Macintosh; Intel Mac OS X 10_9_4...      29      1  \n",
       "112453  \"Mozilla/5.0 (Windows NT 6.2; WOW64) AppleWebK...     118      0  \n",
       "34731   \"Mozilla/5.0 (Windows NT 6.1) AppleWebKit/537....      42      0  \n",
       "45747   \"Mozilla/5.0 (Windows NT 6.1; WOW64) AppleWebK...       8      0  \n",
       "200730  \"Mozilla/5.0 (Windows NT 6.1; WOW64) AppleWebK...       9      0  \n",
       "223770  \"Mozilla/5.0 (Windows NT 6.1; WOW64) AppleWebK...      37      0  \n",
       "74547   Mozilla/5.0 (Windows NT 6.1; WOW64; rv:30.0) G...     100      0  "
      ]
     },
     "execution_count": 17,
     "metadata": {},
     "output_type": "execute_result"
    }
   ],
   "source": [
    "dfp.sample(10)"
   ]
  },
  {
   "cell_type": "markdown",
   "metadata": {},
   "source": [
    "### Explore Data\n",
    "Once you've defined churn, perform some exploratory data analysis to observe the behavior for users who stayed vs users who churned. You can start by exploring aggregates on these two groups of users, observing how much of a specific action they experienced per a certain time unit or number of songs played."
   ]
  },
  {
   "cell_type": "code",
   "execution_count": 18,
   "metadata": {},
   "outputs": [
    {
     "data": {
      "text/plain": [
       "churn\n",
       "0    173\n",
       "1     52\n",
       "Name: userId, dtype: int64"
      ]
     },
     "execution_count": 18,
     "metadata": {},
     "output_type": "execute_result"
    }
   ],
   "source": [
    "# Know number of users who remain and who canceled\n",
    "# by pandas\n",
    "dfp.drop_duplicates(subset='userId').groupby(['churn'])['userId'].count()"
   ]
  },
  {
   "cell_type": "code",
   "execution_count": 19,
   "metadata": {},
   "outputs": [
    {
     "name": "stdout",
     "output_type": "stream",
     "text": [
      "+-----+-----+\n",
      "|churn|count|\n",
      "+-----+-----+\n",
      "|    0|  173|\n",
      "|    1|   52|\n",
      "+-----+-----+\n",
      "\n"
     ]
    }
   ],
   "source": [
    "# by spark\n",
    "df.dropDuplicates(['userId']).groupby(['churn']).count().show()"
   ]
  },
  {
   "cell_type": "code",
   "execution_count": 20,
   "metadata": {},
   "outputs": [
    {
     "name": "stdout",
     "output_type": "stream",
     "text": [
      "+-----+------+-----+\n",
      "|churn|gender|count|\n",
      "+-----+------+-----+\n",
      "|    0|     F|   84|\n",
      "|    1|     M|   32|\n",
      "|    1|     F|   20|\n",
      "|    0|     M|   89|\n",
      "+-----+------+-----+\n",
      "\n"
     ]
    }
   ],
   "source": [
    "# Exploring user status by gender\n",
    "\n",
    "df.dropDuplicates(['userId', 'gender']).groupby(['churn', 'gender']).count().show()"
   ]
  },
  {
   "cell_type": "code",
   "execution_count": 21,
   "metadata": {},
   "outputs": [
    {
     "name": "stdout",
     "output_type": "stream",
     "text": [
      "+-----+-----+-----+\n",
      "|churn|level|count|\n",
      "+-----+-----+-----+\n",
      "|    1| paid|   36|\n",
      "|    1| free|   46|\n",
      "|    0| free|  149|\n",
      "|    0| paid|  129|\n",
      "+-----+-----+-----+\n",
      "\n"
     ]
    }
   ],
   "source": [
    "# Exploring user status by paid lever\n",
    "\n",
    "df.dropDuplicates(['userId', 'level']).groupby(['churn', 'level']).count().show()"
   ]
  },
  {
   "cell_type": "code",
   "execution_count": 22,
   "metadata": {},
   "outputs": [
    {
     "data": {
      "image/png": "[encoded data removed]",
      "text/plain": [
       "<matplotlib.figure.Figure at 0x7fa98ee90a58>"
      ]
     },
     "metadata": {
      "needs_background": "light"
     },
     "output_type": "display_data"
    }
   ],
   "source": [
    "def plot_frequency(subset, group, labels, x_title=\"Number of users\", y_title=\"Subscription status\"):\n",
    "    ax = dfp.drop_duplicates(subset=subset).groupby(\n",
    "                                group)['userId'].count().plot(\n",
    "                                kind='barh', figsize=(8,5), \n",
    "                                title='Number of unique users per category');\n",
    "    ax.set_xlabel(x_title);\n",
    "    ax.set_yticklabels(labels, rotation=0)\n",
    "    ax.set_ylabel(y_title);\n",
    "\n",
    "# Test    \n",
    "plot_frequency(['userId'], ['churn'], ['Active', 'Cancelled'])"
   ]
  },
  {
   "cell_type": "markdown",
   "metadata": {},
   "source": [
    "We see a huge number of cancelation, about 25% of the users canceled!"
   ]
  },
  {
   "cell_type": "code",
   "execution_count": 23,
   "metadata": {},
   "outputs": [
    {
     "data": {
      "image/png": "[encoded data removed]",
      "text/plain": [
       "<matplotlib.figure.Figure at 0x7fa9a8db0f98>"
      ]
     },
     "metadata": {
      "needs_background": "light"
     },
     "output_type": "display_data"
    }
   ],
   "source": [
    "plot_frequency(['userId', 'gender'], \n",
    "               ['gender', 'churn'], \n",
    "               ['Active-Female', 'Cancelled-Female', 'Active-Male', 'Cancelled-Male'])"
   ]
  },
  {
   "cell_type": "markdown",
   "metadata": {},
   "source": [
    "The active males are more than females, and the canceling males are higher than females too. Seems like males tend to cancel more than females."
   ]
  },
  {
   "cell_type": "code",
   "execution_count": 24,
   "metadata": {},
   "outputs": [
    {
     "data": {
      "image/png": "[encoded data removed]",
      "text/plain": [
       "<matplotlib.figure.Figure at 0x7fa9a9277d68>"
      ]
     },
     "metadata": {
      "needs_background": "light"
     },
     "output_type": "display_data"
    }
   ],
   "source": [
    "plot_frequency(['userId', 'level'], \n",
    "               ['level', 'churn'], \n",
    "               ['Active-Free', 'Cancelled-Free', 'Active-Paid', 'Cancelled-Paid'])"
   ]
  },
  {
   "cell_type": "markdown",
   "metadata": {},
   "source": [
    "The free users are slightly more than the paid users, and the canceled free users almost the same ratio as the cancelled paid users! it appears that the paid/free status is not influencing termination of the account."
   ]
  },
  {
   "cell_type": "code",
   "execution_count": 25,
   "metadata": {},
   "outputs": [
    {
     "data": {
      "image/png": "[encoded data removed]",
      "text/plain": [
       "<matplotlib.figure.Figure at 0x7fa9babac898>"
      ]
     },
     "metadata": {
      "needs_background": "light"
     },
     "output_type": "display_data"
    }
   ],
   "source": [
    "\n",
    "users_1 = dfp[dfp.churn == 1].groupby(['page'])['userId'].count().drop('NextSong')\n",
    "users_1 = users_1 /users_1.sum()*100\n",
    "\n",
    "users_0 = dfp[dfp.churn == 0].groupby(['page'])['userId'].count().drop('NextSong')\n",
    "users_0 = users_0 /users_0.sum()*100\n",
    "\n",
    "users_df = pd.DataFrame({'Cancelled': users_1,'Active users':users_0})\n",
    "ax = users_df.plot(kind='barh', figsize=(8,10));\n",
    "ax.set_xlabel('Percent of envent occurence (%)')\n",
    "ax.set_title('Percent of envent occurence for active and cancelled users');"
   ]
  },
  {
   "cell_type": "markdown",
   "metadata": {},
   "source": [
    "It appears that the most important pages visited for cancelling users are \n",
    "`Roll Advert`, and `Thumbs Down` (directly proportion to cancelling probability), while `Thumbs Up` followed by `Add Friend` and `Add to Playlist` are good indicators for not cancelling the account."
   ]
  },
  {
   "cell_type": "markdown",
   "metadata": {},
   "source": [
    "### Time analysis"
   ]
  },
  {
   "cell_type": "code",
   "execution_count": 26,
   "metadata": {},
   "outputs": [],
   "source": [
    "# Definig user functions to get hour, day, month, and weekday of cancellation\n",
    "\n",
    "get_hour = udf(lambda x: datetime.datetime.fromtimestamp(x / 1000.0).hour)\n",
    "get_day = udf(lambda x: datetime.datetime.fromtimestamp(x / 1000.0).day)\n",
    "get_month = udf(lambda x: datetime.datetime.fromtimestamp(x / 1000.0).month)\n",
    "\n",
    "# Source https://stackoverflow.com/questions/38928919/how-to-get-the-weekday-from-day-of-month-using-pyspark\n",
    "get_weekday = udf(lambda x: datetime.datetime.fromtimestamp(x / 1000.0).strftime('%w'))"
   ]
  },
  {
   "cell_type": "code",
   "execution_count": 27,
   "metadata": {},
   "outputs": [
    {
     "name": "stdout",
     "output_type": "stream",
     "text": [
      "Column hour added successfully.\n",
      "Column day added successfully.\n",
      "Column month added successfully.\n",
      "Column week_day added successfully.\n"
     ]
    }
   ],
   "source": [
    "# Adding columns to the dataframe\n",
    "funcs = {'hour':get_hour, 'day':get_day, 'month':get_month, 'week_day':get_weekday}\n",
    "for label, func in funcs.items():\n",
    "    df = df.withColumn(label, func(df.ts))\n",
    "    print(f'Column {label} added successfully.')"
   ]
  },
  {
   "cell_type": "code",
   "execution_count": 28,
   "metadata": {},
   "outputs": [
    {
     "data": {
      "text/html": [
       "<div>\n",
       "<style scoped>\n",
       "    .dataframe tbody tr th:only-of-type {\n",
       "        vertical-align: middle;\n",
       "    }\n",
       "\n",
       "    .dataframe tbody tr th {\n",
       "        vertical-align: top;\n",
       "    }\n",
       "\n",
       "    .dataframe thead th {\n",
       "        text-align: right;\n",
       "    }\n",
       "</style>\n",
       "<table border=\"1\" class=\"dataframe\">\n",
       "  <thead>\n",
       "    <tr style=\"text-align: right;\">\n",
       "      <th></th>\n",
       "      <th>artist</th>\n",
       "      <th>auth</th>\n",
       "      <th>firstName</th>\n",
       "      <th>gender</th>\n",
       "      <th>itemInSession</th>\n",
       "      <th>lastName</th>\n",
       "      <th>length</th>\n",
       "      <th>level</th>\n",
       "      <th>location</th>\n",
       "      <th>method</th>\n",
       "      <th>...</th>\n",
       "      <th>song</th>\n",
       "      <th>status</th>\n",
       "      <th>ts</th>\n",
       "      <th>userAgent</th>\n",
       "      <th>userId</th>\n",
       "      <th>churn</th>\n",
       "      <th>hour</th>\n",
       "      <th>day</th>\n",
       "      <th>month</th>\n",
       "      <th>week_day</th>\n",
       "    </tr>\n",
       "  </thead>\n",
       "  <tbody>\n",
       "    <tr>\n",
       "      <th>187675</th>\n",
       "      <td>RÃÂ¶yksopp</td>\n",
       "      <td>Logged In</td>\n",
       "      <td>Andrew</td>\n",
       "      <td>M</td>\n",
       "      <td>185</td>\n",
       "      <td>Poole</td>\n",
       "      <td>273.10975</td>\n",
       "      <td>paid</td>\n",
       "      <td>Greensboro-High Point, NC</td>\n",
       "      <td>PUT</td>\n",
       "      <td>...</td>\n",
       "      <td>This Must Be It</td>\n",
       "      <td>200</td>\n",
       "      <td>1541749699000</td>\n",
       "      <td>\"Mozilla/5.0 (Windows NT 6.1; WOW64) AppleWebK...</td>\n",
       "      <td>153</td>\n",
       "      <td>0</td>\n",
       "      <td>7</td>\n",
       "      <td>9</td>\n",
       "      <td>11</td>\n",
       "      <td>5</td>\n",
       "    </tr>\n",
       "    <tr>\n",
       "      <th>154261</th>\n",
       "      <td>Forever The Sickest Kids</td>\n",
       "      <td>Logged In</td>\n",
       "      <td>Madison</td>\n",
       "      <td>F</td>\n",
       "      <td>296</td>\n",
       "      <td>Morales</td>\n",
       "      <td>157.15220</td>\n",
       "      <td>paid</td>\n",
       "      <td>Tampa-St. Petersburg-Clearwater, FL</td>\n",
       "      <td>PUT</td>\n",
       "      <td>...</td>\n",
       "      <td>What Do You Want From Me</td>\n",
       "      <td>200</td>\n",
       "      <td>1539578804000</td>\n",
       "      <td>\"Mozilla/5.0 (Macintosh; Intel Mac OS X 10_9_4...</td>\n",
       "      <td>25</td>\n",
       "      <td>0</td>\n",
       "      <td>4</td>\n",
       "      <td>15</td>\n",
       "      <td>10</td>\n",
       "      <td>1</td>\n",
       "    </tr>\n",
       "    <tr>\n",
       "      <th>55084</th>\n",
       "      <td>Bon Jovi</td>\n",
       "      <td>Logged In</td>\n",
       "      <td>Brayden</td>\n",
       "      <td>M</td>\n",
       "      <td>133</td>\n",
       "      <td>Thomas</td>\n",
       "      <td>250.69669</td>\n",
       "      <td>paid</td>\n",
       "      <td>Los Angeles-Long Beach-Anaheim, CA</td>\n",
       "      <td>PUT</td>\n",
       "      <td>...</td>\n",
       "      <td>Livin' On A Prayer</td>\n",
       "      <td>200</td>\n",
       "      <td>1543230864000</td>\n",
       "      <td>\"Mozilla/5.0 (Macintosh; Intel Mac OS X 10_9_4...</td>\n",
       "      <td>85</td>\n",
       "      <td>0</td>\n",
       "      <td>11</td>\n",
       "      <td>26</td>\n",
       "      <td>11</td>\n",
       "      <td>1</td>\n",
       "    </tr>\n",
       "    <tr>\n",
       "      <th>41794</th>\n",
       "      <td>Fleet Foxes</td>\n",
       "      <td>Logged In</td>\n",
       "      <td>Colin</td>\n",
       "      <td>M</td>\n",
       "      <td>244</td>\n",
       "      <td>Freeman</td>\n",
       "      <td>191.47710</td>\n",
       "      <td>free</td>\n",
       "      <td>Bakersfield, CA</td>\n",
       "      <td>PUT</td>\n",
       "      <td>...</td>\n",
       "      <td>Sun It Rises</td>\n",
       "      <td>200</td>\n",
       "      <td>1539001052000</td>\n",
       "      <td>Mozilla/5.0 (Windows NT 6.1; WOW64; rv:31.0) G...</td>\n",
       "      <td>30</td>\n",
       "      <td>0</td>\n",
       "      <td>12</td>\n",
       "      <td>8</td>\n",
       "      <td>10</td>\n",
       "      <td>1</td>\n",
       "    </tr>\n",
       "    <tr>\n",
       "      <th>92380</th>\n",
       "      <td>Yeasayer</td>\n",
       "      <td>Logged In</td>\n",
       "      <td>Lucero</td>\n",
       "      <td>F</td>\n",
       "      <td>80</td>\n",
       "      <td>Reed</td>\n",
       "      <td>192.52200</td>\n",
       "      <td>paid</td>\n",
       "      <td>Louisville/Jefferson County, KY-IN</td>\n",
       "      <td>PUT</td>\n",
       "      <td>...</td>\n",
       "      <td>Germs</td>\n",
       "      <td>200</td>\n",
       "      <td>1541872339000</td>\n",
       "      <td>\"Mozilla/5.0 (Windows NT 6.1; WOW64) AppleWebK...</td>\n",
       "      <td>140</td>\n",
       "      <td>0</td>\n",
       "      <td>17</td>\n",
       "      <td>10</td>\n",
       "      <td>11</td>\n",
       "      <td>6</td>\n",
       "    </tr>\n",
       "  </tbody>\n",
       "</table>\n",
       "<p>5 rows × 23 columns</p>\n",
       "</div>"
      ],
      "text/plain": [
       "                          artist       auth firstName gender  itemInSession  \\\n",
       "187675               RÃÂ¶yksopp  Logged In    Andrew      M            185   \n",
       "154261  Forever The Sickest Kids  Logged In   Madison      F            296   \n",
       "55084                   Bon Jovi  Logged In   Brayden      M            133   \n",
       "41794                Fleet Foxes  Logged In     Colin      M            244   \n",
       "92380                   Yeasayer  Logged In    Lucero      F             80   \n",
       "\n",
       "       lastName     length level                             location method  \\\n",
       "187675    Poole  273.10975  paid            Greensboro-High Point, NC    PUT   \n",
       "154261  Morales  157.15220  paid  Tampa-St. Petersburg-Clearwater, FL    PUT   \n",
       "55084    Thomas  250.69669  paid   Los Angeles-Long Beach-Anaheim, CA    PUT   \n",
       "41794   Freeman  191.47710  free                      Bakersfield, CA    PUT   \n",
       "92380      Reed  192.52200  paid   Louisville/Jefferson County, KY-IN    PUT   \n",
       "\n",
       "         ...                         song  status             ts  \\\n",
       "187675   ...              This Must Be It     200  1541749699000   \n",
       "154261   ...     What Do You Want From Me     200  1539578804000   \n",
       "55084    ...           Livin' On A Prayer     200  1543230864000   \n",
       "41794    ...                 Sun It Rises     200  1539001052000   \n",
       "92380    ...                        Germs     200  1541872339000   \n",
       "\n",
       "                                                userAgent  userId  churn hour  \\\n",
       "187675  \"Mozilla/5.0 (Windows NT 6.1; WOW64) AppleWebK...     153      0    7   \n",
       "154261  \"Mozilla/5.0 (Macintosh; Intel Mac OS X 10_9_4...      25      0    4   \n",
       "55084   \"Mozilla/5.0 (Macintosh; Intel Mac OS X 10_9_4...      85      0   11   \n",
       "41794   Mozilla/5.0 (Windows NT 6.1; WOW64; rv:31.0) G...      30      0   12   \n",
       "92380   \"Mozilla/5.0 (Windows NT 6.1; WOW64) AppleWebK...     140      0   17   \n",
       "\n",
       "       day  month week_day  \n",
       "187675   9     11        5  \n",
       "154261  15     10        1  \n",
       "55084   26     11        1  \n",
       "41794    8     10        1  \n",
       "92380   10     11        6  \n",
       "\n",
       "[5 rows x 23 columns]"
      ]
     },
     "execution_count": 28,
     "metadata": {},
     "output_type": "execute_result"
    }
   ],
   "source": [
    "# to help in better plotting and visuals\n",
    "dfp = df.toPandas()\n",
    "dfp.sample(5)"
   ]
  },
  {
   "cell_type": "code",
   "execution_count": 29,
   "metadata": {},
   "outputs": [],
   "source": [
    "def get_series(col, churn, normalize=False):\n",
    "    ''' \n",
    "    Get a series either of churn users or existing users\n",
    "    THe function can normalize the series and return a percent value\n",
    "    col: {str} the column to plot (hour, month, day, week_day)\n",
    "    churn: {int} 0 or 1\n",
    "    normalize: {bool} T/F, Default is False\n",
    "    return a sorted pandas series\n",
    "    '''\n",
    "    ser1 = dfp[dfp.churn == churn].groupby([col])['userId'].count()\n",
    "    try:\n",
    "        ser1.index = ser1.index.astype(int)\n",
    "    except:\n",
    "        pass\n",
    "    if normalize:\n",
    "        ser1=ser1/ser1.sum()*100\n",
    "    return ser1.sort_index()"
   ]
  },
  {
   "cell_type": "code",
   "execution_count": 30,
   "metadata": {},
   "outputs": [],
   "source": [
    "def draw_time(col, normalize=True, figsize=(16,4), title=None, label_rotation=0):\n",
    "    '''\n",
    "    Draw a bar plot for churn and existing users based on \n",
    "         a specific column (hour, month, day, week_day)\n",
    "         \n",
    "    normalize: {bool} T/F, Default is True\n",
    "    figsize: {tuple} the plot size, default is (16,4)\n",
    "    title: descriptive title part\n",
    "    Returns: None\n",
    "    '''\n",
    "    df_time = pd.DataFrame({'Cancelled': get_series(col, 1, normalize),\n",
    "                            'Active users':get_series(col, 0, normalize)})\n",
    "    ax = df_time.plot(kind='bar', figsize=figsize);\n",
    "    ax.set_ylabel('Percent of users')\n",
    "    if title is None:\n",
    "        title = col\n",
    "    ax.set_ylabel(f'Percent of users')\n",
    "    #print(ax.get_xticks())\n",
    "    ax.set_xticklabels(ax.get_xticklabels(), rotation=label_rotation)\n",
    "    ax.set_title(f'Percent of users took action per {title}') \n",
    "    return ax"
   ]
  },
  {
   "cell_type": "code",
   "execution_count": 31,
   "metadata": {},
   "outputs": [
    {
     "data": {
      "image/png": "[encoded data removed]",
      "text/plain": [
       "<matplotlib.figure.Figure at 0x7fa98fcccac8>"
      ]
     },
     "metadata": {
      "needs_background": "light"
     },
     "output_type": "display_data"
    }
   ],
   "source": [
    "draw_time('hour', title='hour of the day');"
   ]
  },
  {
   "cell_type": "markdown",
   "metadata": {},
   "source": [
    "It appears that no visual effect of difference between remaining and cancelling users according to hour of the day.\n",
    "The only effect is that the cancelled users are more active on the time between 13:00 to 20:00"
   ]
  },
  {
   "cell_type": "code",
   "execution_count": 32,
   "metadata": {},
   "outputs": [
    {
     "data": {
      "image/png": "[encoded data removed]",
      "text/plain": [
       "<matplotlib.figure.Figure at 0x7fa99f1435c0>"
      ]
     },
     "metadata": {
      "needs_background": "light"
     },
     "output_type": "display_data"
    }
   ],
   "source": [
    "draw_time('day', title='day of the month');"
   ]
  },
  {
   "cell_type": "markdown",
   "metadata": {},
   "source": [
    "Most cancellation happens at the end of the month, which is logical to avoid renewal fees."
   ]
  },
  {
   "cell_type": "code",
   "execution_count": 33,
   "metadata": {},
   "outputs": [
    {
     "data": {
      "image/png": "[encoded data removed]",
      "text/plain": [
       "<matplotlib.figure.Figure at 0x7fa9b5ad3f60>"
      ]
     },
     "metadata": {
      "needs_background": "light"
     },
     "output_type": "display_data"
    }
   ],
   "source": [
    "ax = draw_time('week_day', title='week day')\n",
    "ax.set_xticklabels(['Mon', 'Tue', 'Wed', 'Thu', 'Fri', 'Sat', 'Sun'], rotation=0);"
   ]
  },
  {
   "cell_type": "markdown",
   "metadata": {},
   "source": [
    "It is noticable that on Friday and Saturday, the churn users are more active, while the remaining users are more active Monday. The remaining days have no noticable difference between user's types."
   ]
  },
  {
   "cell_type": "code",
   "execution_count": 34,
   "metadata": {},
   "outputs": [
    {
     "data": {
      "image/png": "[encoded data removed]",
      "text/plain": [
       "<matplotlib.figure.Figure at 0x7fa98f821438>"
      ]
     },
     "metadata": {
      "needs_background": "light"
     },
     "output_type": "display_data"
    }
   ],
   "source": [
    "draw_time('month');"
   ]
  },
  {
   "cell_type": "markdown",
   "metadata": {},
   "source": [
    "Too few months to judge any effect"
   ]
  },
  {
   "cell_type": "markdown",
   "metadata": {},
   "source": [
    "## Some Categoric features\n",
    "\n",
    "We will investigate the effect of some other features like the location, State, and userAgent\n",
    "\n",
    "### 1. User's operating system"
   ]
  },
  {
   "cell_type": "code",
   "execution_count": 35,
   "metadata": {},
   "outputs": [
    {
     "data": {
      "text/plain": [
       "56"
      ]
     },
     "execution_count": 35,
     "metadata": {},
     "output_type": "execute_result"
    }
   ],
   "source": [
    "dfp.userAgent.unique().shape[0]"
   ]
  },
  {
   "cell_type": "code",
   "execution_count": 36,
   "metadata": {},
   "outputs": [
    {
     "data": {
      "text/plain": [
       "['\"Mozilla/5.0 (iPhone; CPU iPhone OS 7_1_2 like Mac OS X) AppleWebKit/537.51.2 (KHTML, like Gecko) Version/7.0 Mobile/11D257 Safari/9537.53\"',\n",
       " '\"Mozilla/5.0 (Macintosh; Intel Mac OS X 10_9_4) AppleWebKit/537.36 (KHTML, like Gecko) Chrome/36.0.1985.125 Safari/537.36\"',\n",
       " '\"Mozilla/5.0 (Windows NT 6.1; WOW64) AppleWebKit/537.36 (KHTML, like Gecko) Chrome/36.0.1985.143 Safari/537.36\"',\n",
       " '\"Mozilla/5.0 (iPad; CPU OS 7_1_1 like Mac OS X) AppleWebKit/537.51.2 (KHTML, like Gecko) Version/7.0 Mobile/11D201 Safari/9537.53\"']"
      ]
     },
     "execution_count": 36,
     "metadata": {},
     "output_type": "execute_result"
    }
   ],
   "source": [
    "agents = [x.strip() for x  in dfp.userAgent.unique()] \n",
    "# see sample\n",
    "[agents[x] for x in [0, 2, 4, 10]]"
   ]
  },
  {
   "cell_type": "code",
   "execution_count": 37,
   "metadata": {},
   "outputs": [
    {
     "data": {
      "text/plain": [
       "['Compatible',\n",
       " 'Ipad',\n",
       " 'Iphone',\n",
       " 'Macintosh',\n",
       " 'Windows nt 5.1',\n",
       " 'Windows nt 6.0',\n",
       " 'Windows nt 6.1',\n",
       " 'Windows nt 6.2',\n",
       " 'Windows nt 6.3',\n",
       " 'X11']"
      ]
     },
     "execution_count": 37,
     "metadata": {},
     "output_type": "execute_result"
    }
   ],
   "source": [
    "# TO get the data between parenthesis\n",
    "ex = '\\(([^\\)]*)\\)'\n",
    "\n",
    "# All OSs\n",
    "sorted(list(set([re.findall(\n",
    "    ex, x)[0].split(';')[0].capitalize(\n",
    ") for x  in agents])))"
   ]
  },
  {
   "cell_type": "code",
   "execution_count": 38,
   "metadata": {},
   "outputs": [
    {
     "name": "stdout",
     "output_type": "stream",
     "text": [
      "['Linux', 'Mac', 'Windows'] ['Linux', 'MacOS', 'Windows 7', 'Windows 8.0', 'Windows 8.1', 'Windows Vista', 'Windows XP', 'iPad', 'iPhone']\n"
     ]
    }
   ],
   "source": [
    "# Create mappers for the os\n",
    "mapper_general = {'Compatible': 'Windows',  'Ipad': 'Mac',  'Iphone': 'Mac',  \n",
    "          'Macintosh': 'Mac',  'Windows nt 5.1': 'Windows',  \n",
    "          'Windows nt 6.0': 'Windows',  'Windows nt 6.1': 'Windows',  \n",
    "          'Windows nt 6.2': 'Windows',  'Windows nt 6.3': 'Windows',  \n",
    "          'X11': 'Linux'}\n",
    "mapper_specific = {'Compatible': 'Windows 7',  'Ipad': 'iPad',  'Iphone': 'iPhone',  \n",
    "          'Macintosh': 'MacOS',  'Windows nt 5.1': 'Windows XP',  \n",
    "          'Windows nt 6.0': 'Windows Vista',  'Windows nt 6.1': 'Windows 7',  \n",
    "          'Windows nt 6.2': 'Windows 8.0',  'Windows nt 6.3': 'Windows 8.1',  \n",
    "          'X11': 'Linux'}\n",
    "print(sorted(list(set([mapper_general[re.findall(ex, x)[0].split(';')[0].capitalize()] for x  in agents]))),\n",
    "sorted(list(set([mapper_specific[re.findall(ex, x)[0].split(';')[0].capitalize()] for x  in agents]))))"
   ]
  },
  {
   "cell_type": "code",
   "execution_count": 39,
   "metadata": {},
   "outputs": [],
   "source": [
    "# Define user defined functions\n",
    "os_general = udf(lambda x: mapper_general[re.findall(ex, x)[0].split(';')[0].capitalize()])\n",
    "df = df.withColumn(\"os_general\", os_general(df.userAgent))\n",
    "\n",
    "os_specific = udf(lambda x: mapper_specific[re.findall(ex, x)[0].split(';')[0].capitalize()])\n",
    "df = df.withColumn(\"os_specific\", os_specific(df.userAgent))"
   ]
  },
  {
   "cell_type": "markdown",
   "metadata": {},
   "source": [
    "### 2.User's state"
   ]
  },
  {
   "cell_type": "code",
   "execution_count": 40,
   "metadata": {},
   "outputs": [
    {
     "data": {
      "text/plain": [
       "114"
      ]
     },
     "execution_count": 40,
     "metadata": {},
     "output_type": "execute_result"
    }
   ],
   "source": [
    "dfp.location.unique().shape[0]"
   ]
  },
  {
   "cell_type": "code",
   "execution_count": 41,
   "metadata": {},
   "outputs": [
    {
     "data": {
      "text/plain": [
       "58"
      ]
     },
     "execution_count": 41,
     "metadata": {},
     "output_type": "execute_result"
    }
   ],
   "source": [
    "states = set([state[1].strip() for state in [x.split(',') for x in dfp.location.unique()]])\n",
    "len(states)"
   ]
  },
  {
   "cell_type": "code",
   "execution_count": 42,
   "metadata": {},
   "outputs": [],
   "source": [
    "# Define a user defined function\n",
    "get_state = udf(lambda x: x.split(',')[1].strip())\n",
    "df = df.withColumn(\"state\", get_state(df.location))"
   ]
  },
  {
   "cell_type": "code",
   "execution_count": 43,
   "metadata": {},
   "outputs": [
    {
     "data": {
      "text/plain": [
       "[Row(artist='Sleeping With Sirens', auth='Logged In', firstName='Darianna', gender='F', itemInSession=0, lastName='Carpenter', length=202.97098, level='free', location='Bridgeport-Stamford-Norwalk, CT', method='PUT', page='NextSong', registration=1538016340000, sessionId=31, song='Captain Tyin Knots VS Mr Walkway (No Way)', status=200, ts=1539003534000, userAgent='\"Mozilla/5.0 (iPhone; CPU iPhone OS 7_1_2 like Mac OS X) AppleWebKit/537.51.2 (KHTML, like Gecko) Version/7.0 Mobile/11D257 Safari/9537.53\"', userId='100010', churn=0, hour='12', day='8', month='10', week_day='1', os_general='Mac', os_specific='iPhone', state='CT')]"
      ]
     },
     "execution_count": 43,
     "metadata": {},
     "output_type": "execute_result"
    }
   ],
   "source": [
    "df.take(1)"
   ]
  },
  {
   "cell_type": "code",
   "execution_count": 44,
   "metadata": {},
   "outputs": [
    {
     "data": {
      "text/html": [
       "<div>\n",
       "<style scoped>\n",
       "    .dataframe tbody tr th:only-of-type {\n",
       "        vertical-align: middle;\n",
       "    }\n",
       "\n",
       "    .dataframe tbody tr th {\n",
       "        vertical-align: top;\n",
       "    }\n",
       "\n",
       "    .dataframe thead th {\n",
       "        text-align: right;\n",
       "    }\n",
       "</style>\n",
       "<table border=\"1\" class=\"dataframe\">\n",
       "  <thead>\n",
       "    <tr style=\"text-align: right;\">\n",
       "      <th></th>\n",
       "      <th>artist</th>\n",
       "      <th>auth</th>\n",
       "      <th>firstName</th>\n",
       "      <th>gender</th>\n",
       "      <th>itemInSession</th>\n",
       "      <th>lastName</th>\n",
       "      <th>length</th>\n",
       "      <th>level</th>\n",
       "      <th>location</th>\n",
       "      <th>method</th>\n",
       "      <th>...</th>\n",
       "      <th>userAgent</th>\n",
       "      <th>userId</th>\n",
       "      <th>churn</th>\n",
       "      <th>hour</th>\n",
       "      <th>day</th>\n",
       "      <th>month</th>\n",
       "      <th>week_day</th>\n",
       "      <th>os_general</th>\n",
       "      <th>os_specific</th>\n",
       "      <th>state</th>\n",
       "    </tr>\n",
       "  </thead>\n",
       "  <tbody>\n",
       "    <tr>\n",
       "      <th>14921</th>\n",
       "      <td>None</td>\n",
       "      <td>Logged In</td>\n",
       "      <td>Camila</td>\n",
       "      <td>F</td>\n",
       "      <td>178</td>\n",
       "      <td>Calderon</td>\n",
       "      <td>NaN</td>\n",
       "      <td>paid</td>\n",
       "      <td>Boston-Cambridge-Newton, MA-NH</td>\n",
       "      <td>PUT</td>\n",
       "      <td>...</td>\n",
       "      <td>\"Mozilla/5.0 (Windows NT 6.1; WOW64) AppleWebK...</td>\n",
       "      <td>155</td>\n",
       "      <td>0</td>\n",
       "      <td>4</td>\n",
       "      <td>28</td>\n",
       "      <td>11</td>\n",
       "      <td>3</td>\n",
       "      <td>Windows</td>\n",
       "      <td>Windows 7</td>\n",
       "      <td>MA-NH</td>\n",
       "    </tr>\n",
       "    <tr>\n",
       "      <th>176095</th>\n",
       "      <td>Arcade Fire</td>\n",
       "      <td>Logged In</td>\n",
       "      <td>James</td>\n",
       "      <td>M</td>\n",
       "      <td>16</td>\n",
       "      <td>Dickerson</td>\n",
       "      <td>209.13587</td>\n",
       "      <td>paid</td>\n",
       "      <td>New York-Newark-Jersey City, NY-NJ-PA</td>\n",
       "      <td>PUT</td>\n",
       "      <td>...</td>\n",
       "      <td>\"Mozilla/5.0 (Macintosh; Intel Mac OS X 10_9_4...</td>\n",
       "      <td>200017</td>\n",
       "      <td>1</td>\n",
       "      <td>18</td>\n",
       "      <td>15</td>\n",
       "      <td>11</td>\n",
       "      <td>4</td>\n",
       "      <td>Mac</td>\n",
       "      <td>MacOS</td>\n",
       "      <td>NY-NJ-PA</td>\n",
       "    </tr>\n",
       "    <tr>\n",
       "      <th>250615</th>\n",
       "      <td>Lonnie Gordon</td>\n",
       "      <td>Logged In</td>\n",
       "      <td>Saul</td>\n",
       "      <td>M</td>\n",
       "      <td>162</td>\n",
       "      <td>Johnson</td>\n",
       "      <td>181.21098</td>\n",
       "      <td>paid</td>\n",
       "      <td>Houston-The Woodlands-Sugar Land, TX</td>\n",
       "      <td>PUT</td>\n",
       "      <td>...</td>\n",
       "      <td>Mozilla/5.0 (Windows NT 6.1; WOW64; rv:31.0) G...</td>\n",
       "      <td>62</td>\n",
       "      <td>0</td>\n",
       "      <td>5</td>\n",
       "      <td>9</td>\n",
       "      <td>11</td>\n",
       "      <td>5</td>\n",
       "      <td>Windows</td>\n",
       "      <td>Windows 7</td>\n",
       "      <td>TX</td>\n",
       "    </tr>\n",
       "    <tr>\n",
       "      <th>141025</th>\n",
       "      <td>Metric</td>\n",
       "      <td>Logged In</td>\n",
       "      <td>Justin</td>\n",
       "      <td>M</td>\n",
       "      <td>24</td>\n",
       "      <td>Schmidt</td>\n",
       "      <td>245.52444</td>\n",
       "      <td>free</td>\n",
       "      <td>New York-Newark-Jersey City, NY-NJ-PA</td>\n",
       "      <td>PUT</td>\n",
       "      <td>...</td>\n",
       "      <td>\"Mozilla/5.0 (Windows NT 6.1; WOW64) AppleWebK...</td>\n",
       "      <td>102</td>\n",
       "      <td>0</td>\n",
       "      <td>12</td>\n",
       "      <td>4</td>\n",
       "      <td>10</td>\n",
       "      <td>4</td>\n",
       "      <td>Windows</td>\n",
       "      <td>Windows 7</td>\n",
       "      <td>NY-NJ-PA</td>\n",
       "    </tr>\n",
       "    <tr>\n",
       "      <th>205025</th>\n",
       "      <td>Something Corporate</td>\n",
       "      <td>Logged In</td>\n",
       "      <td>Zyonna</td>\n",
       "      <td>F</td>\n",
       "      <td>210</td>\n",
       "      <td>Bird</td>\n",
       "      <td>198.55628</td>\n",
       "      <td>paid</td>\n",
       "      <td>Columbus, GA-AL</td>\n",
       "      <td>PUT</td>\n",
       "      <td>...</td>\n",
       "      <td>Mozilla/5.0 (Windows NT 6.1; WOW64; rv:31.0) G...</td>\n",
       "      <td>88</td>\n",
       "      <td>0</td>\n",
       "      <td>13</td>\n",
       "      <td>28</td>\n",
       "      <td>10</td>\n",
       "      <td>0</td>\n",
       "      <td>Windows</td>\n",
       "      <td>Windows 7</td>\n",
       "      <td>GA-AL</td>\n",
       "    </tr>\n",
       "  </tbody>\n",
       "</table>\n",
       "<p>5 rows × 26 columns</p>\n",
       "</div>"
      ],
      "text/plain": [
       "                     artist       auth firstName gender  itemInSession  \\\n",
       "14921                  None  Logged In    Camila      F            178   \n",
       "176095          Arcade Fire  Logged In     James      M             16   \n",
       "250615        Lonnie Gordon  Logged In      Saul      M            162   \n",
       "141025               Metric  Logged In    Justin      M             24   \n",
       "205025  Something Corporate  Logged In    Zyonna      F            210   \n",
       "\n",
       "         lastName     length level                               location  \\\n",
       "14921    Calderon        NaN  paid         Boston-Cambridge-Newton, MA-NH   \n",
       "176095  Dickerson  209.13587  paid  New York-Newark-Jersey City, NY-NJ-PA   \n",
       "250615    Johnson  181.21098  paid   Houston-The Woodlands-Sugar Land, TX   \n",
       "141025    Schmidt  245.52444  free  New York-Newark-Jersey City, NY-NJ-PA   \n",
       "205025       Bird  198.55628  paid                        Columbus, GA-AL   \n",
       "\n",
       "       method    ...                                             userAgent  \\\n",
       "14921     PUT    ...     \"Mozilla/5.0 (Windows NT 6.1; WOW64) AppleWebK...   \n",
       "176095    PUT    ...     \"Mozilla/5.0 (Macintosh; Intel Mac OS X 10_9_4...   \n",
       "250615    PUT    ...     Mozilla/5.0 (Windows NT 6.1; WOW64; rv:31.0) G...   \n",
       "141025    PUT    ...     \"Mozilla/5.0 (Windows NT 6.1; WOW64) AppleWebK...   \n",
       "205025    PUT    ...     Mozilla/5.0 (Windows NT 6.1; WOW64; rv:31.0) G...   \n",
       "\n",
       "        userId  churn hour  day  month week_day os_general  os_specific  \\\n",
       "14921      155      0    4   28     11        3    Windows    Windows 7   \n",
       "176095  200017      1   18   15     11        4        Mac        MacOS   \n",
       "250615      62      0    5    9     11        5    Windows    Windows 7   \n",
       "141025     102      0   12    4     10        4    Windows    Windows 7   \n",
       "205025      88      0   13   28     10        0    Windows    Windows 7   \n",
       "\n",
       "           state  \n",
       "14921      MA-NH  \n",
       "176095  NY-NJ-PA  \n",
       "250615        TX  \n",
       "141025  NY-NJ-PA  \n",
       "205025     GA-AL  \n",
       "\n",
       "[5 rows x 26 columns]"
      ]
     },
     "execution_count": 44,
     "metadata": {},
     "output_type": "execute_result"
    }
   ],
   "source": [
    "# Convert to pandas for better visuals\n",
    "dfp = df.toPandas()\n",
    "dfp.sample(5)"
   ]
  },
  {
   "cell_type": "code",
   "execution_count": 45,
   "metadata": {},
   "outputs": [
    {
     "data": {
      "image/png": "[encoded data removed]",
      "text/plain": [
       "<matplotlib.figure.Figure at 0x7fa9af5a9940>"
      ]
     },
     "metadata": {
      "needs_background": "light"
     },
     "output_type": "display_data"
    }
   ],
   "source": [
    "draw_time('os_general');"
   ]
  },
  {
   "cell_type": "markdown",
   "metadata": {},
   "source": [
    "It appears that Mac users are happier than Windows and Linux users!"
   ]
  },
  {
   "cell_type": "code",
   "execution_count": 46,
   "metadata": {},
   "outputs": [
    {
     "data": {
      "image/png": "[encoded data removed]",
      "text/plain": [
       "<matplotlib.figure.Figure at 0x7fa9a6306b38>"
      ]
     },
     "metadata": {
      "needs_background": "light"
     },
     "output_type": "display_data"
    }
   ],
   "source": [
    "draw_time('os_specific');"
   ]
  },
  {
   "cell_type": "markdown",
   "metadata": {},
   "source": [
    "Here we find that the happiest users are the iPad users, (No cancelation), then those of the iPad and Windows Vista!\n",
    "\n",
    "Most users who tend to churn are those who use Windows 8.x, Windows XP, and Linux. This may raise an issue about the software the customers use, is it as good and easy as the iPad and iPhone's software that makes the customers happy?"
   ]
  },
  {
   "cell_type": "code",
   "execution_count": 47,
   "metadata": {},
   "outputs": [
    {
     "data": {
      "image/png": "[encoded data removed]",
      "text/plain": [
       "<matplotlib.figure.Figure at 0x7fa98d100390>"
      ]
     },
     "metadata": {
      "needs_background": "light"
     },
     "output_type": "display_data"
    }
   ],
   "source": [
    "draw_time('state', label_rotation=90);"
   ]
  },
  {
   "cell_type": "markdown",
   "metadata": {},
   "source": [
    "It appears that some states affects the user behaviour!"
   ]
  },
  {
   "cell_type": "markdown",
   "metadata": {},
   "source": [
    "# Feature Engineering\n",
    "Once you've familiarized yourself with the data, build out the features you find promising to train your model on. To work with the full dataset, you can follow the following steps.\n",
    "- Write a script to extract the necessary features from the smaller subset of data\n",
    "- Ensure that your script is scalable, using the best practices discussed in Lesson 3\n",
    "- Try your script on the full data set, debugging your script if necessary\n",
    "\n",
    "If you are working in the classroom workspace, you can just extract features based on the small subset of data contained here. Be sure to transfer over this work to the larger dataset when you work on your Spark cluster."
   ]
  },
  {
   "cell_type": "markdown",
   "metadata": {},
   "source": [
    "### Overview\n",
    "\n",
    "There are many featurs to keep,\n",
    "1. Categoric features (needs to be converted to numeric form through dummi encoding)\n",
    "\n",
    "  1. Gender of user\n",
    "  1. The user's OS `os_specific`\n",
    "  1. (may be) the `state` he/she lives in\n",
    "  1. The payment level (Paid/Free)\n",
    "  1. (may be) the top `artist` the user listined to.\n",
    " \n",
    "2. Numeric features\n",
    "\n",
    "  1. Song `length` per user per session\n",
    "  1. Number of ThumbsUp\n",
    "  1. Number of ThumbsDown\n",
    "  1. Number of InviteFriends\n",
    "  1. Number of downgrades\n",
    "  1. Number of songs per session\n",
    "  1. Number of artists the user fans\n",
    "  1. Session's duration\n",
    "  1. Sessions' count per user\n",
    "  1. The user's subscription age\n",
    "  1. Number of days as free/paid user"
   ]
  },
  {
   "cell_type": "markdown",
   "metadata": {},
   "source": [
    "#### *First of all we should create a table of chorn/ not chorn users, as the base of ML dataset*"
   ]
  },
  {
   "cell_type": "code",
   "execution_count": 48,
   "metadata": {},
   "outputs": [
    {
     "name": "stdout",
     "output_type": "stream",
     "text": [
      "+------+-----+\n",
      "|userId|churn|\n",
      "+------+-----+\n",
      "|100010|    0|\n",
      "|200002|    0|\n",
      "|   125|    1|\n",
      "|   124|    0|\n",
      "|    51|    1|\n",
      "|     7|    0|\n",
      "|    15|    0|\n",
      "|    54|    1|\n",
      "|   155|    0|\n",
      "|100014|    1|\n",
      "+------+-----+\n",
      "only showing top 10 rows\n",
      "\n"
     ]
    }
   ],
   "source": [
    "churn_users = df.select('userId', 'churn').dropDuplicates()\n",
    "\n",
    "# check\n",
    "churn_users.show(10)"
   ]
  },
  {
   "cell_type": "markdown",
   "metadata": {},
   "source": [
    "***Getting Dummy variable from the `'gender'`)***"
   ]
  },
  {
   "cell_type": "code",
   "execution_count": 49,
   "metadata": {},
   "outputs": [
    {
     "name": "stdout",
     "output_type": "stream",
     "text": [
      "root\n",
      " |-- userId: string (nullable = true)\n",
      " |-- gender: integer (nullable = true)\n",
      "\n",
      "+------+------+\n",
      "|userId|gender|\n",
      "+------+------+\n",
      "|    44|     0|\n",
      "|    46|     0|\n",
      "|    41|     0|\n",
      "+------+------+\n",
      "only showing top 3 rows\n",
      "\n",
      "None None\n"
     ]
    }
   ],
   "source": [
    "def create_dummy_df (col, dictionary):\n",
    "    '''\n",
    "    Create a dataframe to map a variable\n",
    "    col: the column name\n",
    "    dictionary: the mapping of from->to numeric values\n",
    "    return a dataframe of 2 columns\n",
    "    '''\n",
    "    # To map M and F to numeric values, we first should map to string numbers (to avoid spark error)\n",
    "    col_df = df.select('userId', col).dropDuplicates().replace(dictionary, subset=col)\n",
    "    # Then convert the result to numeric value\n",
    "    col_df = col_df.select('userId', col_df[col].cast('int'))\n",
    "    # Check\n",
    "    print(col_df.printSchema(), col_df.show(3))\n",
    "    return col_df\n",
    "\n",
    "\n",
    "gender_df = create_dummy_df('gender', {'M':'1', 'F':'0'})"
   ]
  },
  {
   "cell_type": "markdown",
   "metadata": {},
   "source": [
    "***Getting Dummy variables from a categoric value (the `'os_specific'`)***\n",
    " [The Source from StackOverflow](https://stackoverflow.com/questions/42805663/e-num-get-dummies-in-pyspark)"
   ]
  },
  {
   "cell_type": "code",
   "execution_count": 50,
   "metadata": {},
   "outputs": [
    {
     "name": "stdout",
     "output_type": "stream",
     "text": [
      "+------+-------+---------+--------------+--------+----------------+--------------+--------+-------------+------------+\n",
      "|userId|OS_iPad|OS_iPhone|OS_Windows 8.1|OS_Linux|OS_Windows Vista|OS_Windows 8.0|OS_MacOS|OS_Windows XP|OS_Windows 7|\n",
      "+------+-------+---------+--------------+--------+----------------+--------------+--------+-------------+------------+\n",
      "|    30|      0|        0|             0|       0|               0|             0|       0|            0|           1|\n",
      "|     9|      0|        0|             0|       0|               0|             0|       0|            0|           1|\n",
      "|    30|      0|        0|             0|       0|               0|             0|       0|            0|           1|\n",
      "|     9|      0|        0|             0|       0|               0|             0|       0|            0|           1|\n",
      "|    30|      0|        0|             0|       0|               0|             0|       0|            0|           1|\n",
      "|     9|      0|        0|             0|       0|               0|             0|       0|            0|           1|\n",
      "|     9|      0|        0|             0|       0|               0|             0|       0|            0|           1|\n",
      "|    30|      0|        0|             0|       0|               0|             0|       0|            0|           1|\n",
      "|    30|      0|        0|             0|       0|               0|             0|       0|            0|           1|\n",
      "|    30|      0|        0|             0|       0|               0|             0|       0|            0|           1|\n",
      "+------+-------+---------+--------------+--------+----------------+--------------+--------+-------------+------------+\n",
      "only showing top 10 rows\n",
      "\n"
     ]
    }
   ],
   "source": [
    "os_titles =  df.select('os_specific').distinct().rdd.flatMap(lambda x: x).collect()\n",
    "os_expr = [sF.when(sF.col('os_specific') == osdt, 1).otherwise(0).alias(\"OS_\" + osdt) for osdt in os_titles]\n",
    "os_df = df.select('userId', *os_expr)\n",
    "os_df.show(10)"
   ]
  },
  {
   "cell_type": "code",
   "execution_count": 51,
   "metadata": {},
   "outputs": [
    {
     "name": "stdout",
     "output_type": "stream",
     "text": [
      "root\n",
      " |-- userId: string (nullable = true)\n",
      " |-- OS_iPad: integer (nullable = false)\n",
      " |-- OS_iPhone: integer (nullable = false)\n",
      " |-- OS_Windows 8.1: integer (nullable = false)\n",
      " |-- OS_Linux: integer (nullable = false)\n",
      " |-- OS_Windows Vista: integer (nullable = false)\n",
      " |-- OS_Windows 8.0: integer (nullable = false)\n",
      " |-- OS_MacOS: integer (nullable = false)\n",
      " |-- OS_Windows XP: integer (nullable = false)\n",
      " |-- OS_Windows 7: integer (nullable = false)\n",
      "\n"
     ]
    }
   ],
   "source": [
    "os_df.printSchema()"
   ]
  },
  {
   "cell_type": "markdown",
   "metadata": {},
   "source": [
    "***Getting Dummy variable from the `'level'`)***"
   ]
  },
  {
   "cell_type": "code",
   "execution_count": 52,
   "metadata": {},
   "outputs": [
    {
     "name": "stdout",
     "output_type": "stream",
     "text": [
      "root\n",
      " |-- userId: string (nullable = true)\n",
      " |-- level: integer (nullable = true)\n",
      "\n",
      "+------+-----+\n",
      "|userId|level|\n",
      "+------+-----+\n",
      "|100021|    0|\n",
      "|200021|    0|\n",
      "|200001|    0|\n",
      "+------+-----+\n",
      "only showing top 3 rows\n",
      "\n",
      "None None\n"
     ]
    }
   ],
   "source": [
    "level_df = create_dummy_df('level', {'paid':'1', 'free':'0'})"
   ]
  },
  {
   "cell_type": "markdown",
   "metadata": {},
   "source": [
    "#### *The `state` and `top_artists` will be omitted in this stage*"
   ]
  },
  {
   "cell_type": "code",
   "execution_count": 53,
   "metadata": {},
   "outputs": [
    {
     "data": {
      "text/plain": [
       "17656"
      ]
     },
     "execution_count": 53,
     "metadata": {},
     "output_type": "execute_result"
    }
   ],
   "source": [
    "# Number of artists in the dataset\n",
    "dfp.artist.unique().shape[0]"
   ]
  },
  {
   "cell_type": "markdown",
   "metadata": {},
   "source": [
    "#### *Song length per user per session (Get mean and StdDev per user)*"
   ]
  },
  {
   "cell_type": "code",
   "execution_count": 54,
   "metadata": {},
   "outputs": [
    {
     "data": {
      "text/html": [
       "<div>\n",
       "<style scoped>\n",
       "    .dataframe tbody tr th:only-of-type {\n",
       "        vertical-align: middle;\n",
       "    }\n",
       "\n",
       "    .dataframe tbody tr th {\n",
       "        vertical-align: top;\n",
       "    }\n",
       "\n",
       "    .dataframe thead th {\n",
       "        text-align: right;\n",
       "    }\n",
       "</style>\n",
       "<table border=\"1\" class=\"dataframe\">\n",
       "  <thead>\n",
       "    <tr style=\"text-align: right;\">\n",
       "      <th></th>\n",
       "      <th>userId</th>\n",
       "      <th>mean_hours</th>\n",
       "      <th>stdev_hours</th>\n",
       "    </tr>\n",
       "  </thead>\n",
       "  <tbody>\n",
       "    <tr>\n",
       "      <th>0</th>\n",
       "      <td>100010</td>\n",
       "      <td>2.656385</td>\n",
       "      <td>1.594089</td>\n",
       "    </tr>\n",
       "    <tr>\n",
       "      <th>1</th>\n",
       "      <td>200002</td>\n",
       "      <td>4.352263</td>\n",
       "      <td>3.481087</td>\n",
       "    </tr>\n",
       "    <tr>\n",
       "      <th>2</th>\n",
       "      <td>125</td>\n",
       "      <td>0.580309</td>\n",
       "      <td>0.000000</td>\n",
       "    </tr>\n",
       "    <tr>\n",
       "      <th>3</th>\n",
       "      <td>51</td>\n",
       "      <td>14.535440</td>\n",
       "      <td>11.600663</td>\n",
       "    </tr>\n",
       "    <tr>\n",
       "      <th>4</th>\n",
       "      <td>124</td>\n",
       "      <td>10.042779</td>\n",
       "      <td>9.370878</td>\n",
       "    </tr>\n",
       "    <tr>\n",
       "      <th>5</th>\n",
       "      <td>7</td>\n",
       "      <td>1.509289</td>\n",
       "      <td>1.737257</td>\n",
       "    </tr>\n",
       "    <tr>\n",
       "      <th>6</th>\n",
       "      <td>54</td>\n",
       "      <td>5.645595</td>\n",
       "      <td>6.724164</td>\n",
       "    </tr>\n",
       "    <tr>\n",
       "      <th>7</th>\n",
       "      <td>15</td>\n",
       "      <td>9.470389</td>\n",
       "      <td>6.159368</td>\n",
       "    </tr>\n",
       "    <tr>\n",
       "      <th>8</th>\n",
       "      <td>155</td>\n",
       "      <td>9.202745</td>\n",
       "      <td>6.528672</td>\n",
       "    </tr>\n",
       "    <tr>\n",
       "      <th>9</th>\n",
       "      <td>100014</td>\n",
       "      <td>3.134420</td>\n",
       "      <td>1.754365</td>\n",
       "    </tr>\n",
       "  </tbody>\n",
       "</table>\n",
       "</div>"
      ],
      "text/plain": [
       "   userId  mean_hours  stdev_hours\n",
       "0  100010    2.656385     1.594089\n",
       "1  200002    4.352263     3.481087\n",
       "2     125    0.580309     0.000000\n",
       "3      51   14.535440    11.600663\n",
       "4     124   10.042779     9.370878\n",
       "5       7    1.509289     1.737257\n",
       "6      54    5.645595     6.724164\n",
       "7      15    9.470389     6.159368\n",
       "8     155    9.202745     6.528672\n",
       "9  100014    3.134420     1.754365"
      ]
     },
     "execution_count": 54,
     "metadata": {},
     "output_type": "execute_result"
    }
   ],
   "source": [
    "song_length = df.filter(df.page=='NextSong').select('userId', 'sessionId', 'length')\n",
    "song_length = song_length.withColumn('hours', (song_length.length / 3600))\n",
    "song_length = song_length.groupBy('userId', 'sessionId').sum('hours')\n",
    "song_length = song_length.groupBy('userId').agg(\n",
    "                        sF.avg('sum(hours)').alias('mean_hours'), \n",
    "                        sF.stddev('sum(hours)').alias('stdev_hours')).na.fill(0)\n",
    "song_length.toPandas().head(10)"
   ]
  },
  {
   "cell_type": "markdown",
   "metadata": {},
   "source": [
    "#### *Number of ThumbsUp, ThumbsDown, InviteFriends, downgrades, ...*"
   ]
  },
  {
   "cell_type": "code",
   "execution_count": 55,
   "metadata": {},
   "outputs": [
    {
     "data": {
      "text/html": [
       "<div>\n",
       "<style scoped>\n",
       "    .dataframe tbody tr th:only-of-type {\n",
       "        vertical-align: middle;\n",
       "    }\n",
       "\n",
       "    .dataframe tbody tr th {\n",
       "        vertical-align: top;\n",
       "    }\n",
       "\n",
       "    .dataframe thead th {\n",
       "        text-align: right;\n",
       "    }\n",
       "</style>\n",
       "<table border=\"1\" class=\"dataframe\">\n",
       "  <thead>\n",
       "    <tr style=\"text-align: right;\">\n",
       "      <th></th>\n",
       "      <th>userId</th>\n",
       "      <th>About</th>\n",
       "      <th>Add Friend</th>\n",
       "      <th>Add to Playlist</th>\n",
       "      <th>Downgrade</th>\n",
       "      <th>Error</th>\n",
       "      <th>Help</th>\n",
       "      <th>Home</th>\n",
       "      <th>Logout</th>\n",
       "      <th>NextSong</th>\n",
       "      <th>Roll Advert</th>\n",
       "      <th>Save Settings</th>\n",
       "      <th>Settings</th>\n",
       "      <th>Submit Downgrade</th>\n",
       "      <th>Submit Upgrade</th>\n",
       "      <th>Thumbs Down</th>\n",
       "      <th>Thumbs Up</th>\n",
       "      <th>Upgrade</th>\n",
       "    </tr>\n",
       "  </thead>\n",
       "  <tbody>\n",
       "    <tr>\n",
       "      <th>0</th>\n",
       "      <td>200002</td>\n",
       "      <td>0.632911</td>\n",
       "      <td>0.843882</td>\n",
       "      <td>1.687764</td>\n",
       "      <td>1.054852</td>\n",
       "      <td>0.000000</td>\n",
       "      <td>0.421941</td>\n",
       "      <td>4.219409</td>\n",
       "      <td>1.054852</td>\n",
       "      <td>81.645570</td>\n",
       "      <td>1.476793</td>\n",
       "      <td>0.000000</td>\n",
       "      <td>0.632911</td>\n",
       "      <td>0.000000</td>\n",
       "      <td>0.210970</td>\n",
       "      <td>1.265823</td>\n",
       "      <td>4.430380</td>\n",
       "      <td>0.421941</td>\n",
       "    </tr>\n",
       "    <tr>\n",
       "      <th>1</th>\n",
       "      <td>100010</td>\n",
       "      <td>0.262467</td>\n",
       "      <td>1.049869</td>\n",
       "      <td>1.837270</td>\n",
       "      <td>0.000000</td>\n",
       "      <td>0.000000</td>\n",
       "      <td>0.524934</td>\n",
       "      <td>2.887139</td>\n",
       "      <td>1.312336</td>\n",
       "      <td>72.178478</td>\n",
       "      <td>13.648294</td>\n",
       "      <td>0.000000</td>\n",
       "      <td>0.000000</td>\n",
       "      <td>0.000000</td>\n",
       "      <td>0.000000</td>\n",
       "      <td>1.312336</td>\n",
       "      <td>4.461942</td>\n",
       "      <td>0.524934</td>\n",
       "    </tr>\n",
       "    <tr>\n",
       "      <th>2</th>\n",
       "      <td>125</td>\n",
       "      <td>0.000000</td>\n",
       "      <td>0.000000</td>\n",
       "      <td>0.000000</td>\n",
       "      <td>0.000000</td>\n",
       "      <td>0.000000</td>\n",
       "      <td>0.000000</td>\n",
       "      <td>0.000000</td>\n",
       "      <td>0.000000</td>\n",
       "      <td>88.888889</td>\n",
       "      <td>11.111111</td>\n",
       "      <td>0.000000</td>\n",
       "      <td>0.000000</td>\n",
       "      <td>0.000000</td>\n",
       "      <td>0.000000</td>\n",
       "      <td>0.000000</td>\n",
       "      <td>0.000000</td>\n",
       "      <td>0.000000</td>\n",
       "    </tr>\n",
       "    <tr>\n",
       "      <th>3</th>\n",
       "      <td>51</td>\n",
       "      <td>0.081235</td>\n",
       "      <td>1.137287</td>\n",
       "      <td>2.112104</td>\n",
       "      <td>0.934200</td>\n",
       "      <td>0.040617</td>\n",
       "      <td>0.487409</td>\n",
       "      <td>3.046304</td>\n",
       "      <td>0.974817</td>\n",
       "      <td>85.743298</td>\n",
       "      <td>0.000000</td>\n",
       "      <td>0.040617</td>\n",
       "      <td>0.487409</td>\n",
       "      <td>0.000000</td>\n",
       "      <td>0.000000</td>\n",
       "      <td>0.852965</td>\n",
       "      <td>4.061738</td>\n",
       "      <td>0.000000</td>\n",
       "    </tr>\n",
       "    <tr>\n",
       "      <th>4</th>\n",
       "      <td>124</td>\n",
       "      <td>0.145078</td>\n",
       "      <td>1.533679</td>\n",
       "      <td>2.445596</td>\n",
       "      <td>0.849741</td>\n",
       "      <td>0.124352</td>\n",
       "      <td>0.476684</td>\n",
       "      <td>3.647668</td>\n",
       "      <td>1.222798</td>\n",
       "      <td>84.538860</td>\n",
       "      <td>0.082902</td>\n",
       "      <td>0.124352</td>\n",
       "      <td>0.414508</td>\n",
       "      <td>0.000000</td>\n",
       "      <td>0.000000</td>\n",
       "      <td>0.849741</td>\n",
       "      <td>3.544041</td>\n",
       "      <td>0.000000</td>\n",
       "    </tr>\n",
       "    <tr>\n",
       "      <th>5</th>\n",
       "      <td>7</td>\n",
       "      <td>0.000000</td>\n",
       "      <td>0.497512</td>\n",
       "      <td>2.487562</td>\n",
       "      <td>0.000000</td>\n",
       "      <td>0.497512</td>\n",
       "      <td>0.497512</td>\n",
       "      <td>4.975124</td>\n",
       "      <td>1.492537</td>\n",
       "      <td>74.626866</td>\n",
       "      <td>7.960199</td>\n",
       "      <td>0.497512</td>\n",
       "      <td>1.492537</td>\n",
       "      <td>0.000000</td>\n",
       "      <td>0.000000</td>\n",
       "      <td>0.497512</td>\n",
       "      <td>3.482587</td>\n",
       "      <td>0.995025</td>\n",
       "    </tr>\n",
       "    <tr>\n",
       "      <th>6</th>\n",
       "      <td>54</td>\n",
       "      <td>0.145560</td>\n",
       "      <td>0.960699</td>\n",
       "      <td>2.096070</td>\n",
       "      <td>1.135371</td>\n",
       "      <td>0.029112</td>\n",
       "      <td>0.494905</td>\n",
       "      <td>3.755459</td>\n",
       "      <td>1.048035</td>\n",
       "      <td>82.707424</td>\n",
       "      <td>1.368268</td>\n",
       "      <td>0.087336</td>\n",
       "      <td>0.494905</td>\n",
       "      <td>0.029112</td>\n",
       "      <td>0.029112</td>\n",
       "      <td>0.844250</td>\n",
       "      <td>4.745269</td>\n",
       "      <td>0.029112</td>\n",
       "    </tr>\n",
       "    <tr>\n",
       "      <th>7</th>\n",
       "      <td>15</td>\n",
       "      <td>0.087796</td>\n",
       "      <td>1.360843</td>\n",
       "      <td>2.589991</td>\n",
       "      <td>1.229148</td>\n",
       "      <td>0.087796</td>\n",
       "      <td>0.351185</td>\n",
       "      <td>4.082529</td>\n",
       "      <td>1.185250</td>\n",
       "      <td>84.021071</td>\n",
       "      <td>0.043898</td>\n",
       "      <td>0.087796</td>\n",
       "      <td>0.702371</td>\n",
       "      <td>0.000000</td>\n",
       "      <td>0.000000</td>\n",
       "      <td>0.614574</td>\n",
       "      <td>3.555751</td>\n",
       "      <td>0.000000</td>\n",
       "    </tr>\n",
       "    <tr>\n",
       "      <th>8</th>\n",
       "      <td>155</td>\n",
       "      <td>0.199601</td>\n",
       "      <td>1.097804</td>\n",
       "      <td>2.395210</td>\n",
       "      <td>1.197605</td>\n",
       "      <td>0.299401</td>\n",
       "      <td>0.898204</td>\n",
       "      <td>2.994012</td>\n",
       "      <td>1.397206</td>\n",
       "      <td>81.836327</td>\n",
       "      <td>0.798403</td>\n",
       "      <td>0.000000</td>\n",
       "      <td>0.499002</td>\n",
       "      <td>0.000000</td>\n",
       "      <td>0.099800</td>\n",
       "      <td>0.299401</td>\n",
       "      <td>5.788423</td>\n",
       "      <td>0.199601</td>\n",
       "    </tr>\n",
       "    <tr>\n",
       "      <th>9</th>\n",
       "      <td>132</td>\n",
       "      <td>0.173611</td>\n",
       "      <td>1.779514</td>\n",
       "      <td>1.649306</td>\n",
       "      <td>0.824653</td>\n",
       "      <td>0.130208</td>\n",
       "      <td>0.694444</td>\n",
       "      <td>3.602431</td>\n",
       "      <td>1.475694</td>\n",
       "      <td>83.680556</td>\n",
       "      <td>0.086806</td>\n",
       "      <td>0.173611</td>\n",
       "      <td>0.737847</td>\n",
       "      <td>0.000000</td>\n",
       "      <td>0.043403</td>\n",
       "      <td>0.737847</td>\n",
       "      <td>4.166667</td>\n",
       "      <td>0.043403</td>\n",
       "    </tr>\n",
       "  </tbody>\n",
       "</table>\n",
       "</div>"
      ],
      "text/plain": [
       "   userId     About  Add Friend  Add to Playlist  Downgrade     Error  \\\n",
       "0  200002  0.632911    0.843882         1.687764   1.054852  0.000000   \n",
       "1  100010  0.262467    1.049869         1.837270   0.000000  0.000000   \n",
       "2     125  0.000000    0.000000         0.000000   0.000000  0.000000   \n",
       "3      51  0.081235    1.137287         2.112104   0.934200  0.040617   \n",
       "4     124  0.145078    1.533679         2.445596   0.849741  0.124352   \n",
       "5       7  0.000000    0.497512         2.487562   0.000000  0.497512   \n",
       "6      54  0.145560    0.960699         2.096070   1.135371  0.029112   \n",
       "7      15  0.087796    1.360843         2.589991   1.229148  0.087796   \n",
       "8     155  0.199601    1.097804         2.395210   1.197605  0.299401   \n",
       "9     132  0.173611    1.779514         1.649306   0.824653  0.130208   \n",
       "\n",
       "       Help      Home    Logout   NextSong  Roll Advert  Save Settings  \\\n",
       "0  0.421941  4.219409  1.054852  81.645570     1.476793       0.000000   \n",
       "1  0.524934  2.887139  1.312336  72.178478    13.648294       0.000000   \n",
       "2  0.000000  0.000000  0.000000  88.888889    11.111111       0.000000   \n",
       "3  0.487409  3.046304  0.974817  85.743298     0.000000       0.040617   \n",
       "4  0.476684  3.647668  1.222798  84.538860     0.082902       0.124352   \n",
       "5  0.497512  4.975124  1.492537  74.626866     7.960199       0.497512   \n",
       "6  0.494905  3.755459  1.048035  82.707424     1.368268       0.087336   \n",
       "7  0.351185  4.082529  1.185250  84.021071     0.043898       0.087796   \n",
       "8  0.898204  2.994012  1.397206  81.836327     0.798403       0.000000   \n",
       "9  0.694444  3.602431  1.475694  83.680556     0.086806       0.173611   \n",
       "\n",
       "   Settings  Submit Downgrade  Submit Upgrade  Thumbs Down  Thumbs Up  \\\n",
       "0  0.632911          0.000000        0.210970     1.265823   4.430380   \n",
       "1  0.000000          0.000000        0.000000     1.312336   4.461942   \n",
       "2  0.000000          0.000000        0.000000     0.000000   0.000000   \n",
       "3  0.487409          0.000000        0.000000     0.852965   4.061738   \n",
       "4  0.414508          0.000000        0.000000     0.849741   3.544041   \n",
       "5  1.492537          0.000000        0.000000     0.497512   3.482587   \n",
       "6  0.494905          0.029112        0.029112     0.844250   4.745269   \n",
       "7  0.702371          0.000000        0.000000     0.614574   3.555751   \n",
       "8  0.499002          0.000000        0.099800     0.299401   5.788423   \n",
       "9  0.737847          0.000000        0.043403     0.737847   4.166667   \n",
       "\n",
       "    Upgrade  \n",
       "0  0.421941  \n",
       "1  0.524934  \n",
       "2  0.000000  \n",
       "3  0.000000  \n",
       "4  0.000000  \n",
       "5  0.995025  \n",
       "6  0.029112  \n",
       "7  0.000000  \n",
       "8  0.199601  \n",
       "9  0.043403  "
      ]
     },
     "execution_count": 55,
     "metadata": {},
     "output_type": "execute_result"
    }
   ],
   "source": [
    "# To get the Number of ThumbsUp, ThumbsDown, InviteFriends, downgrades, ...\n",
    "# I think it is better to get all actions except Chorn actions (Cancel, cancelation confirmation)\n",
    "# The to normalize them as percent to sum all to 100.\n",
    "\n",
    "# The distribution of pages per user (FILLING NAN with 0)\n",
    "user_page_distribution = df.groupby('userId').pivot('page').count().na.fill(0) #.toPandas().head(30)\n",
    "\n",
    "# Drop Cancel\tCancellation Confirmation columns\n",
    "user_page_distribution = user_page_distribution.drop(*['Cancel','Cancellation Confirmation'])\n",
    "\n",
    "# Normalizing each row to sum to 1\n",
    "\n",
    "# SOURCES\n",
    "# https://stackoverflow.com/questions/47641076/spark-normalize-each-row-of-a-dataframe\n",
    "# https://stackoverflow.com/questions/31955309/add-column-sum-as-new-column-in-pyspark-dataframe\n",
    "\n",
    "# the columns to be summed\n",
    "pages_cols = user_page_distribution.columns[1:]\n",
    "\n",
    "# Add a total column\n",
    "new_df = user_page_distribution.withColumn('total', sum(user_page_distribution[col] for col in pages_cols))\n",
    "\n",
    "# Apply normalization per column\n",
    "for col in pages_cols:\n",
    "    new_df = new_df.withColumn(f'norm_{col}', new_df[col] / new_df['total'] * 100.)\n",
    "    \n",
    "# Remove the total column    \n",
    "new_df = new_df.drop('total')\n",
    "\n",
    "# Remove the original columns\n",
    "new_df = new_df.drop(*pages_cols)\n",
    "\n",
    "# Rename the normalized columns back\n",
    "oldColumns = new_df.columns\n",
    "newColumns = ['userId'] + pages_cols\n",
    "user_page_distribution = reduce(lambda new_df, idx: new_df.withColumnRenamed(oldColumns[idx], newColumns[idx]), range(len(oldColumns)), new_df)\n",
    "\n",
    "# Freeup memory\n",
    "new_df=None\n",
    "\n",
    "user_page_distribution.toPandas().head(10)"
   ]
  },
  {
   "cell_type": "markdown",
   "metadata": {},
   "source": [
    "#### *Number of songs per session*"
   ]
  },
  {
   "cell_type": "code",
   "execution_count": 56,
   "metadata": {},
   "outputs": [
    {
     "name": "stdout",
     "output_type": "stream",
     "text": [
      "+------+------------------+------------------+\n",
      "|userId|        mean_songs|       stdev_songs|\n",
      "+------+------------------+------------------+\n",
      "|100010|39.285714285714285| 22.96166577663945|\n",
      "|200002|              64.5|51.309843110264914|\n",
      "|   125|               8.0|               0.0|\n",
      "+------+------------------+------------------+\n",
      "only showing top 3 rows\n",
      "\n"
     ]
    }
   ],
   "source": [
    "# 2-F Number of songs per session\n",
    "\n",
    "# number of changing songs\n",
    "song_user_df = df.filter(df.page == 'NextSong').groupBy(\n",
    "                        'userId', 'sessionId').count()\n",
    "song_user_df = song_user_df.groupBy('userId').agg(\n",
    "                        sF.avg('count').alias('mean_songs'), \n",
    "                        sF.stddev('count').alias('stdev_songs'))\n",
    "song_user_df = song_user_df.na.fill(0)\n",
    "song_user_df.show(3)"
   ]
  },
  {
   "cell_type": "markdown",
   "metadata": {},
   "source": [
    "#### *Number of artists the user fans*"
   ]
  },
  {
   "cell_type": "code",
   "execution_count": 57,
   "metadata": {},
   "outputs": [
    {
     "name": "stdout",
     "output_type": "stream",
     "text": [
      "+------+----------+\n",
      "|userId|num_aritst|\n",
      "+------+----------+\n",
      "|100010|       253|\n",
      "|200002|       340|\n",
      "|   125|         9|\n",
      "+------+----------+\n",
      "only showing top 3 rows\n",
      "\n"
     ]
    }
   ],
   "source": [
    "# Number of artists the user fans\n",
    "artists_user_fans = df.select('userId', 'artist').dropDuplicates().groupBy('userId').count().withColumnRenamed(\"count\", \"num_aritst\")\n",
    "artists_user_fans.show(3)"
   ]
  },
  {
   "cell_type": "markdown",
   "metadata": {},
   "source": [
    "#### *Session Duration*"
   ]
  },
  {
   "cell_type": "code",
   "execution_count": 58,
   "metadata": {},
   "outputs": [
    {
     "name": "stdout",
     "output_type": "stream",
     "text": [
      "+------+---------+------------------+\n",
      "|userId|sessionId|     session_hours|\n",
      "+------+---------+------------------+\n",
      "|   101|      635|55.000277777777775|\n",
      "|   110|     1776|1.3908333333333334|\n",
      "|   120|      627|15.855555555555556|\n",
      "+------+---------+------------------+\n",
      "only showing top 3 rows\n",
      "\n"
     ]
    }
   ],
   "source": [
    "# 2-G.1 Session Duration\n",
    "\n",
    "session_end = df.groupBy('userId', 'sessionId').max('ts').withColumnRenamed(\n",
    "                                                            'max(ts)', 'end')\n",
    "session_start = df.groupBy('userId', 'sessionId').min('ts').withColumnRenamed(\n",
    "                                                            'min(ts)', 'start')\n",
    "session_df = session_start.join(session_end,['userId', 'sessionId'])\n",
    "ticks_per_hours = 1000 * 60 * 60\n",
    "session_df = session_df.select('userId', 'sessionId', ((\n",
    "    session_df.end-session_df.start)/ticks_per_hours).alias('session_hours'))\n",
    "session_df.show(3)"
   ]
  },
  {
   "cell_type": "code",
   "execution_count": 59,
   "metadata": {},
   "outputs": [
    {
     "name": "stdout",
     "output_type": "stream",
     "text": [
      "+------+-------------------+------------------+\n",
      "|userId|     mean_session_h|   stdev_session_h|\n",
      "+------+-------------------+------------------+\n",
      "|100010|  2.574722222222223|1.5888758093219746|\n",
      "|200002|               4.44| 3.615756029749058|\n",
      "|   125|0.49277777777777776|               0.0|\n",
      "+------+-------------------+------------------+\n",
      "only showing top 3 rows\n",
      "\n"
     ]
    }
   ],
   "source": [
    "# 2-G.2  Get Average, and Standard deviation of the session duration per user\n",
    "\n",
    "session_user_df = session_df.groupBy('userId').agg(\n",
    "                        sF.avg('session_hours').alias('mean_session_h'), \n",
    "                        sF.stddev('session_hours').alias('stdev_session_h'))\n",
    "# Fill NaN with 0\n",
    "session_user_df = session_user_df.na.fill(0)\n",
    "session_user_df.show(3)"
   ]
  },
  {
   "cell_type": "markdown",
   "metadata": {},
   "source": [
    "#### *Sessions count per user*"
   ]
  },
  {
   "cell_type": "code",
   "execution_count": 60,
   "metadata": {},
   "outputs": [
    {
     "name": "stdout",
     "output_type": "stream",
     "text": [
      "+------+------------+\n",
      "|userId|num_sessions|\n",
      "+------+------------+\n",
      "|100010|           7|\n",
      "|200002|           6|\n",
      "|   125|           1|\n",
      "+------+------------+\n",
      "only showing top 3 rows\n",
      "\n"
     ]
    }
   ],
   "source": [
    "# 2-H Sessions count per user\n",
    "num_sessions_user_df = df.select('userId', 'sessionId').dropDuplicates().groupby('userId').count().withColumnRenamed('count', 'num_sessions')\n",
    "num_sessions_user_df.show(3)"
   ]
  },
  {
   "cell_type": "markdown",
   "metadata": {},
   "source": [
    "#### *The user's subscription age*"
   ]
  },
  {
   "cell_type": "code",
   "execution_count": 61,
   "metadata": {},
   "outputs": [
    {
     "name": "stdout",
     "output_type": "stream",
     "text": [
      "+------+-----------------------+\n",
      "|userId|days_total_subscription|\n",
      "+------+-----------------------+\n",
      "|100010|      55.64365740740741|\n",
      "|200002|      70.07462962962963|\n",
      "|   125|      71.31688657407408|\n",
      "|   124|     131.55591435185184|\n",
      "|    51|     19.455844907407407|\n",
      "+------+-----------------------+\n",
      "only showing top 5 rows\n",
      "\n"
     ]
    }
   ],
   "source": [
    "# 2-I The user's subscription age\n",
    "def days_since_subscription(df, col_name='days_on'):\n",
    "    # timestamp of users registration\n",
    "    reg_ts = df.select('userId', 'registration').dropDuplicates().withColumnRenamed('registration', 'start')\n",
    "    # reg_ts.show(5)\n",
    "    # The maximum timestamp found for the user\n",
    "    end_ts = df.groupBy('userId').max('ts').withColumnRenamed('max(ts)', 'end')\n",
    "    # end_ts.show(5)\n",
    "    # The difference\n",
    "    reg_df = reg_ts.join(end_ts,'userId')\n",
    "    ticks_per_day = 1000 * 60 * 60 * 24 # as the timestamp is in ticks (0.001 seconds)\n",
    "    # Merge in one df\n",
    "    reg_df = reg_df.select('userId', ((reg_df.end-reg_df.start)/ticks_per_day).alias(col_name))\n",
    "    # reg_ts.join(user_max_ts, user_reg_ts.userId == user_max_ts.userId).select(user_reg_ts[\"userId\"], ((user_max_ts[\"max(ts)\"]-user_reg_ts[\"registration\"])/(1000*60*60*24)).alias(\"regDay\"))\n",
    "    return reg_df\n",
    "\n",
    "reg_df = days_since_subscription(df, col_name='days_total_subscription')\n",
    "reg_df.show(5)"
   ]
  },
  {
   "cell_type": "markdown",
   "metadata": {},
   "source": [
    "#### *Number of days as free/paid user*"
   ]
  },
  {
   "cell_type": "code",
   "execution_count": 62,
   "metadata": {},
   "outputs": [
    {
     "name": "stdout",
     "output_type": "stream",
     "text": [
      "+------+----------------------+\n",
      "|userId|days_paid_subscription|\n",
      "+------+----------------------+\n",
      "|200002|     70.07462962962963|\n",
      "|   124|    131.55591435185184|\n",
      "|    51|    19.455844907407407|\n",
      "|    15|    56.513576388888886|\n",
      "|    54|    110.75168981481481|\n",
      "+------+----------------------+\n",
      "only showing top 5 rows\n",
      "\n"
     ]
    }
   ],
   "source": [
    "df_paid = df.filter(df.level=='paid')\n",
    "paid_df = days_since_subscription(df_paid, col_name='days_paid_subscription')\n",
    "paid_df.show(5)"
   ]
  },
  {
   "cell_type": "code",
   "execution_count": 63,
   "metadata": {},
   "outputs": [
    {
     "name": "stdout",
     "output_type": "stream",
     "text": [
      "+------+----------------------+\n",
      "|userId|days_free_subscription|\n",
      "+------+----------------------+\n",
      "|100010|     55.64365740740741|\n",
      "|200002|     41.49415509259259|\n",
      "|   125|     71.31688657407408|\n",
      "|     7|     72.77818287037037|\n",
      "|    54|     96.45179398148149|\n",
      "+------+----------------------+\n",
      "only showing top 5 rows\n",
      "\n"
     ]
    }
   ],
   "source": [
    "df_free = df.filter(df.level=='free')\n",
    "free_df = days_since_subscription(df_free, col_name='days_free_subscription')\n",
    "free_df.show(5)"
   ]
  },
  {
   "cell_type": "markdown",
   "metadata": {},
   "source": [
    "It appears that the number are inconsistent, because the code considers the minimum TS is the registration day, not the minimum day the user status is paid or free. The correct calculation could be performed by Window function over the change in status. *I will not do it now!* <br>**BUT** ***Better to see the free or paid songs percent per user***"
   ]
  },
  {
   "cell_type": "code",
   "execution_count": 78,
   "metadata": {},
   "outputs": [
    {
     "name": "stdout",
     "output_type": "stream",
     "text": [
      "+------+------------------+-----------------+\n",
      "|userId|      free_percent|     paid_percent|\n",
      "+------+------------------+-----------------+\n",
      "|200002| 22.48062015503876|77.51937984496125|\n",
      "|100010|             100.0|              0.0|\n",
      "|   125|             100.0|              0.0|\n",
      "|     7|             100.0|              0.0|\n",
      "|   124|               0.0|            100.0|\n",
      "|    51|               0.0|            100.0|\n",
      "|    54|15.452305526223162|84.54769447377683|\n",
      "|    15|               0.0|            100.0|\n",
      "|   155|12.317073170731707| 87.6829268292683|\n",
      "|   132|1.4522821576763485|98.54771784232366|\n",
      "+------+------------------+-----------------+\n",
      "only showing top 10 rows\n",
      "\n"
     ]
    }
   ],
   "source": [
    "paid_free_df = df.filter(df.page=='NextSong').groupBy('userId').pivot('level').count()\n",
    "paid_free_df = paid_free_df.na.fill(0)\n",
    "active_cols = paid_free_df.columns[1:]\n",
    "paid_free_df = paid_free_df.withColumn('total', \n",
    "                                       sum(paid_free_df[col] for col in active_cols))\n",
    "for col in active_cols:\n",
    "    paid_free_df = paid_free_df.withColumn(f'{col}_percent', \n",
    "                                           paid_free_df[col] / paid_free_df.total * 100)\n",
    "active_cols.append('total')    \n",
    "paid_free_df = paid_free_df.drop(*active_cols)\n",
    "paid_free_df.show(10)"
   ]
  },
  {
   "cell_type": "markdown",
   "metadata": {},
   "source": [
    "It is enough to keep only the `paid_percent` or the `free_percent`"
   ]
  },
  {
   "cell_type": "code",
   "execution_count": 79,
   "metadata": {},
   "outputs": [
    {
     "name": "stdout",
     "output_type": "stream",
     "text": [
      "+------+-----------------+\n",
      "|userId|     paid_percent|\n",
      "+------+-----------------+\n",
      "|200002|77.51937984496125|\n",
      "|100010|              0.0|\n",
      "|   125|              0.0|\n",
      "+------+-----------------+\n",
      "only showing top 3 rows\n",
      "\n"
     ]
    }
   ],
   "source": [
    "paid_free_df = paid_free_df.drop('free_percent')\n",
    "paid_free_df.show(3)"
   ]
  },
  {
   "cell_type": "markdown",
   "metadata": {},
   "source": [
    "### Collect all"
   ]
  },
  {
   "cell_type": "code",
   "execution_count": 87,
   "metadata": {},
   "outputs": [],
   "source": [
    "# the features to collect\n",
    "user_features = [gender_df, os_df, paid_free_df, song_length, \n",
    "                   user_page_distribution, song_user_df, artists_user_fans, \n",
    "                   session_user_df, num_sessions_user_df, reg_df]\n",
    "user_features_names = ['gender_df', 'os_df', 'paid_free_df', 'song_length', \n",
    "                   'user_page_distribution', 'song_user_df', 'artists_user_fans', \n",
    "                   'session_user_df', 'num_sessions_user_df', 'reg_df']"
   ]
  },
  {
   "cell_type": "code",
   "execution_count": 88,
   "metadata": {},
   "outputs": [
    {
     "name": "stdout",
     "output_type": "stream",
     "text": [
      "Preparing features of the gender_df dataframe; the new frame's dimensions is: 225 * 3\n",
      "Preparing features of the os_df dataframe; the new frame's dimensions is: 225 * 12\n",
      "Preparing features of the paid_free_df dataframe; the new frame's dimensions is: 225 * 13\n",
      "Preparing features of the song_length dataframe; the new frame's dimensions is: 225 * 15\n",
      "Preparing features of the user_page_distribution dataframe; the new frame's dimensions is: 225 * 32\n",
      "Preparing features of the song_user_df dataframe; the new frame's dimensions is: 225 * 34\n",
      "Preparing features of the artists_user_fans dataframe; the new frame's dimensions is: 225 * 35\n",
      "Preparing features of the session_user_df dataframe; the new frame's dimensions is: 225 * 37\n",
      "Preparing features of the num_sessions_user_df dataframe; the new frame's dimensions is: 225 * 38\n",
      "Preparing features of the reg_df dataframe; the new frame's dimensions is: 225 * 39\n",
      "*** ALL DONE ***\n"
     ]
    }
   ],
   "source": [
    "# Initialize the final_df\n",
    "final_df = chorn_users\n",
    "\n",
    "def join_features(base, new):\n",
    "    df_to_join = new#.withColumnRenamed('userId', 't_userId')\n",
    "    base = base.join(df_to_join, 'userId', how='inner')#.drop('t_userId')#.show(10)\n",
    "    return base.dropDuplicates()\n",
    "\n",
    "for i, feature in enumerate(user_features):\n",
    "    print(f'Preparing features of the {user_features_names[i]} dataframe', end='; ')\n",
    "    final_df = join_features(final_df, feature)\n",
    "    print (f\"the new frame's dimensions is: {final_df.count()} * {len(final_df.columns)}\")\n",
    "final_df = final_df.orderBy('userId', ascending=True)\n",
    "print('*** ALL DONE ***')"
   ]
  },
  {
   "cell_type": "markdown",
   "metadata": {},
   "source": [
    "#### Saving the dataframe for future access in another session"
   ]
  },
  {
   "cell_type": "code",
   "execution_count": 89,
   "metadata": {},
   "outputs": [],
   "source": [
    "# Saving as SPARK format\n",
    "final_df.write.save('saved_user_dataset.CSV', format='csv', header=True)"
   ]
  },
  {
   "cell_type": "markdown",
   "metadata": {},
   "source": [
    "#### And a pandas dataset as well"
   ]
  },
  {
   "cell_type": "code",
   "execution_count": 90,
   "metadata": {},
   "outputs": [
    {
     "data": {
      "text/html": [
       "<div>\n",
       "<style scoped>\n",
       "    .dataframe tbody tr th:only-of-type {\n",
       "        vertical-align: middle;\n",
       "    }\n",
       "\n",
       "    .dataframe tbody tr th {\n",
       "        vertical-align: top;\n",
       "    }\n",
       "\n",
       "    .dataframe thead th {\n",
       "        text-align: right;\n",
       "    }\n",
       "</style>\n",
       "<table border=\"1\" class=\"dataframe\">\n",
       "  <thead>\n",
       "    <tr style=\"text-align: right;\">\n",
       "      <th></th>\n",
       "      <th>userId</th>\n",
       "      <th>churn</th>\n",
       "      <th>gender</th>\n",
       "      <th>OS_iPad</th>\n",
       "      <th>OS_iPhone</th>\n",
       "      <th>OS_Windows 8.1</th>\n",
       "      <th>OS_Linux</th>\n",
       "      <th>OS_Windows Vista</th>\n",
       "      <th>OS_Windows 8.0</th>\n",
       "      <th>OS_MacOS</th>\n",
       "      <th>...</th>\n",
       "      <th>Thumbs Down</th>\n",
       "      <th>Thumbs Up</th>\n",
       "      <th>Upgrade</th>\n",
       "      <th>mean_songs</th>\n",
       "      <th>stdev_songs</th>\n",
       "      <th>num_aritst</th>\n",
       "      <th>mean_session_h</th>\n",
       "      <th>stdev_session_h</th>\n",
       "      <th>num_sessions</th>\n",
       "      <th>days_total_subscription</th>\n",
       "    </tr>\n",
       "  </thead>\n",
       "  <tbody>\n",
       "    <tr>\n",
       "      <th>0</th>\n",
       "      <td>10</td>\n",
       "      <td>0</td>\n",
       "      <td>1</td>\n",
       "      <td>0</td>\n",
       "      <td>0</td>\n",
       "      <td>0</td>\n",
       "      <td>0</td>\n",
       "      <td>0</td>\n",
       "      <td>0</td>\n",
       "      <td>1</td>\n",
       "      <td>...</td>\n",
       "      <td>0.503145</td>\n",
       "      <td>4.654088</td>\n",
       "      <td>0.000000</td>\n",
       "      <td>112.166667</td>\n",
       "      <td>133.324291</td>\n",
       "      <td>566</td>\n",
       "      <td>7.662454</td>\n",
       "      <td>8.991061</td>\n",
       "      <td>6</td>\n",
       "      <td>51.762650</td>\n",
       "    </tr>\n",
       "    <tr>\n",
       "      <th>1</th>\n",
       "      <td>100</td>\n",
       "      <td>0</td>\n",
       "      <td>1</td>\n",
       "      <td>0</td>\n",
       "      <td>0</td>\n",
       "      <td>0</td>\n",
       "      <td>0</td>\n",
       "      <td>0</td>\n",
       "      <td>0</td>\n",
       "      <td>0</td>\n",
       "      <td>...</td>\n",
       "      <td>0.840075</td>\n",
       "      <td>4.604854</td>\n",
       "      <td>0.031114</td>\n",
       "      <td>78.882353</td>\n",
       "      <td>74.057621</td>\n",
       "      <td>1706</td>\n",
       "      <td>5.275317</td>\n",
       "      <td>5.133618</td>\n",
       "      <td>35</td>\n",
       "      <td>64.873773</td>\n",
       "    </tr>\n",
       "    <tr>\n",
       "      <th>2</th>\n",
       "      <td>100001</td>\n",
       "      <td>1</td>\n",
       "      <td>0</td>\n",
       "      <td>0</td>\n",
       "      <td>0</td>\n",
       "      <td>0</td>\n",
       "      <td>0</td>\n",
       "      <td>0</td>\n",
       "      <td>0</td>\n",
       "      <td>1</td>\n",
       "      <td>...</td>\n",
       "      <td>1.081081</td>\n",
       "      <td>4.324324</td>\n",
       "      <td>1.081081</td>\n",
       "      <td>33.250000</td>\n",
       "      <td>16.839933</td>\n",
       "      <td>126</td>\n",
       "      <td>2.469306</td>\n",
       "      <td>1.051126</td>\n",
       "      <td>4</td>\n",
       "      <td>44.800220</td>\n",
       "    </tr>\n",
       "    <tr>\n",
       "      <th>3</th>\n",
       "      <td>100002</td>\n",
       "      <td>0</td>\n",
       "      <td>0</td>\n",
       "      <td>0</td>\n",
       "      <td>0</td>\n",
       "      <td>0</td>\n",
       "      <td>0</td>\n",
       "      <td>0</td>\n",
       "      <td>0</td>\n",
       "      <td>0</td>\n",
       "      <td>...</td>\n",
       "      <td>0.000000</td>\n",
       "      <td>2.293578</td>\n",
       "      <td>0.000000</td>\n",
       "      <td>48.750000</td>\n",
       "      <td>84.428964</td>\n",
       "      <td>185</td>\n",
       "      <td>3.353056</td>\n",
       "      <td>5.901765</td>\n",
       "      <td>4</td>\n",
       "      <td>160.472072</td>\n",
       "    </tr>\n",
       "    <tr>\n",
       "      <th>4</th>\n",
       "      <td>100003</td>\n",
       "      <td>1</td>\n",
       "      <td>0</td>\n",
       "      <td>0</td>\n",
       "      <td>0</td>\n",
       "      <td>0</td>\n",
       "      <td>0</td>\n",
       "      <td>0</td>\n",
       "      <td>0</td>\n",
       "      <td>0</td>\n",
       "      <td>...</td>\n",
       "      <td>0.000000</td>\n",
       "      <td>3.947368</td>\n",
       "      <td>0.000000</td>\n",
       "      <td>25.500000</td>\n",
       "      <td>33.234019</td>\n",
       "      <td>51</td>\n",
       "      <td>1.651944</td>\n",
       "      <td>2.260385</td>\n",
       "      <td>2</td>\n",
       "      <td>22.748113</td>\n",
       "    </tr>\n",
       "    <tr>\n",
       "      <th>5</th>\n",
       "      <td>100004</td>\n",
       "      <td>0</td>\n",
       "      <td>0</td>\n",
       "      <td>0</td>\n",
       "      <td>0</td>\n",
       "      <td>0</td>\n",
       "      <td>0</td>\n",
       "      <td>0</td>\n",
       "      <td>0</td>\n",
       "      <td>0</td>\n",
       "      <td>...</td>\n",
       "      <td>0.883534</td>\n",
       "      <td>2.811245</td>\n",
       "      <td>0.642570</td>\n",
       "      <td>47.100000</td>\n",
       "      <td>55.459706</td>\n",
       "      <td>734</td>\n",
       "      <td>3.099775</td>\n",
       "      <td>3.895202</td>\n",
       "      <td>21</td>\n",
       "      <td>172.440081</td>\n",
       "    </tr>\n",
       "    <tr>\n",
       "      <th>6</th>\n",
       "      <td>100005</td>\n",
       "      <td>1</td>\n",
       "      <td>1</td>\n",
       "      <td>0</td>\n",
       "      <td>0</td>\n",
       "      <td>0</td>\n",
       "      <td>0</td>\n",
       "      <td>0</td>\n",
       "      <td>0</td>\n",
       "      <td>1</td>\n",
       "      <td>...</td>\n",
       "      <td>1.401869</td>\n",
       "      <td>3.271028</td>\n",
       "      <td>1.869159</td>\n",
       "      <td>38.500000</td>\n",
       "      <td>13.771952</td>\n",
       "      <td>150</td>\n",
       "      <td>2.003111</td>\n",
       "      <td>1.367039</td>\n",
       "      <td>5</td>\n",
       "      <td>85.195590</td>\n",
       "    </tr>\n",
       "    <tr>\n",
       "      <th>7</th>\n",
       "      <td>100006</td>\n",
       "      <td>1</td>\n",
       "      <td>0</td>\n",
       "      <td>0</td>\n",
       "      <td>0</td>\n",
       "      <td>1</td>\n",
       "      <td>0</td>\n",
       "      <td>0</td>\n",
       "      <td>0</td>\n",
       "      <td>0</td>\n",
       "      <td>...</td>\n",
       "      <td>4.761905</td>\n",
       "      <td>4.761905</td>\n",
       "      <td>0.000000</td>\n",
       "      <td>26.000000</td>\n",
       "      <td>0.000000</td>\n",
       "      <td>27</td>\n",
       "      <td>1.557222</td>\n",
       "      <td>0.000000</td>\n",
       "      <td>1</td>\n",
       "      <td>9.127164</td>\n",
       "    </tr>\n",
       "    <tr>\n",
       "      <th>8</th>\n",
       "      <td>100007</td>\n",
       "      <td>1</td>\n",
       "      <td>0</td>\n",
       "      <td>0</td>\n",
       "      <td>0</td>\n",
       "      <td>1</td>\n",
       "      <td>0</td>\n",
       "      <td>0</td>\n",
       "      <td>0</td>\n",
       "      <td>0</td>\n",
       "      <td>...</td>\n",
       "      <td>1.158301</td>\n",
       "      <td>3.667954</td>\n",
       "      <td>0.000000</td>\n",
       "      <td>47.000000</td>\n",
       "      <td>55.366958</td>\n",
       "      <td>358</td>\n",
       "      <td>3.156852</td>\n",
       "      <td>3.789902</td>\n",
       "      <td>9</td>\n",
       "      <td>115.387616</td>\n",
       "    </tr>\n",
       "    <tr>\n",
       "      <th>9</th>\n",
       "      <td>100008</td>\n",
       "      <td>0</td>\n",
       "      <td>0</td>\n",
       "      <td>0</td>\n",
       "      <td>0</td>\n",
       "      <td>0</td>\n",
       "      <td>0</td>\n",
       "      <td>0</td>\n",
       "      <td>0</td>\n",
       "      <td>1</td>\n",
       "      <td>...</td>\n",
       "      <td>0.638298</td>\n",
       "      <td>3.936170</td>\n",
       "      <td>0.425532</td>\n",
       "      <td>128.666667</td>\n",
       "      <td>182.128160</td>\n",
       "      <td>624</td>\n",
       "      <td>8.804213</td>\n",
       "      <td>12.541217</td>\n",
       "      <td>6</td>\n",
       "      <td>68.228565</td>\n",
       "    </tr>\n",
       "  </tbody>\n",
       "</table>\n",
       "<p>10 rows × 39 columns</p>\n",
       "</div>"
      ],
      "text/plain": [
       "   userId  churn  gender  OS_iPad  OS_iPhone  OS_Windows 8.1  OS_Linux  \\\n",
       "0      10      0       1        0          0               0         0   \n",
       "1     100      0       1        0          0               0         0   \n",
       "2  100001      1       0        0          0               0         0   \n",
       "3  100002      0       0        0          0               0         0   \n",
       "4  100003      1       0        0          0               0         0   \n",
       "5  100004      0       0        0          0               0         0   \n",
       "6  100005      1       1        0          0               0         0   \n",
       "7  100006      1       0        0          0               1         0   \n",
       "8  100007      1       0        0          0               1         0   \n",
       "9  100008      0       0        0          0               0         0   \n",
       "\n",
       "   OS_Windows Vista  OS_Windows 8.0  OS_MacOS           ...             \\\n",
       "0                 0               0         1           ...              \n",
       "1                 0               0         0           ...              \n",
       "2                 0               0         1           ...              \n",
       "3                 0               0         0           ...              \n",
       "4                 0               0         0           ...              \n",
       "5                 0               0         0           ...              \n",
       "6                 0               0         1           ...              \n",
       "7                 0               0         0           ...              \n",
       "8                 0               0         0           ...              \n",
       "9                 0               0         1           ...              \n",
       "\n",
       "   Thumbs Down  Thumbs Up   Upgrade  mean_songs  stdev_songs  num_aritst  \\\n",
       "0     0.503145   4.654088  0.000000  112.166667   133.324291         566   \n",
       "1     0.840075   4.604854  0.031114   78.882353    74.057621        1706   \n",
       "2     1.081081   4.324324  1.081081   33.250000    16.839933         126   \n",
       "3     0.000000   2.293578  0.000000   48.750000    84.428964         185   \n",
       "4     0.000000   3.947368  0.000000   25.500000    33.234019          51   \n",
       "5     0.883534   2.811245  0.642570   47.100000    55.459706         734   \n",
       "6     1.401869   3.271028  1.869159   38.500000    13.771952         150   \n",
       "7     4.761905   4.761905  0.000000   26.000000     0.000000          27   \n",
       "8     1.158301   3.667954  0.000000   47.000000    55.366958         358   \n",
       "9     0.638298   3.936170  0.425532  128.666667   182.128160         624   \n",
       "\n",
       "   mean_session_h  stdev_session_h  num_sessions  days_total_subscription  \n",
       "0        7.662454         8.991061             6                51.762650  \n",
       "1        5.275317         5.133618            35                64.873773  \n",
       "2        2.469306         1.051126             4                44.800220  \n",
       "3        3.353056         5.901765             4               160.472072  \n",
       "4        1.651944         2.260385             2                22.748113  \n",
       "5        3.099775         3.895202            21               172.440081  \n",
       "6        2.003111         1.367039             5                85.195590  \n",
       "7        1.557222         0.000000             1                 9.127164  \n",
       "8        3.156852         3.789902             9               115.387616  \n",
       "9        8.804213        12.541217             6                68.228565  \n",
       "\n",
       "[10 rows x 39 columns]"
      ]
     },
     "execution_count": 90,
     "metadata": {},
     "output_type": "execute_result"
    }
   ],
   "source": [
    "final_dfp = final_df.toPandas()\n",
    "final_dfp.head(10)"
   ]
  },
  {
   "cell_type": "code",
   "execution_count": 92,
   "metadata": {},
   "outputs": [],
   "source": [
    "final_dfp.to_csv('saved_user_dataset_pd.CSV', index=False)"
   ]
  },
  {
   "cell_type": "markdown",
   "metadata": {},
   "source": [
    "# Modeling\n",
    "Split the full dataset into train, test, and validation sets. Test out several of the machine learning methods you learned. Evaluate the accuracy of the various models, tuning parameters as necessary. Determine your winning model based on test accuracy and report results on the validation set. Since the churned users are a fairly small subset, I suggest using F1 score as the metric to optimize."
   ]
  },
  {
   "cell_type": "markdown",
   "metadata": {},
   "source": [
    "## Loading and adjusting data"
   ]
  },
  {
   "cell_type": "code",
   "execution_count": 16,
   "metadata": {},
   "outputs": [
    {
     "data": {
      "text/html": [
       "<div>\n",
       "<style scoped>\n",
       "    .dataframe tbody tr th:only-of-type {\n",
       "        vertical-align: middle;\n",
       "    }\n",
       "\n",
       "    .dataframe tbody tr th {\n",
       "        vertical-align: top;\n",
       "    }\n",
       "\n",
       "    .dataframe thead th {\n",
       "        text-align: right;\n",
       "    }\n",
       "</style>\n",
       "<table border=\"1\" class=\"dataframe\">\n",
       "  <thead>\n",
       "    <tr style=\"text-align: right;\">\n",
       "      <th></th>\n",
       "      <th>userId</th>\n",
       "      <th>churn</th>\n",
       "      <th>gender</th>\n",
       "      <th>OS_iPad</th>\n",
       "      <th>OS_iPhone</th>\n",
       "      <th>OS_Windows 8.1</th>\n",
       "      <th>OS_Linux</th>\n",
       "      <th>OS_Windows Vista</th>\n",
       "      <th>OS_Windows 8.0</th>\n",
       "      <th>OS_MacOS</th>\n",
       "      <th>...</th>\n",
       "      <th>Thumbs Down</th>\n",
       "      <th>Thumbs Up</th>\n",
       "      <th>Upgrade</th>\n",
       "      <th>mean_songs</th>\n",
       "      <th>stdev_songs</th>\n",
       "      <th>num_aritst</th>\n",
       "      <th>mean_session_h</th>\n",
       "      <th>stdev_session_h</th>\n",
       "      <th>num_sessions</th>\n",
       "      <th>days_total_subscription</th>\n",
       "    </tr>\n",
       "  </thead>\n",
       "  <tbody>\n",
       "    <tr>\n",
       "      <th>0</th>\n",
       "      <td>30</td>\n",
       "      <td>0</td>\n",
       "      <td>1</td>\n",
       "      <td>0</td>\n",
       "      <td>0</td>\n",
       "      <td>0</td>\n",
       "      <td>0</td>\n",
       "      <td>0</td>\n",
       "      <td>0</td>\n",
       "      <td>0</td>\n",
       "      <td>...</td>\n",
       "      <td>0.9577464788732395</td>\n",
       "      <td>3.492957746478873</td>\n",
       "      <td>0.7887323943661971</td>\n",
       "      <td>50.607142857142854</td>\n",
       "      <td>68.92579976333879</td>\n",
       "      <td>1019</td>\n",
       "      <td>3.0599045138888887</td>\n",
       "      <td>4.655638231407505</td>\n",
       "      <td>32</td>\n",
       "      <td>63.06664351851852</td>\n",
       "    </tr>\n",
       "    <tr>\n",
       "      <th>1</th>\n",
       "      <td>300001</td>\n",
       "      <td>1</td>\n",
       "      <td>0</td>\n",
       "      <td>0</td>\n",
       "      <td>0</td>\n",
       "      <td>0</td>\n",
       "      <td>0</td>\n",
       "      <td>0</td>\n",
       "      <td>0</td>\n",
       "      <td>0</td>\n",
       "      <td>...</td>\n",
       "      <td>0.7848568790397045</td>\n",
       "      <td>6.832871652816251</td>\n",
       "      <td>0.09233610341643582</td>\n",
       "      <td>102.88235294117646</td>\n",
       "      <td>88.12908313444346</td>\n",
       "      <td>1202</td>\n",
       "      <td>6.367543859649123</td>\n",
       "      <td>6.150871757879998</td>\n",
       "      <td>19</td>\n",
       "      <td>188.3117824074074</td>\n",
       "    </tr>\n",
       "    <tr>\n",
       "      <th>2</th>\n",
       "      <td>91</td>\n",
       "      <td>0</td>\n",
       "      <td>1</td>\n",
       "      <td>0</td>\n",
       "      <td>0</td>\n",
       "      <td>1</td>\n",
       "      <td>0</td>\n",
       "      <td>0</td>\n",
       "      <td>0</td>\n",
       "      <td>0</td>\n",
       "      <td>...</td>\n",
       "      <td>0.7962840079628402</td>\n",
       "      <td>4.11413404114134</td>\n",
       "      <td>0.033178500331785</td>\n",
       "      <td>286.6666666666667</td>\n",
       "      <td>337.84426885770904</td>\n",
       "      <td>1619</td>\n",
       "      <td>19.665</td>\n",
       "      <td>23.019357929090734</td>\n",
       "      <td>9</td>\n",
       "      <td>116.02526620370371</td>\n",
       "    </tr>\n",
       "    <tr>\n",
       "      <th>3</th>\n",
       "      <td>92</td>\n",
       "      <td>0</td>\n",
       "      <td>0</td>\n",
       "      <td>1</td>\n",
       "      <td>0</td>\n",
       "      <td>0</td>\n",
       "      <td>0</td>\n",
       "      <td>0</td>\n",
       "      <td>0</td>\n",
       "      <td>0</td>\n",
       "      <td>...</td>\n",
       "      <td>0.9958506224066389</td>\n",
       "      <td>4.0387275242047025</td>\n",
       "      <td>0.06915629322268327</td>\n",
       "      <td>70.77380952380952</td>\n",
       "      <td>86.9796197137792</td>\n",
       "      <td>2905</td>\n",
       "      <td>4.745203488372092</td>\n",
       "      <td>6.054084867345142</td>\n",
       "      <td>86</td>\n",
       "      <td>83.52885416666666</td>\n",
       "    </tr>\n",
       "    <tr>\n",
       "      <th>4</th>\n",
       "      <td>200008</td>\n",
       "      <td>0</td>\n",
       "      <td>0</td>\n",
       "      <td>0</td>\n",
       "      <td>0</td>\n",
       "      <td>0</td>\n",
       "      <td>0</td>\n",
       "      <td>0</td>\n",
       "      <td>0</td>\n",
       "      <td>0</td>\n",
       "      <td>...</td>\n",
       "      <td>2.584493041749503</td>\n",
       "      <td>3.3797216699801194</td>\n",
       "      <td>0.049701789264413515</td>\n",
       "      <td>111.26666666666667</td>\n",
       "      <td>107.38613016763829</td>\n",
       "      <td>1160</td>\n",
       "      <td>7.5379259259259275</td>\n",
       "      <td>7.284556907097743</td>\n",
       "      <td>15</td>\n",
       "      <td>115.18381944444444</td>\n",
       "    </tr>\n",
       "  </tbody>\n",
       "</table>\n",
       "<p>5 rows × 39 columns</p>\n",
       "</div>"
      ],
      "text/plain": [
       "   userId churn gender OS_iPad OS_iPhone OS_Windows 8.1 OS_Linux  \\\n",
       "0      30     0      1       0         0              0        0   \n",
       "1  300001     1      0       0         0              0        0   \n",
       "2      91     0      1       0         0              1        0   \n",
       "3      92     0      0       1         0              0        0   \n",
       "4  200008     0      0       0         0              0        0   \n",
       "\n",
       "  OS_Windows Vista OS_Windows 8.0 OS_MacOS           ...            \\\n",
       "0                0              0        0           ...             \n",
       "1                0              0        0           ...             \n",
       "2                0              0        0           ...             \n",
       "3                0              0        0           ...             \n",
       "4                0              0        0           ...             \n",
       "\n",
       "          Thumbs Down           Thumbs Up               Upgrade  \\\n",
       "0  0.9577464788732395   3.492957746478873    0.7887323943661971   \n",
       "1  0.7848568790397045   6.832871652816251   0.09233610341643582   \n",
       "2  0.7962840079628402    4.11413404114134     0.033178500331785   \n",
       "3  0.9958506224066389  4.0387275242047025   0.06915629322268327   \n",
       "4   2.584493041749503  3.3797216699801194  0.049701789264413515   \n",
       "\n",
       "           mean_songs         stdev_songs num_aritst      mean_session_h  \\\n",
       "0  50.607142857142854   68.92579976333879       1019  3.0599045138888887   \n",
       "1  102.88235294117646   88.12908313444346       1202   6.367543859649123   \n",
       "2   286.6666666666667  337.84426885770904       1619              19.665   \n",
       "3   70.77380952380952    86.9796197137792       2905   4.745203488372092   \n",
       "4  111.26666666666667  107.38613016763829       1160  7.5379259259259275   \n",
       "\n",
       "      stdev_session_h num_sessions days_total_subscription  \n",
       "0   4.655638231407505           32       63.06664351851852  \n",
       "1   6.150871757879998           19       188.3117824074074  \n",
       "2  23.019357929090734            9      116.02526620370371  \n",
       "3   6.054084867345142           86       83.52885416666666  \n",
       "4   7.284556907097743           15      115.18381944444444  \n",
       "\n",
       "[5 rows x 39 columns]"
      ]
     },
     "execution_count": 16,
     "metadata": {},
     "output_type": "execute_result"
    }
   ],
   "source": [
    "final_df = spark.read.csv('saved_user_dataset.CSV', header = True)\n",
    "pfinal_df = final_df.toPandas()\n",
    "pfinal_df.head()"
   ]
  },
  {
   "cell_type": "code",
   "execution_count": 5,
   "metadata": {},
   "outputs": [
    {
     "name": "stdout",
     "output_type": "stream",
     "text": [
      "root\n",
      " |-- userId: string (nullable = true)\n",
      " |-- churn: string (nullable = true)\n",
      " |-- gender: string (nullable = true)\n",
      " |-- OS_iPad: string (nullable = true)\n",
      " |-- OS_iPhone: string (nullable = true)\n",
      " |-- OS_Windows 8.1: string (nullable = true)\n",
      " |-- OS_Linux: string (nullable = true)\n",
      " |-- OS_Windows Vista: string (nullable = true)\n",
      " |-- OS_Windows 8.0: string (nullable = true)\n",
      " |-- OS_MacOS: string (nullable = true)\n",
      " |-- OS_Windows XP: string (nullable = true)\n",
      " |-- OS_Windows 7: string (nullable = true)\n",
      " |-- paid_percent: string (nullable = true)\n",
      " |-- mean_hours: string (nullable = true)\n",
      " |-- stdev_hours: string (nullable = true)\n",
      " |-- About: string (nullable = true)\n",
      " |-- Add Friend: string (nullable = true)\n",
      " |-- Add to Playlist: string (nullable = true)\n",
      " |-- Downgrade: string (nullable = true)\n",
      " |-- Error: string (nullable = true)\n",
      " |-- Help: string (nullable = true)\n",
      " |-- Home: string (nullable = true)\n",
      " |-- Logout: string (nullable = true)\n",
      " |-- NextSong: string (nullable = true)\n",
      " |-- Roll Advert: string (nullable = true)\n",
      " |-- Save Settings: string (nullable = true)\n",
      " |-- Settings: string (nullable = true)\n",
      " |-- Submit Downgrade: string (nullable = true)\n",
      " |-- Submit Upgrade: string (nullable = true)\n",
      " |-- Thumbs Down: string (nullable = true)\n",
      " |-- Thumbs Up: string (nullable = true)\n",
      " |-- Upgrade: string (nullable = true)\n",
      " |-- mean_songs: string (nullable = true)\n",
      " |-- stdev_songs: string (nullable = true)\n",
      " |-- num_aritst: string (nullable = true)\n",
      " |-- mean_session_h: string (nullable = true)\n",
      " |-- stdev_session_h: string (nullable = true)\n",
      " |-- num_sessions: string (nullable = true)\n",
      " |-- days_total_subscription: string (nullable = true)\n",
      "\n"
     ]
    }
   ],
   "source": [
    "final_df.printSchema()"
   ]
  },
  {
   "cell_type": "code",
   "execution_count": 17,
   "metadata": {},
   "outputs": [
    {
     "name": "stdout",
     "output_type": "stream",
     "text": [
      "['userId', 'churn', 'gender', 'OS_iPad', 'OS_iPhone', 'OS_Windows_81', 'OS_Linux', 'OS_Windows_Vista', 'OS_Windows_80', 'OS_MacOS', 'OS_Windows_XP', 'OS_Windows_7', 'paid_percent', 'mean_hours', 'stdev_hours', 'About', 'Add_Friend', 'Add_to_Playlist', 'Downgrade', 'Error', 'Help', 'Home', 'Logout', 'NextSong', 'Roll_Advert', 'Save_Settings', 'Settings', 'Submit_Downgrade', 'Submit_Upgrade', 'Thumbs_Down', 'Thumbs_Up', 'Upgrade', 'mean_songs', 'stdev_songs', 'num_aritst', 'mean_session_h', 'stdev_session_h', 'num_sessions', 'days_total_subscription']\n"
     ]
    }
   ],
   "source": [
    "# Change the column names to strings without spaces\n",
    "for col in final_df.columns:\n",
    "    final_df = final_df.withColumnRenamed(col, col.replace(' ', '_').replace('.', ''))\n",
    "print(final_df.columns)"
   ]
  },
  {
   "cell_type": "code",
   "execution_count": 18,
   "metadata": {},
   "outputs": [
    {
     "name": "stdout",
     "output_type": "stream",
     "text": [
      "root\n",
      " |-- userId: integer (nullable = true)\n",
      " |-- churn: integer (nullable = true)\n",
      " |-- gender: integer (nullable = true)\n",
      " |-- OS_iPad: integer (nullable = true)\n",
      " |-- OS_iPhone: integer (nullable = true)\n",
      " |-- OS_Windows_81: integer (nullable = true)\n",
      " |-- OS_Linux: integer (nullable = true)\n",
      " |-- OS_Windows_Vista: integer (nullable = true)\n",
      " |-- OS_Windows_80: integer (nullable = true)\n",
      " |-- OS_MacOS: integer (nullable = true)\n",
      " |-- OS_Windows_XP: integer (nullable = true)\n",
      " |-- OS_Windows_7: integer (nullable = true)\n",
      " |-- paid_percent: float (nullable = true)\n",
      " |-- mean_hours: float (nullable = true)\n",
      " |-- stdev_hours: float (nullable = true)\n",
      " |-- About: float (nullable = true)\n",
      " |-- Add_Friend: float (nullable = true)\n",
      " |-- Add_to_Playlist: float (nullable = true)\n",
      " |-- Downgrade: float (nullable = true)\n",
      " |-- Error: float (nullable = true)\n",
      " |-- Help: float (nullable = true)\n",
      " |-- Home: float (nullable = true)\n",
      " |-- Logout: float (nullable = true)\n",
      " |-- NextSong: float (nullable = true)\n",
      " |-- Roll_Advert: float (nullable = true)\n",
      " |-- Save_Settings: float (nullable = true)\n",
      " |-- Settings: float (nullable = true)\n",
      " |-- Submit_Downgrade: float (nullable = true)\n",
      " |-- Submit_Upgrade: float (nullable = true)\n",
      " |-- Thumbs_Down: float (nullable = true)\n",
      " |-- Thumbs_Up: float (nullable = true)\n",
      " |-- Upgrade: float (nullable = true)\n",
      " |-- mean_songs: float (nullable = true)\n",
      " |-- stdev_songs: float (nullable = true)\n",
      " |-- num_aritst: float (nullable = true)\n",
      " |-- mean_session_h: float (nullable = true)\n",
      " |-- stdev_session_h: float (nullable = true)\n",
      " |-- num_sessions: float (nullable = true)\n",
      " |-- days_total_subscription: float (nullable = true)\n",
      "\n"
     ]
    }
   ],
   "source": [
    "# Convert all to numbers as the schema shows strings\n",
    "# the first column (userId) would be integer\n",
    "final_df = final_df.withColumn('userId', final_df.userId.cast(sT.IntegerType()))\n",
    "# All columns from Churn to OS_* should be integer types\n",
    "for col in final_df.columns[1:12]:\n",
    "    final_df = final_df.withColumn(col, final_df[col].cast(sT.IntegerType()))\n",
    "# All other columns should be float\n",
    "for col in final_df.columns[12:]:\n",
    "    final_df = final_df.withColumn(col, final_df[col].cast(sT.FloatType()))\n",
    "\n",
    "final_df.printSchema()"
   ]
  },
  {
   "cell_type": "code",
   "execution_count": 19,
   "metadata": {},
   "outputs": [],
   "source": [
    "# Remove  nulls from anywhere replacing them by zeros\n",
    "final_df = final_df.na.fill(0)"
   ]
  },
  {
   "cell_type": "code",
   "execution_count": 20,
   "metadata": {},
   "outputs": [],
   "source": [
    "# Get features labels for plotting purposes\n",
    "features_labels = final_df.columns[2:]"
   ]
  },
  {
   "cell_type": "code",
   "execution_count": 21,
   "metadata": {},
   "outputs": [],
   "source": [
    "# The input features are all but the userId and the Churn\n",
    "# The output is Churn only\n",
    "\n",
    "# Define the vector assembler for all input columns\n",
    "features_vector = VectorAssembler(inputCols=final_df.columns[2:], outputCol='features')\n",
    "\n",
    "# Apply the vectorization on the dataset\n",
    "input_data = features_vector.transform(final_df)\n",
    "# input_data.show(1)"
   ]
  },
  {
   "cell_type": "code",
   "execution_count": 22,
   "metadata": {},
   "outputs": [],
   "source": [
    "features_scaler = StandardScaler(withMean=True, withStd=True, inputCol='features', outputCol='scaled_features')\n",
    "features_scaler_fit = features_scaler.fit(input_data)\n",
    "scaled_inputs = features_scaler_fit.transform(input_data)"
   ]
  },
  {
   "cell_type": "code",
   "execution_count": 23,
   "metadata": {},
   "outputs": [],
   "source": [
    "# Select the output and input features\n",
    "ml_data = scaled_inputs.select(scaled_inputs.churn.alias('label'), scaled_inputs.scaled_features.alias('features'))"
   ]
  },
  {
   "cell_type": "code",
   "execution_count": 24,
   "metadata": {},
   "outputs": [],
   "source": [
    "# Defining training and testing samples\n",
    "train, test = ml_data.randomSplit([0.80, 0.20], seed=179)\n",
    "# train.show(3), test.show(3)"
   ]
  },
  {
   "cell_type": "markdown",
   "metadata": {},
   "source": [
    "## Defining important functions for outputs and alalysis"
   ]
  },
  {
   "cell_type": "code",
   "execution_count": 26,
   "metadata": {},
   "outputs": [],
   "source": [
    "def format_duration (t_dif):\n",
    "    t_s = t_dif.seconds\n",
    "    duration = {}\n",
    "    duration['h'], rem = divmod(t_s, 3600) \n",
    "    duration['m'], duration['s'] = divmod(rem, 60)\n",
    "    stamp = ''\n",
    "    if duration['h']>0:\n",
    "        stamp += f\"{duration['h']} hour(s), \" \n",
    "    if duration['m']>0:\n",
    "        stamp += f\"{duration['m']} minute(s) and \"\n",
    "    # seconds and fraction of seconds\n",
    "    frac = int(t_dif.microseconds/10000)/100\n",
    "    stamp += f\"{duration['s'] + frac} second(s)\"\n",
    "    # print(f\"{duration['h']}h:{duration['m']}m:{duration['s']}s\")\n",
    "    return stamp"
   ]
  },
  {
   "cell_type": "code",
   "execution_count": 27,
   "metadata": {},
   "outputs": [],
   "source": [
    "def model_fitting(data, model_type, param_grid, save_as, num_folds=3, random_seed=179):\n",
    "    '''\n",
    "    \n",
    "    \n",
    "    '''\n",
    "    model_evaluator = CrossValidator(estimator=model_type, estimatorParamMaps=param_grid,\n",
    "                                      evaluator=MulticlassClassificationEvaluator(),\n",
    "                                      numFolds=num_folds, seed=random_seed)\n",
    "    t_start = pd.tslib.Timestamp.now()\n",
    "    print ('Fitting in progress...', end=' ')\n",
    "    fitted_model = model_evaluator.fit(data)\n",
    "    t_dif = pd.tslib.Timestamp.now() - t_start\n",
    "    print (f'Done in {format_duration(t_dif)}')\n",
    "    t_start = pd.tslib.Timestamp.now()\n",
    "    print (f'\\nSaving the model as {save_as}...' , end=' ')\n",
    "    try:\n",
    "        fitted_model.save(save_as)\n",
    "    except:\n",
    "        # Overwrite if exists\n",
    "        fitted_model.write().overwrite().save(save_as)\n",
    "        print ('*Overwritten* ', end='')\n",
    "    t_dif = pd.tslib.Timestamp.now() - t_start\n",
    "    print (f'Done in {format_duration(t_dif)}')\n",
    "    return fitted_model"
   ]
  },
  {
   "cell_type": "code",
   "execution_count": 28,
   "metadata": {},
   "outputs": [],
   "source": [
    "def get_formated_metrics(selected_model, test_data):\n",
    "    '''\n",
    "    Prints a compacted dataframe with all the model's metrics\n",
    "    selected_model: The fitted model\n",
    "    test_data: the test data portion\n",
    "    '''\n",
    "    def get_model_metrics(selected_model, model_type = 'train'):\n",
    "        '''\n",
    "        Get the metrics of a model\n",
    "        selected_model:  the fitted model\n",
    "        model_type: either 'train' (default) or 'test'\n",
    "        '''\n",
    "        if model_type == 'train':\n",
    "            metrics = selected_model.bestModel.summary\n",
    "        else: \n",
    "            metrics = selected_model\n",
    "        acc = metrics.accuracy, \n",
    "        general = np.array((metrics.weightedFMeasure(),\n",
    "                   metrics.weightedPrecision, metrics.weightedRecall,\n",
    "                   metrics.weightedTruePositiveRate, metrics.weightedFalsePositiveRate))\n",
    "        general = general.reshape(1, general.shape[0])\n",
    "        labels = ['General'] + [f'Churn={x}' for x in metrics.labels]\n",
    "        labeled = np.array((metrics.fMeasureByLabel(),\n",
    "                          metrics.precisionByLabel, metrics.recallByLabel,\n",
    "                          metrics.truePositiveRateByLabel, metrics.falsePositiveRateByLabel))\n",
    "        conc_results = np.concatenate((general.T, labeled), axis=1)\n",
    "        metrics_names = ['F-Measure', 'Precision', 'Recall', 'True_+ve_Rate', 'False_+ve_Rate']\n",
    "        df_res = pd.DataFrame(conc_results, columns=labels, index=metrics_names)\n",
    "        return acc[0], df_res\n",
    "    \n",
    "    # Apply for training data\n",
    "    acc_train, train_res = get_model_metrics(selected_model)\n",
    "    # Get the results of the test data\n",
    "    model_test = selected_model.bestModel.evaluate(test_data)\n",
    "    # Apply on test data\n",
    "    acc_test, test_res = get_model_metrics(model_test, model_type='test')\n",
    "    \n",
    "    # Concatenate to a pretty dataframe\n",
    "    pretty_frame = pd.concat([train_res, test_res], axis=1, keys=[\n",
    "                    f'Training (Accuracy = {acc_train*100:4.2f}%)',\n",
    "                    f'Testing (Accuracy = {acc_test*100:4.2f}%)'])\n",
    "    return pretty_frame"
   ]
  },
  {
   "cell_type": "code",
   "execution_count": 29,
   "metadata": {},
   "outputs": [],
   "source": [
    "def draw_features_contribution(fitted_model, x_labels, scale_to='full_range'):\n",
    "    '''\n",
    "    Draws a bar chart of features vs churn %\n",
    "    fitted_model: the fitted model\n",
    "    scale_to: the values will be scated to:\n",
    "           'full_range' where the full absolute values are summed to 100.\n",
    "           'maximum_range' where the maximum absolute extremes are scalled to 100.\n",
    "           'none' the values are shown as is.\n",
    "    '''\n",
    "    cmx = fitted_model.bestModel.coefficientMatrix\n",
    "    cmv = cmx.values\n",
    "    # cmv.shape, len(final_df.columns[2:])\n",
    "    \n",
    "    # Define positive and negative values\n",
    "    positives_v = np.array([x if x>=0 else 0 for x in cmv])\n",
    "    negatives_v = np.array([x if x<=0 else 0 for x in cmv])    \n",
    "    \n",
    "    # Drawing by scalling the maximum range to  100\n",
    "    if scale_to == 'full_range':\n",
    "        rang = positives_v.sum()+ abs(negatives_v).sum()\n",
    "    elif scale_to == 'maximum_range':\n",
    "        rang = positives_v.max()+ abs(negatives_v).max()\n",
    "    else:\n",
    "        rang = 1.\n",
    "        \n",
    "    positives_v /= rang\n",
    "    negatives_v /= rang\n",
    "    positives_v *= 100.\n",
    "    negatives_v *= 100.\n",
    "    fig, ax = plt.subplots(figsize=(16, 9))\n",
    "    ax.bar(x_labels, positives_v,color='r')\n",
    "    ax.bar(x_labels, negatives_v, color='g')\n",
    "    ax.set_xlabel('Features')\n",
    "    ax.set_ylabel('The user is most likely to churn (%)')\n",
    "    ax.set_title('Contribution of each feature to the churn decission')\n",
    "    ax.set_xticklabels(labels = final_df.columns[2:], rotation='vertical');"
   ]
  },
  {
   "cell_type": "code",
   "execution_count": 30,
   "metadata": {},
   "outputs": [],
   "source": [
    "def get_classifier_metrics(trained_model, train_data, test_data):\n",
    "    '''\n",
    "    \n",
    "    '''\n",
    "    def get_specific_metrics(trained_model, data):\n",
    "        '''\n",
    "        \n",
    "        '''\n",
    "        res2 = trained_model.transform(data).select('label', 'prediction')\n",
    "        TruePos = res2.filter((res2.prediction==1)& (res2.label == res2.prediction) ).count()\n",
    "        TrueNeg = res2.filter((res2.prediction==0)& (res2.label == res2.prediction) ).count()\n",
    "        FalsPos = res2.filter((res2.prediction==1)& (res2.label != res2.prediction) ).count()\n",
    "        FalsNeg = res2.filter((res2.prediction==0)& (res2.label != res2.prediction) ).count()\n",
    "        accuracy = res2.filter(res2.label == res2.prediction).count()/res2.count()\n",
    "        precision = TruePos/(TruePos+FalsPos)\n",
    "        recall = TruePos/(TruePos+FalsNeg)\n",
    "        f1score = 2 * precision * recall / (precision + recall)\n",
    "        return accuracy, precision, recall, f1score\n",
    "    train_metrics = get_specific_metrics(trained_model, train_data)\n",
    "    test_metrics = get_specific_metrics(trained_model, test_data)\n",
    "    labels =['Train', 'Test']\n",
    "    metrics_names = ['Accuracy', 'Precision', 'Recall', 'F-Score']\n",
    "    metrics_data =np.array((train_metrics, test_metrics))\n",
    "    return pd.DataFrame(data=metrics_data.T, columns=labels, index=metrics_names)"
   ]
  },
  {
   "cell_type": "code",
   "execution_count": 87,
   "metadata": {},
   "outputs": [],
   "source": [
    "def draw_features_importance(fitted_model, x_labels, threshold=0.1):\n",
    "    '''\n",
    "    Draws a pie chart of features\n",
    "    fitted_model: the fitted model\n",
    "    x_labels: the labels of the features.\n",
    "    threshold: the minimum value (%) to consider, \n",
    "               if the value is less than that, \n",
    "               it will be neglected (default =0)\n",
    "    '''\n",
    "    importance = list(fitted_model.bestModel.featureImportances.toArray())\n",
    "    # Get the threshold value\n",
    "    thres_v = threshold / 100 \n",
    "    # get the included and neglected values\n",
    "    active_values = [x for x in importance if x >= thres_v]\n",
    "    neglected = [x for x in importance if x < thres_v]\n",
    "    non_zero_neglected = [x for x in neglected if x > 0]\n",
    "    # print(importance, '\\n', x_labels, '\\n', thres_v, '\\n', \n",
    "    #       active_values, '\\n', neglected, '\\n', non_zero_neglected)\n",
    "    # get the accepted indexes\n",
    "    active_idx = [importance.index(x) for x in active_values]\n",
    "    # the accepted lables + minor features\n",
    "    active_labels = [x_labels[x] for x in active_idx]\n",
    "    minor_v = sum(neglected)\n",
    "    # print(active_idx, '\\n', active_labels, '\\n', minor_v)\n",
    "    # If there is any minor features\n",
    "    if minor_v>0:\n",
    "        active_values.append(minor_v)\n",
    "        active_labels.append(f'MINOR, ({len( \\\n",
    "                non_zero_neglected)}feats. each<{threshold}%)')\n",
    "    # print(active_labels, '\\n', active_values)\n",
    "    \n",
    "    # sorting\n",
    "    active_labels =[x for _, x in sorted(zip(active_values, active_labels))]\n",
    "    active_values = sorted(active_values)\n",
    "    \n",
    "    # Draw\n",
    "\n",
    "    fig, ax = plt.subplots(figsize=(16, 9))\n",
    "    ax.pie(active_values[::-1], labels=active_labels[::-1] , \n",
    "           autopct='%1.1f%%', shadow=True, \n",
    "           startangle=90 )\n",
    "    ax.set_title('Importance of each feature to the churn decission')\n",
    "    ax.axis('equal');"
   ]
  },
  {
   "cell_type": "markdown",
   "metadata": {},
   "source": [
    "### The Logistic Regression model"
   ]
  },
  {
   "cell_type": "code",
   "execution_count": 65,
   "metadata": {},
   "outputs": [
    {
     "name": "stdout",
     "output_type": "stream",
     "text": [
      "Fitting in progress... Done in 2 minute(s) and 36.77 second(s)\n",
      "\n",
      "Saving the model as LogisticRegression.model... *Overwritten* Done in 0.64 second(s)\n"
     ]
    },
    {
     "data": {
      "text/html": [
       "<div>\n",
       "<style scoped>\n",
       "    .dataframe tbody tr th:only-of-type {\n",
       "        vertical-align: middle;\n",
       "    }\n",
       "\n",
       "    .dataframe tbody tr th {\n",
       "        vertical-align: top;\n",
       "    }\n",
       "\n",
       "    .dataframe thead tr th {\n",
       "        text-align: left;\n",
       "    }\n",
       "</style>\n",
       "<table border=\"1\" class=\"dataframe\">\n",
       "  <thead>\n",
       "    <tr>\n",
       "      <th></th>\n",
       "      <th colspan=\"3\" halign=\"left\">Training (Accuracy = 81.92%)</th>\n",
       "      <th colspan=\"3\" halign=\"left\">Testing (Accuracy = 75.00%)</th>\n",
       "    </tr>\n",
       "    <tr>\n",
       "      <th></th>\n",
       "      <th>General</th>\n",
       "      <th>Churn=0.0</th>\n",
       "      <th>Churn=1.0</th>\n",
       "      <th>General</th>\n",
       "      <th>Churn=0.0</th>\n",
       "      <th>Churn=1.0</th>\n",
       "    </tr>\n",
       "  </thead>\n",
       "  <tbody>\n",
       "    <tr>\n",
       "      <th>F-Measure</th>\n",
       "      <td>0.796652</td>\n",
       "      <td>0.891892</td>\n",
       "      <td>0.448276</td>\n",
       "      <td>0.713158</td>\n",
       "      <td>0.842105</td>\n",
       "      <td>0.400000</td>\n",
       "    </tr>\n",
       "    <tr>\n",
       "      <th>Precision</th>\n",
       "      <td>0.799809</td>\n",
       "      <td>0.840764</td>\n",
       "      <td>0.650000</td>\n",
       "      <td>0.734127</td>\n",
       "      <td>0.761905</td>\n",
       "      <td>0.666667</td>\n",
       "    </tr>\n",
       "    <tr>\n",
       "      <th>Recall</th>\n",
       "      <td>0.819209</td>\n",
       "      <td>0.949640</td>\n",
       "      <td>0.342105</td>\n",
       "      <td>0.750000</td>\n",
       "      <td>0.941176</td>\n",
       "      <td>0.285714</td>\n",
       "    </tr>\n",
       "    <tr>\n",
       "      <th>True_+ve_Rate</th>\n",
       "      <td>0.819209</td>\n",
       "      <td>0.949640</td>\n",
       "      <td>0.342105</td>\n",
       "      <td>0.750000</td>\n",
       "      <td>0.941176</td>\n",
       "      <td>0.285714</td>\n",
       "    </tr>\n",
       "    <tr>\n",
       "      <th>False_+ve_Rate</th>\n",
       "      <td>0.527463</td>\n",
       "      <td>0.657895</td>\n",
       "      <td>0.050360</td>\n",
       "      <td>0.523109</td>\n",
       "      <td>0.714286</td>\n",
       "      <td>0.058824</td>\n",
       "    </tr>\n",
       "  </tbody>\n",
       "</table>\n",
       "</div>"
      ],
      "text/plain": [
       "               Training (Accuracy = 81.92%)                      \\\n",
       "                                    General Churn=0.0 Churn=1.0   \n",
       "F-Measure                          0.796652  0.891892  0.448276   \n",
       "Precision                          0.799809  0.840764  0.650000   \n",
       "Recall                             0.819209  0.949640  0.342105   \n",
       "True_+ve_Rate                      0.819209  0.949640  0.342105   \n",
       "False_+ve_Rate                     0.527463  0.657895  0.050360   \n",
       "\n",
       "               Testing (Accuracy = 75.00%)                      \n",
       "                                   General Churn=0.0 Churn=1.0  \n",
       "F-Measure                         0.713158  0.842105  0.400000  \n",
       "Precision                         0.734127  0.761905  0.666667  \n",
       "Recall                            0.750000  0.941176  0.285714  \n",
       "True_+ve_Rate                     0.750000  0.941176  0.285714  \n",
       "False_+ve_Rate                    0.523109  0.714286  0.058824  "
      ]
     },
     "metadata": {},
     "output_type": "display_data"
    },
    {
     "data": {
      "image/png": "[encoded data removed]",
      "text/plain": [
       "<matplotlib.figure.Figure at 0x7f231fa12978>"
      ]
     },
     "metadata": {
      "needs_background": "light"
     },
     "output_type": "display_data"
    }
   ],
   "source": [
    "# The Logistic Regression model\n",
    "\n",
    "model = LogisticRegression()\n",
    "param_grid = ParamGridBuilder() \\\n",
    "    .addGrid(model.regParam,[0.01, 0.1]) \\\n",
    "    .addGrid(model.elasticNetParam,[0.0, 0.5]) \\\n",
    "    .addGrid(model.aggregationDepth,[2, 5]) \\\n",
    "    .build()\n",
    "# param_grid = ParamGridBuilder() \\\n",
    "#     .addGrid(model.aggregationDepth,[2, 5]) \\\n",
    "#     .build()\n",
    "m = model_fitting(train, model, param_grid, 'LogisticRegression.model')\n",
    "# Model metrics\n",
    "display(get_formated_metrics(m, test))\n",
    "# Features effect\n",
    "draw_features_contribution(m, x_labels=features_labels)"
   ]
  },
  {
   "cell_type": "markdown",
   "metadata": {},
   "source": [
    "### The Decision Tree Classifier model"
   ]
  },
  {
   "cell_type": "code",
   "execution_count": 66,
   "metadata": {},
   "outputs": [
    {
     "name": "stdout",
     "output_type": "stream",
     "text": [
      "Fitting in progress... Done in 34.93 second(s)\n",
      "\n",
      "Saving the model as DecisionTreeClassifier.model... Done in 0.56 second(s)\n"
     ]
    }
   ],
   "source": [
    "# The Decision Tree Classifier model\n",
    "\n",
    "model = DecisionTreeClassifier()\n",
    "param_grid = ParamGridBuilder() \\\n",
    "    .addGrid(model.maxDepth,[3, 5, 10]) \\\n",
    "    .addGrid(model.impurity,['entropy', 'gini']) \\\n",
    "    .build()\n",
    "\n",
    "m = model_fitting(train, model, param_grid, 'DecisionTreeClassifier.model')"
   ]
  },
  {
   "cell_type": "code",
   "execution_count": 6,
   "metadata": {},
   "outputs": [
    {
     "data": {
      "text/plain": [
       "37"
      ]
     },
     "execution_count": 6,
     "metadata": {},
     "output_type": "execute_result"
    }
   ],
   "source": [
    "# Uncomment if you want to load models only\n",
    "features_labels = ['gender', 'OS_iPad', 'OS_iPhone', 'OS_Windows_81', \n",
    "                   'OS_Linux', 'OS_Windows_Vista', 'OS_Windows_80', \n",
    "                   'OS_MacOS', 'OS_Windows_XP', 'OS_Windows_7', \n",
    "                   'paid_percent', 'mean_hours', 'stdev_hours', \n",
    "                   'About', 'Add_Friend', 'Add_to_Playlist', \n",
    "                   'Downgrade', 'Error', 'Help', 'Home', 'Logout', \n",
    "                   'NextSong', 'Roll_Advert', 'Save_Settings', \n",
    "                   'Settings', 'Submit_Downgrade', 'Submit_Upgrade', \n",
    "                   'Thumbs_Down', 'Thumbs_Up', 'Upgrade', 'mean_songs', \n",
    "                   'stdev_songs', 'num_aritst', 'mean_session_h', \n",
    "                   'stdev_session_h', 'num_sessions', \n",
    "                   'days_total_subscription']\n",
    "len(features_labels)"
   ]
  },
  {
   "cell_type": "code",
   "execution_count": 85,
   "metadata": {},
   "outputs": [],
   "source": [
    "# to load the model from saved location\n",
    "m = mlm.load('DecisionTreeClassifier.model') "
   ]
  },
  {
   "cell_type": "code",
   "execution_count": 143,
   "metadata": {},
   "outputs": [
    {
     "data": {
      "text/html": [
       "<div>\n",
       "<style scoped>\n",
       "    .dataframe tbody tr th:only-of-type {\n",
       "        vertical-align: middle;\n",
       "    }\n",
       "\n",
       "    .dataframe tbody tr th {\n",
       "        vertical-align: top;\n",
       "    }\n",
       "\n",
       "    .dataframe thead th {\n",
       "        text-align: right;\n",
       "    }\n",
       "</style>\n",
       "<table border=\"1\" class=\"dataframe\">\n",
       "  <thead>\n",
       "    <tr style=\"text-align: right;\">\n",
       "      <th></th>\n",
       "      <th>Train</th>\n",
       "      <th>Test</th>\n",
       "    </tr>\n",
       "  </thead>\n",
       "  <tbody>\n",
       "    <tr>\n",
       "      <th>Accuracy</th>\n",
       "      <td>0.903955</td>\n",
       "      <td>0.812500</td>\n",
       "    </tr>\n",
       "    <tr>\n",
       "      <th>Precision</th>\n",
       "      <td>0.838710</td>\n",
       "      <td>0.727273</td>\n",
       "    </tr>\n",
       "    <tr>\n",
       "      <th>Recall</th>\n",
       "      <td>0.684211</td>\n",
       "      <td>0.571429</td>\n",
       "    </tr>\n",
       "    <tr>\n",
       "      <th>F-Score</th>\n",
       "      <td>0.753623</td>\n",
       "      <td>0.640000</td>\n",
       "    </tr>\n",
       "  </tbody>\n",
       "</table>\n",
       "</div>"
      ],
      "text/plain": [
       "              Train      Test\n",
       "Accuracy   0.903955  0.812500\n",
       "Precision  0.838710  0.727273\n",
       "Recall     0.684211  0.571429\n",
       "F-Score    0.753623  0.640000"
      ]
     },
     "execution_count": 143,
     "metadata": {},
     "output_type": "execute_result"
    }
   ],
   "source": [
    "get_classifier_metrics(m, train, test)"
   ]
  },
  {
   "cell_type": "code",
   "execution_count": 88,
   "metadata": {
    "scrolled": false
   },
   "outputs": [
    {
     "data": {
      "image/png": "[encoded data removed]",
      "text/plain": [
       "<matplotlib.figure.Figure at 0x7f60483ef2e8>"
      ]
     },
     "metadata": {},
     "output_type": "display_data"
    }
   ],
   "source": [
    "draw_features_importance(m, features_labels, threshold=3)"
   ]
  },
  {
   "cell_type": "markdown",
   "metadata": {},
   "source": [
    "### The Gradient-Boosted Trees (GBTs) model"
   ]
  },
  {
   "cell_type": "code",
   "execution_count": 185,
   "metadata": {},
   "outputs": [
    {
     "name": "stdout",
     "output_type": "stream",
     "text": [
      "Fitting in progress... Done in 7 minute(s) and 52.55 second(s)\n",
      "\n",
      "Saving the model as GradientBoostedTrees.model... Done in 1.5699999999999998 second(s)\n"
     ]
    }
   ],
   "source": [
    "# The Gradient-Boosted Trees (GBTs) model\n",
    "\n",
    "model = GBTClassifier()\n",
    "param_grid = ParamGridBuilder() \\\n",
    "    .addGrid(model.maxDepth,[3, 5, 10]) \\\n",
    "    .addGrid(model.maxBins ,[10, 5]) \\\n",
    "    .addGrid(model.maxIter ,[20, 5]) \\\n",
    "    .build()\n",
    "\n",
    "m = model_fitting(train, model, param_grid, 'GradientBoostedTrees.model')"
   ]
  },
  {
   "cell_type": "code",
   "execution_count": 89,
   "metadata": {},
   "outputs": [],
   "source": [
    "# to load the model from saved location\n",
    "m = mlm.load('GradientBoostedTrees.model') "
   ]
  },
  {
   "cell_type": "code",
   "execution_count": 33,
   "metadata": {},
   "outputs": [
    {
     "data": {
      "text/html": [
       "<div>\n",
       "<style scoped>\n",
       "    .dataframe tbody tr th:only-of-type {\n",
       "        vertical-align: middle;\n",
       "    }\n",
       "\n",
       "    .dataframe tbody tr th {\n",
       "        vertical-align: top;\n",
       "    }\n",
       "\n",
       "    .dataframe thead th {\n",
       "        text-align: right;\n",
       "    }\n",
       "</style>\n",
       "<table border=\"1\" class=\"dataframe\">\n",
       "  <thead>\n",
       "    <tr style=\"text-align: right;\">\n",
       "      <th></th>\n",
       "      <th>Train</th>\n",
       "      <th>Test</th>\n",
       "    </tr>\n",
       "  </thead>\n",
       "  <tbody>\n",
       "    <tr>\n",
       "      <th>Accuracy</th>\n",
       "      <td>0.920904</td>\n",
       "      <td>0.770833</td>\n",
       "    </tr>\n",
       "    <tr>\n",
       "      <th>Precision</th>\n",
       "      <td>0.961538</td>\n",
       "      <td>0.666667</td>\n",
       "    </tr>\n",
       "    <tr>\n",
       "      <th>Recall</th>\n",
       "      <td>0.657895</td>\n",
       "      <td>0.428571</td>\n",
       "    </tr>\n",
       "    <tr>\n",
       "      <th>F-Score</th>\n",
       "      <td>0.781250</td>\n",
       "      <td>0.521739</td>\n",
       "    </tr>\n",
       "  </tbody>\n",
       "</table>\n",
       "</div>"
      ],
      "text/plain": [
       "              Train      Test\n",
       "Accuracy   0.920904  0.770833\n",
       "Precision  0.961538  0.666667\n",
       "Recall     0.657895  0.428571\n",
       "F-Score    0.781250  0.521739"
      ]
     },
     "metadata": {},
     "output_type": "display_data"
    }
   ],
   "source": [
    "# Show metrics\n",
    "display(get_classifier_metrics(m, train, test))"
   ]
  },
  {
   "cell_type": "code",
   "execution_count": 94,
   "metadata": {},
   "outputs": [
    {
     "data": {
      "image/png": "[encoded data removed]",
      "text/plain": [
       "<matplotlib.figure.Figure at 0x7f604819cb38>"
      ]
     },
     "metadata": {},
     "output_type": "display_data"
    }
   ],
   "source": [
    "draw_features_importance(m, features_labels, threshold=3)"
   ]
  },
  {
   "cell_type": "markdown",
   "metadata": {},
   "source": [
    "### The Random Forest model"
   ]
  },
  {
   "cell_type": "markdown",
   "metadata": {},
   "source": [
    "class pyspark.ml.classification.RandomForestClassifier(featuresCol='features', labelCol='label', predictionCol='prediction', probabilityCol='probability', rawPredictionCol='rawPrediction', maxDepth=5, maxBins=32, minInstancesPerNode=1, minInfoGain=0.0, maxMemoryInMB=256, cacheNodeIds=False, checkpointInterval=10, impurity='gini', numTrees=20, featureSubsetStrategy='auto', seed=None, subsamplingRate=1.0)[source]"
   ]
  },
  {
   "cell_type": "code",
   "execution_count": 189,
   "metadata": {},
   "outputs": [
    {
     "name": "stdout",
     "output_type": "stream",
     "text": [
      "Fitting in progress... Done in 3 minute(s) and 12.26 second(s)\n",
      "\n",
      "Saving the model as RandomForestClassifier.model... Done in 1.02 second(s)\n"
     ]
    }
   ],
   "source": [
    "# The Random Forest model\n",
    "\n",
    "model = RandomForestClassifier()\n",
    "param_grid = ParamGridBuilder() \\\n",
    "    .addGrid(model.maxDepth,[5, 10]) \\\n",
    "    .addGrid(model.impurity,['entropy', 'gini']) \\\n",
    "    .addGrid(model.maxBins ,[10, 5]) \\\n",
    "    .addGrid(model.numTrees ,[20, 10]) \\\n",
    "    .addGrid(model.featureSubsetStrategy ,['sqrt', 'onethird']) \\\n",
    "    .build()\n",
    "\n",
    "m = model_fitting(train, model, param_grid, 'RandomForestClassifier.model')"
   ]
  },
  {
   "cell_type": "code",
   "execution_count": 95,
   "metadata": {},
   "outputs": [],
   "source": [
    "# to load the model from saved location\n",
    "m = mlm.load('RandomForestClassifier.model') "
   ]
  },
  {
   "cell_type": "code",
   "execution_count": 75,
   "metadata": {},
   "outputs": [
    {
     "data": {
      "text/html": [
       "<div>\n",
       "<style scoped>\n",
       "    .dataframe tbody tr th:only-of-type {\n",
       "        vertical-align: middle;\n",
       "    }\n",
       "\n",
       "    .dataframe tbody tr th {\n",
       "        vertical-align: top;\n",
       "    }\n",
       "\n",
       "    .dataframe thead th {\n",
       "        text-align: right;\n",
       "    }\n",
       "</style>\n",
       "<table border=\"1\" class=\"dataframe\">\n",
       "  <thead>\n",
       "    <tr style=\"text-align: right;\">\n",
       "      <th></th>\n",
       "      <th>Train</th>\n",
       "      <th>Test</th>\n",
       "    </tr>\n",
       "  </thead>\n",
       "  <tbody>\n",
       "    <tr>\n",
       "      <th>Accuracy</th>\n",
       "      <td>0.920904</td>\n",
       "      <td>0.729167</td>\n",
       "    </tr>\n",
       "    <tr>\n",
       "      <th>Precision</th>\n",
       "      <td>1.000000</td>\n",
       "      <td>0.571429</td>\n",
       "    </tr>\n",
       "    <tr>\n",
       "      <th>Recall</th>\n",
       "      <td>0.631579</td>\n",
       "      <td>0.285714</td>\n",
       "    </tr>\n",
       "    <tr>\n",
       "      <th>F-Score</th>\n",
       "      <td>0.774194</td>\n",
       "      <td>0.380952</td>\n",
       "    </tr>\n",
       "  </tbody>\n",
       "</table>\n",
       "</div>"
      ],
      "text/plain": [
       "              Train      Test\n",
       "Accuracy   0.920904  0.729167\n",
       "Precision  1.000000  0.571429\n",
       "Recall     0.631579  0.285714\n",
       "F-Score    0.774194  0.380952"
      ]
     },
     "metadata": {},
     "output_type": "display_data"
    }
   ],
   "source": [
    "# Show metrics\n",
    "display(get_classifier_metrics(m, train, test))"
   ]
  },
  {
   "cell_type": "code",
   "execution_count": 96,
   "metadata": {},
   "outputs": [
    {
     "data": {
      "image/png": "[encoded data removed]",
      "text/plain": [
       "<matplotlib.figure.Figure at 0x7f60485272e8>"
      ]
     },
     "metadata": {},
     "output_type": "display_data"
    }
   ],
   "source": [
    "draw_features_importance(m, features_labels, threshold=3)"
   ]
  },
  {
   "cell_type": "markdown",
   "metadata": {},
   "source": [
    "maxDepth=5, maxBins=32, minInstancesPerNode=1, minInfoGain=0.0, maxMemoryInMB=256, cacheNodeIds=False, checkpointInterval=10, impurity='gini', numTrees=20, featureSubsetStrategy='auto', seed=None, subsamplingRate=1.0"
   ]
  },
  {
   "cell_type": "markdown",
   "metadata": {},
   "source": [
    "### The Multilayer Perceptron Classifier model"
   ]
  },
  {
   "cell_type": "markdown",
   "metadata": {},
   "source": [
    "***class*** pyspark.ml.classification.**MultilayerPerceptronClassifier**(featuresCol='features', labelCol='label', predictionCol='prediction', `maxIter`=100, tol=1e-06, seed=None, layers=None, `blockSize`=128, `stepSize`=0.03, `solver`='l-bfgs', initialWeights=None, probabilityCol='probability', rawPredictionCol='rawPrediction')[source]¶"
   ]
  },
  {
   "cell_type": "code",
   "execution_count": 226,
   "metadata": {},
   "outputs": [
    {
     "name": "stdout",
     "output_type": "stream",
     "text": [
      "Fitting in progress... Done in 3 minute(s) and 36.55 second(s)\n",
      "\n",
      "Saving the model as MultilayerPerceptronClassifier.model... Done in 0.91 second(s)\n"
     ]
    }
   ],
   "source": [
    "# The Multilayer Perceptron Classifier model\n",
    "\n",
    "model = MultilayerPerceptronClassifier()\n",
    "\n",
    "param_grid = ParamGridBuilder() \\\n",
    "    .addGrid(model.blockSize,[64, 128]) \\\n",
    "    .addGrid(model.maxIter,[10, 20]) \\\n",
    "    .addGrid(model.stepSize ,[0.03, 0.01]) \\\n",
    "    .addGrid(model.solver ,['l-bfgs', 'gd']) \\\n",
    "    .addGrid(model.layers, [[37, 12, 2], [37, 5, 2]]) \\\n",
    "    .build()\n",
    "\n",
    "m = model_fitting(train, model, param_grid, 'MultilayerPerceptronClassifier.model')"
   ]
  },
  {
   "cell_type": "code",
   "execution_count": 228,
   "metadata": {},
   "outputs": [
    {
     "data": {
      "text/html": [
       "<div>\n",
       "<style scoped>\n",
       "    .dataframe tbody tr th:only-of-type {\n",
       "        vertical-align: middle;\n",
       "    }\n",
       "\n",
       "    .dataframe tbody tr th {\n",
       "        vertical-align: top;\n",
       "    }\n",
       "\n",
       "    .dataframe thead th {\n",
       "        text-align: right;\n",
       "    }\n",
       "</style>\n",
       "<table border=\"1\" class=\"dataframe\">\n",
       "  <thead>\n",
       "    <tr style=\"text-align: right;\">\n",
       "      <th></th>\n",
       "      <th>Train</th>\n",
       "      <th>Test</th>\n",
       "    </tr>\n",
       "  </thead>\n",
       "  <tbody>\n",
       "    <tr>\n",
       "      <th>Accuracy</th>\n",
       "      <td>0.988701</td>\n",
       "      <td>0.687500</td>\n",
       "    </tr>\n",
       "    <tr>\n",
       "      <th>Precision</th>\n",
       "      <td>1.000000</td>\n",
       "      <td>0.454545</td>\n",
       "    </tr>\n",
       "    <tr>\n",
       "      <th>Recall</th>\n",
       "      <td>0.947368</td>\n",
       "      <td>0.357143</td>\n",
       "    </tr>\n",
       "    <tr>\n",
       "      <th>F-Score</th>\n",
       "      <td>0.972973</td>\n",
       "      <td>0.400000</td>\n",
       "    </tr>\n",
       "  </tbody>\n",
       "</table>\n",
       "</div>"
      ],
      "text/plain": [
       "              Train      Test\n",
       "Accuracy   0.988701  0.687500\n",
       "Precision  1.000000  0.454545\n",
       "Recall     0.947368  0.357143\n",
       "F-Score    0.972973  0.400000"
      ]
     },
     "metadata": {},
     "output_type": "display_data"
    }
   ],
   "source": [
    "display(get_classifier_metrics(m, train, test))"
   ]
  },
  {
   "cell_type": "code",
   "execution_count": 230,
   "metadata": {},
   "outputs": [],
   "source": [
    "# draw_features_importance(m, features_labels)"
   ]
  },
  {
   "cell_type": "markdown",
   "metadata": {},
   "source": [
    "#### FAILED TO Draw\n",
    "'MultilayerPerceptronClassificationModel' object has no attribute 'featureImportances'"
   ]
  },
  {
   "cell_type": "markdown",
   "metadata": {},
   "source": [
    "### The NaiveBayes model"
   ]
  },
  {
   "cell_type": "markdown",
   "metadata": {},
   "source": [
    "***class*** pyspark.ml.classification.**NaiveBayes**(featuresCol='features', labelCol='label', predictionCol='prediction', probabilityCol='probability', rawPredictionCol='rawPrediction', `smoothing`=1.0, `modelType`='multinomial', thresholds=None, weightCol=None)[source]¶"
   ]
  },
  {
   "cell_type": "code",
   "execution_count": 202,
   "metadata": {},
   "outputs": [],
   "source": [
    "# The NaiveBayes model\n",
    "\n",
    "# model = NaiveBayes()\n",
    "# param_grid = ParamGridBuilder() \\\n",
    "#     .addGrid(model.smoothing ,[0.5, 1.0, 1.7, 3.0]) \\\n",
    "#     .addGrid(model.modelType ,['multinomial', 'bernoulli']) \\\n",
    "#     .build()\n",
    "\n",
    "# m = model_fitting(train, model, param_grid, 'NaiveBayes.model')"
   ]
  },
  {
   "cell_type": "markdown",
   "metadata": {},
   "source": [
    "#### *FAILED* (not suitable due to data nature)\n",
    "Naive Bayes requires nonnegative feature values but the features vector contains negative values!\n"
   ]
  },
  {
   "cell_type": "markdown",
   "metadata": {},
   "source": [
    "# Generalization of this analysis"
   ]
  },
  {
   "cell_type": "markdown",
   "metadata": {},
   "source": [
    "### *I have collected the important functions in `GeneralizeSparkify.py`. So, the analysis could be applied to different dataset on AmazonWS or other cloud sites.*\n",
    "\n",
    "#### First, import *Stage#1* command"
   ]
  },
  {
   "cell_type": "code",
   "execution_count": 4,
   "metadata": {},
   "outputs": [],
   "source": [
    "from GeneralizeSparkify import load_clean_transfer"
   ]
  },
  {
   "cell_type": "markdown",
   "metadata": {},
   "source": [
    "#### Assume we have new data named `'new_data.json'`, write this command:"
   ]
  },
  {
   "cell_type": "code",
   "execution_count": null,
   "metadata": {},
   "outputs": [],
   "source": [
    "load_clean_transfer('new_data.json', save_as='new_dat_extraction')"
   ]
  },
  {
   "cell_type": "markdown",
   "metadata": {},
   "source": [
    "#### This command will:\n",
    "1. read the data from the given source,\n",
    "1. clean the data\n",
    "1. save the cleaned dataset to the new name as `new_dat_extraction.CSV`"
   ]
  },
  {
   "cell_type": "markdown",
   "metadata": {},
   "source": [
    "#### Next, import *Stage#2* commands"
   ]
  },
  {
   "cell_type": "code",
   "execution_count": null,
   "metadata": {},
   "outputs": [],
   "source": [
    "from GeneralizeSparkify import load_ml_dataset, get_train_test_features, apply_model"
   ]
  },
  {
   "cell_type": "markdown",
   "metadata": {},
   "source": [
    "#### 2.1. We should load the saved extracted data `new_dat_extraction.CSV`"
   ]
  },
  {
   "cell_type": "code",
   "execution_count": null,
   "metadata": {},
   "outputs": [],
   "source": [
    "ml_ds = load_ml_dataset(saved_as='new_dat_extraction.CSV')"
   ]
  },
  {
   "cell_type": "markdown",
   "metadata": {},
   "source": [
    "#### 2.2 Then get the train, test portions and the features names"
   ]
  },
  {
   "cell_type": "code",
   "execution_count": null,
   "metadata": {},
   "outputs": [],
   "source": [
    "train, test, features_labels = get_train_test_features(ml_ds)"
   ]
  },
  {
   "cell_type": "markdown",
   "metadata": {},
   "source": [
    "#### 2.3 Finally, apply an ML model to the data\n",
    "***Either by creating the model:***"
   ]
  },
  {
   "cell_type": "code",
   "execution_count": null,
   "metadata": {},
   "outputs": [],
   "source": [
    "apply_model(train, test, features_labels, model_name='GBT',save_as='NewGBT.model')"
   ]
  },
  {
   "cell_type": "markdown",
   "metadata": {},
   "source": [
    "***Or by loading existing model***"
   ]
  },
  {
   "cell_type": "code",
   "execution_count": null,
   "metadata": {},
   "outputs": [],
   "source": [
    "apply_model(train, test, features_labels,model_name='LR', load_from_existing='LogisticRegression.model')"
   ]
  },
  {
   "cell_type": "markdown",
   "metadata": {},
   "source": [
    "# Conclusion"
   ]
  },
  {
   "cell_type": "markdown",
   "metadata": {},
   "source": [
    "The machine learning modeling succeeded in predicting the customers' activity that will most probably end in unsubscribing. Despite the good results of all the models, the Decision Tree Classifier model appears to be the best here. However, the other models need to be re-adjusted using different settings to reduce the overfitting."
   ]
  },
  {
   "cell_type": "markdown",
   "metadata": {},
   "source": [
    "## How to improve the current implementation?"
   ]
  },
  {
   "cell_type": "markdown",
   "metadata": {},
   "source": [
    "Despite the good results obtained from the current implementation, it is possible to improve the results by doing one or more of the following:\n",
    "1. Working with more observations by increasing the dataset size (which is possible in our case by working with the 12GB full dataset)\n",
    "1. Trying more parameters of the selected models.\n",
    "1. Adding some more features that I believe essential, like the *customer location* (city/state). The customers of some states appear to have more ability to churn than others; this might be attributed to the nature of life there, some lifestyle profiles force people to be rapidly bored, and thus they like to change the services they use, and trying to try other services. On the other hand, peaceful environment make people settled with what they have and resist change."
   ]
  },
  {
   "cell_type": "code",
   "execution_count": null,
   "metadata": {},
   "outputs": [],
   "source": []
  },
  {
   "cell_type": "markdown",
   "metadata": {},
   "source": [
    "# Final Steps\n",
    "Clean up your code, adding comments and renaming variables to make the code easier to read and maintain. Refer to the Spark Project Overview page and Data Scientist Capstone Project Rubric to make sure you are including all components of the capstone project and meet all expectations. Remember, this includes thorough documentation in a README file in a Github repository, as well as a web app or blog post."
   ]
  },
  {
   "cell_type": "markdown",
   "metadata": {},
   "source": [
    "***DONE***"
   ]
  },
  {
   "cell_type": "code",
   "execution_count": null,
   "metadata": {},
   "outputs": [],
   "source": []
  }
 ],
 "metadata": {
  "kernelspec": {
   "display_name": "Python 3",
   "language": "python",
   "name": "python3"
  },
  "language_info": {
   "codemirror_mode": {
    "name": "ipython",
    "version": 3
   },
   "file_extension": ".py",
   "mimetype": "text/x-python",
   "name": "python",
   "nbconvert_exporter": "python",
   "pygments_lexer": "ipython3",
   "version": "3.6.3"
  }
 },
 "nbformat": 4,
 "nbformat_minor": 2
}
